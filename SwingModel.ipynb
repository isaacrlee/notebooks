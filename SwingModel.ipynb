{
  "nbformat": 4,
  "nbformat_minor": 0,
  "metadata": {
    "colab": {
      "name": "SwingModel",
      "provenance": [],
      "collapsed_sections": [],
      "toc_visible": true,
      "mount_file_id": "1mBVyzavBNL1dnSHzx1PA32ZlBSeaRq9X",
      "authorship_tag": "ABX9TyNr0JMvGf82PuP+VSPYiVF9"
    },
    "kernelspec": {
      "display_name": "Python 3",
      "name": "python3"
    }
  },
  "cells": [
    {
      "cell_type": "markdown",
      "metadata": {
        "id": "V0xsD_DGFA-t"
      },
      "source": [
        "#Swing Model\n",
        "Goal: Create a model to predict whether a batter will swing at a pitch\n",
        "\n",
        "This notebook was created using Google Colaboratory."
      ]
    },
    {
      "cell_type": "markdown",
      "metadata": {
        "id": "aul3cH6mik2V"
      },
      "source": [
        "Install and import packages"
      ]
    },
    {
      "cell_type": "code",
      "metadata": {
        "id": "DADBm4NZyIIX",
        "outputId": "64557567-aa5f-4336-e6f7-b00e0aedc4f6",
        "colab": {
          "base_uri": "https://localhost:8080/",
          "height": 1000
        }
      },
      "source": [
        "!pip install \"fastai>=2\"\n",
        "!pip install geopandas\n",
        "!pip install rfpimp\n",
        "\n",
        "from fastai.tabular.all import *\n",
        "import geopandas as gpd\n",
        "import pandas as pd\n",
        "from rfpimp import *\n",
        "from shapely.geometry import box, Point\n",
        "from sklearn.ensemble import RandomForestClassifier\n",
        "from sklearn.linear_model import LogisticRegression\n",
        "from sklearn.metrics import accuracy_score, classification_report, confusion_matrix, roc_auc_score\n",
        "from sklearn.model_selection import GridSearchCV, train_test_split\n",
        "from sklearn.neighbors import KNeighborsClassifier\n",
        "from sklearn.tree import DecisionTreeClassifier\n",
        "import xgboost as xgb"
      ],
      "execution_count": 1,
      "outputs": [
        {
          "output_type": "stream",
          "text": [
            "Requirement already satisfied: fastai>=2 in /usr/local/lib/python3.6/dist-packages (2.0.16)\n",
            "Requirement already satisfied: spacy in /usr/local/lib/python3.6/dist-packages (from fastai>=2) (2.2.4)\n",
            "Requirement already satisfied: pandas in /usr/local/lib/python3.6/dist-packages (from fastai>=2) (1.1.2)\n",
            "Requirement already satisfied: pip in /usr/local/lib/python3.6/dist-packages (from fastai>=2) (19.3.1)\n",
            "Requirement already satisfied: scipy in /usr/local/lib/python3.6/dist-packages (from fastai>=2) (1.4.1)\n",
            "Requirement already satisfied: packaging in /usr/local/lib/python3.6/dist-packages (from fastai>=2) (20.4)\n",
            "Requirement already satisfied: torch>=1.6.0 in /usr/local/lib/python3.6/dist-packages (from fastai>=2) (1.6.0+cu101)\n",
            "Requirement already satisfied: pyyaml in /usr/local/lib/python3.6/dist-packages (from fastai>=2) (3.13)\n",
            "Requirement already satisfied: pillow in /usr/local/lib/python3.6/dist-packages (from fastai>=2) (7.0.0)\n",
            "Requirement already satisfied: torchvision>=0.7 in /usr/local/lib/python3.6/dist-packages (from fastai>=2) (0.7.0+cu101)\n",
            "Requirement already satisfied: scikit-learn in /usr/local/lib/python3.6/dist-packages (from fastai>=2) (0.22.2.post1)\n",
            "Requirement already satisfied: fastcore>=1.1.0 in /usr/local/lib/python3.6/dist-packages (from fastai>=2) (1.2.2)\n",
            "Requirement already satisfied: requests in /usr/local/lib/python3.6/dist-packages (from fastai>=2) (2.23.0)\n",
            "Requirement already satisfied: fastprogress>=0.2.4 in /usr/local/lib/python3.6/dist-packages (from fastai>=2) (1.0.0)\n",
            "Requirement already satisfied: matplotlib in /usr/local/lib/python3.6/dist-packages (from fastai>=2) (3.2.2)\n",
            "Requirement already satisfied: catalogue<1.1.0,>=0.0.7 in /usr/local/lib/python3.6/dist-packages (from spacy->fastai>=2) (1.0.0)\n",
            "Requirement already satisfied: plac<1.2.0,>=0.9.6 in /usr/local/lib/python3.6/dist-packages (from spacy->fastai>=2) (1.1.3)\n",
            "Requirement already satisfied: blis<0.5.0,>=0.4.0 in /usr/local/lib/python3.6/dist-packages (from spacy->fastai>=2) (0.4.1)\n",
            "Requirement already satisfied: srsly<1.1.0,>=1.0.2 in /usr/local/lib/python3.6/dist-packages (from spacy->fastai>=2) (1.0.2)\n",
            "Requirement already satisfied: numpy>=1.15.0 in /usr/local/lib/python3.6/dist-packages (from spacy->fastai>=2) (1.18.5)\n",
            "Requirement already satisfied: cymem<2.1.0,>=2.0.2 in /usr/local/lib/python3.6/dist-packages (from spacy->fastai>=2) (2.0.3)\n",
            "Requirement already satisfied: setuptools in /usr/local/lib/python3.6/dist-packages (from spacy->fastai>=2) (50.3.0)\n",
            "Requirement already satisfied: preshed<3.1.0,>=3.0.2 in /usr/local/lib/python3.6/dist-packages (from spacy->fastai>=2) (3.0.2)\n",
            "Requirement already satisfied: murmurhash<1.1.0,>=0.28.0 in /usr/local/lib/python3.6/dist-packages (from spacy->fastai>=2) (1.0.2)\n",
            "Requirement already satisfied: wasabi<1.1.0,>=0.4.0 in /usr/local/lib/python3.6/dist-packages (from spacy->fastai>=2) (0.8.0)\n",
            "Requirement already satisfied: tqdm<5.0.0,>=4.38.0 in /usr/local/lib/python3.6/dist-packages (from spacy->fastai>=2) (4.41.1)\n",
            "Requirement already satisfied: thinc==7.4.0 in /usr/local/lib/python3.6/dist-packages (from spacy->fastai>=2) (7.4.0)\n",
            "Requirement already satisfied: pytz>=2017.2 in /usr/local/lib/python3.6/dist-packages (from pandas->fastai>=2) (2018.9)\n",
            "Requirement already satisfied: python-dateutil>=2.7.3 in /usr/local/lib/python3.6/dist-packages (from pandas->fastai>=2) (2.8.1)\n",
            "Requirement already satisfied: six in /usr/local/lib/python3.6/dist-packages (from packaging->fastai>=2) (1.15.0)\n",
            "Requirement already satisfied: pyparsing>=2.0.2 in /usr/local/lib/python3.6/dist-packages (from packaging->fastai>=2) (2.4.7)\n",
            "Requirement already satisfied: future in /usr/local/lib/python3.6/dist-packages (from torch>=1.6.0->fastai>=2) (0.16.0)\n",
            "Requirement already satisfied: joblib>=0.11 in /usr/local/lib/python3.6/dist-packages (from scikit-learn->fastai>=2) (0.16.0)\n",
            "Requirement already satisfied: chardet<4,>=3.0.2 in /usr/local/lib/python3.6/dist-packages (from requests->fastai>=2) (3.0.4)\n",
            "Requirement already satisfied: idna<3,>=2.5 in /usr/local/lib/python3.6/dist-packages (from requests->fastai>=2) (2.10)\n",
            "Requirement already satisfied: urllib3!=1.25.0,!=1.25.1,<1.26,>=1.21.1 in /usr/local/lib/python3.6/dist-packages (from requests->fastai>=2) (1.24.3)\n",
            "Requirement already satisfied: certifi>=2017.4.17 in /usr/local/lib/python3.6/dist-packages (from requests->fastai>=2) (2020.6.20)\n",
            "Requirement already satisfied: kiwisolver>=1.0.1 in /usr/local/lib/python3.6/dist-packages (from matplotlib->fastai>=2) (1.2.0)\n",
            "Requirement already satisfied: cycler>=0.10 in /usr/local/lib/python3.6/dist-packages (from matplotlib->fastai>=2) (0.10.0)\n",
            "Requirement already satisfied: importlib-metadata>=0.20; python_version < \"3.8\" in /usr/local/lib/python3.6/dist-packages (from catalogue<1.1.0,>=0.0.7->spacy->fastai>=2) (2.0.0)\n",
            "Requirement already satisfied: zipp>=0.5 in /usr/local/lib/python3.6/dist-packages (from importlib-metadata>=0.20; python_version < \"3.8\"->catalogue<1.1.0,>=0.0.7->spacy->fastai>=2) (3.2.0)\n",
            "Requirement already satisfied: geopandas in /usr/local/lib/python3.6/dist-packages (0.8.1)\n",
            "Requirement already satisfied: pandas>=0.23.0 in /usr/local/lib/python3.6/dist-packages (from geopandas) (1.1.2)\n",
            "Requirement already satisfied: fiona in /usr/local/lib/python3.6/dist-packages (from geopandas) (1.8.17)\n",
            "Requirement already satisfied: pyproj>=2.2.0 in /usr/local/lib/python3.6/dist-packages (from geopandas) (2.6.1.post1)\n",
            "Requirement already satisfied: shapely in /usr/local/lib/python3.6/dist-packages (from geopandas) (1.7.1)\n",
            "Requirement already satisfied: numpy>=1.15.4 in /usr/local/lib/python3.6/dist-packages (from pandas>=0.23.0->geopandas) (1.18.5)\n",
            "Requirement already satisfied: pytz>=2017.2 in /usr/local/lib/python3.6/dist-packages (from pandas>=0.23.0->geopandas) (2018.9)\n",
            "Requirement already satisfied: python-dateutil>=2.7.3 in /usr/local/lib/python3.6/dist-packages (from pandas>=0.23.0->geopandas) (2.8.1)\n",
            "Requirement already satisfied: attrs>=17 in /usr/local/lib/python3.6/dist-packages (from fiona->geopandas) (20.2.0)\n",
            "Requirement already satisfied: munch in /usr/local/lib/python3.6/dist-packages (from fiona->geopandas) (2.5.0)\n",
            "Requirement already satisfied: six>=1.7 in /usr/local/lib/python3.6/dist-packages (from fiona->geopandas) (1.15.0)\n",
            "Requirement already satisfied: click-plugins>=1.0 in /usr/local/lib/python3.6/dist-packages (from fiona->geopandas) (1.1.1)\n",
            "Requirement already satisfied: cligj>=0.5 in /usr/local/lib/python3.6/dist-packages (from fiona->geopandas) (0.6.0)\n",
            "Requirement already satisfied: click<8,>=4.0 in /usr/local/lib/python3.6/dist-packages (from fiona->geopandas) (7.1.2)\n",
            "Requirement already satisfied: rfpimp in /usr/local/lib/python3.6/dist-packages (1.3.5)\n",
            "Requirement already satisfied: numpy in /usr/local/lib/python3.6/dist-packages (from rfpimp) (1.18.5)\n",
            "Requirement already satisfied: stratx>=0.2 in /usr/local/lib/python3.6/dist-packages (from rfpimp) (0.5)\n",
            "Requirement already satisfied: scikit-learn in /usr/local/lib/python3.6/dist-packages (from rfpimp) (0.22.2.post1)\n",
            "Requirement already satisfied: matplotlib in /usr/local/lib/python3.6/dist-packages (from rfpimp) (3.2.2)\n",
            "Requirement already satisfied: pandas in /usr/local/lib/python3.6/dist-packages (from rfpimp) (1.1.2)\n",
            "Requirement already satisfied: scipy in /usr/local/lib/python3.6/dist-packages (from stratx>=0.2->rfpimp) (1.4.1)\n",
            "Requirement already satisfied: numba in /usr/local/lib/python3.6/dist-packages (from stratx>=0.2->rfpimp) (0.48.0)\n",
            "Requirement already satisfied: colour in /usr/local/lib/python3.6/dist-packages (from stratx>=0.2->rfpimp) (0.1.5)\n",
            "Requirement already satisfied: joblib>=0.11 in /usr/local/lib/python3.6/dist-packages (from scikit-learn->rfpimp) (0.16.0)\n",
            "Requirement already satisfied: cycler>=0.10 in /usr/local/lib/python3.6/dist-packages (from matplotlib->rfpimp) (0.10.0)\n",
            "Requirement already satisfied: kiwisolver>=1.0.1 in /usr/local/lib/python3.6/dist-packages (from matplotlib->rfpimp) (1.2.0)\n",
            "Requirement already satisfied: pyparsing!=2.0.4,!=2.1.2,!=2.1.6,>=2.0.1 in /usr/local/lib/python3.6/dist-packages (from matplotlib->rfpimp) (2.4.7)\n",
            "Requirement already satisfied: python-dateutil>=2.1 in /usr/local/lib/python3.6/dist-packages (from matplotlib->rfpimp) (2.8.1)\n",
            "Requirement already satisfied: pytz>=2017.2 in /usr/local/lib/python3.6/dist-packages (from pandas->rfpimp) (2018.9)\n",
            "Requirement already satisfied: setuptools in /usr/local/lib/python3.6/dist-packages (from numba->stratx>=0.2->rfpimp) (50.3.0)\n",
            "Requirement already satisfied: llvmlite<0.32.0,>=0.31.0dev0 in /usr/local/lib/python3.6/dist-packages (from numba->stratx>=0.2->rfpimp) (0.31.0)\n",
            "Requirement already satisfied: six in /usr/local/lib/python3.6/dist-packages (from cycler>=0.10->matplotlib->rfpimp) (1.15.0)\n"
          ],
          "name": "stdout"
        },
        {
          "output_type": "stream",
          "text": [
            "/usr/local/lib/python3.6/dist-packages/sklearn/utils/deprecation.py:144: FutureWarning: The sklearn.ensemble.forest module is  deprecated in version 0.22 and will be removed in version 0.24. The corresponding classes / functions should instead be imported from sklearn.ensemble. Anything that cannot be imported from sklearn.ensemble is now part of the private API.\n",
            "  warnings.warn(message, FutureWarning)\n"
          ],
          "name": "stderr"
        }
      ]
    },
    {
      "cell_type": "markdown",
      "metadata": {
        "id": "B0ufImp8iqc4"
      },
      "source": [
        "Read the training data set. Parse the date column as dates instead of strings."
      ]
    },
    {
      "cell_type": "code",
      "metadata": {
        "id": "qZ1oljxTFMXS",
        "outputId": "fb70771e-cb53-43fd-b389-19726d5361d7",
        "colab": {
          "base_uri": "https://localhost:8080/",
          "height": 309
        }
      },
      "source": [
        "df = pd.read_csv(\"/content/drive/My Drive/Data/2021-train.csv\", parse_dates=[\"date\"])\n",
        "df.head()"
      ],
      "execution_count": 2,
      "outputs": [
        {
          "output_type": "execute_result",
          "data": {
            "text/html": [
              "<div>\n",
              "<style scoped>\n",
              "    .dataframe tbody tr th:only-of-type {\n",
              "        vertical-align: middle;\n",
              "    }\n",
              "\n",
              "    .dataframe tbody tr th {\n",
              "        vertical-align: top;\n",
              "    }\n",
              "\n",
              "    .dataframe thead th {\n",
              "        text-align: right;\n",
              "    }\n",
              "</style>\n",
              "<table border=\"1\" class=\"dataframe\">\n",
              "  <thead>\n",
              "    <tr style=\"text-align: right;\">\n",
              "      <th></th>\n",
              "      <th>date</th>\n",
              "      <th>level</th>\n",
              "      <th>pitcher_id</th>\n",
              "      <th>pitcher_side</th>\n",
              "      <th>batter_id</th>\n",
              "      <th>batter_side</th>\n",
              "      <th>stadium_id</th>\n",
              "      <th>umpire_id</th>\n",
              "      <th>catcher_id</th>\n",
              "      <th>inning</th>\n",
              "      <th>top_bottom</th>\n",
              "      <th>outs</th>\n",
              "      <th>balls</th>\n",
              "      <th>strikes</th>\n",
              "      <th>release_speed</th>\n",
              "      <th>vert_release_angle</th>\n",
              "      <th>horz_release_angle</th>\n",
              "      <th>spin_rate</th>\n",
              "      <th>spin_axis</th>\n",
              "      <th>tilt</th>\n",
              "      <th>rel_height</th>\n",
              "      <th>rel_side</th>\n",
              "      <th>extension</th>\n",
              "      <th>vert_break</th>\n",
              "      <th>induced_vert_break</th>\n",
              "      <th>horz_break</th>\n",
              "      <th>plate_height</th>\n",
              "      <th>plate_side</th>\n",
              "      <th>zone_speed</th>\n",
              "      <th>vert_approach_angle</th>\n",
              "      <th>horz_approach_angle</th>\n",
              "      <th>x55</th>\n",
              "      <th>y55</th>\n",
              "      <th>z55</th>\n",
              "      <th>pitch_type</th>\n",
              "      <th>pitch_call</th>\n",
              "      <th>pitch_id</th>\n",
              "    </tr>\n",
              "  </thead>\n",
              "  <tbody>\n",
              "    <tr>\n",
              "      <th>0</th>\n",
              "      <td>2019-04-30</td>\n",
              "      <td>MLB</td>\n",
              "      <td>5081ca93</td>\n",
              "      <td>Right</td>\n",
              "      <td>5bf361ca</td>\n",
              "      <td>Right</td>\n",
              "      <td>402559d3</td>\n",
              "      <td>4ff102e5</td>\n",
              "      <td>65ac286a</td>\n",
              "      <td>1</td>\n",
              "      <td>2</td>\n",
              "      <td>0.0</td>\n",
              "      <td>3</td>\n",
              "      <td>2</td>\n",
              "      <td>97.553703</td>\n",
              "      <td>-2.589460</td>\n",
              "      <td>-4.05425</td>\n",
              "      <td>2561.209961</td>\n",
              "      <td>217.522003</td>\n",
              "      <td>1:15</td>\n",
              "      <td>5.79008</td>\n",
              "      <td>2.03434</td>\n",
              "      <td>6.70482</td>\n",
              "      <td>-9.076600</td>\n",
              "      <td>19.322001</td>\n",
              "      <td>13.314900</td>\n",
              "      <td>2.59843</td>\n",
              "      <td>-0.543338</td>\n",
              "      <td>88.975403</td>\n",
              "      <td>-4.33686</td>\n",
              "      <td>-1.51515</td>\n",
              "      <td>-2.10376</td>\n",
              "      <td>55</td>\n",
              "      <td>5.84545</td>\n",
              "      <td>FA</td>\n",
              "      <td>InPlay</td>\n",
              "      <td>a89b9e68</td>\n",
              "    </tr>\n",
              "    <tr>\n",
              "      <th>1</th>\n",
              "      <td>2019-04-15</td>\n",
              "      <td>MLB</td>\n",
              "      <td>0bf5d3c5</td>\n",
              "      <td>Left</td>\n",
              "      <td>7c67a595</td>\n",
              "      <td>Left</td>\n",
              "      <td>d0d69f32</td>\n",
              "      <td>51a1c7ee</td>\n",
              "      <td>5e710b9e</td>\n",
              "      <td>7</td>\n",
              "      <td>2</td>\n",
              "      <td>2.0</td>\n",
              "      <td>0</td>\n",
              "      <td>0</td>\n",
              "      <td>87.313202</td>\n",
              "      <td>-1.179160</td>\n",
              "      <td>4.82753</td>\n",
              "      <td>2247.100098</td>\n",
              "      <td>177.750000</td>\n",
              "      <td>11:15</td>\n",
              "      <td>5.63548</td>\n",
              "      <td>-3.49087</td>\n",
              "      <td>5.20301</td>\n",
              "      <td>-30.060301</td>\n",
              "      <td>7.268020</td>\n",
              "      <td>-0.115828</td>\n",
              "      <td>1.99893</td>\n",
              "      <td>1.007350</td>\n",
              "      <td>81.046799</td>\n",
              "      <td>-6.67492</td>\n",
              "      <td>4.81739</td>\n",
              "      <td>3.44978</td>\n",
              "      <td>55</td>\n",
              "      <td>5.62918</td>\n",
              "      <td>FA</td>\n",
              "      <td>BallCalled</td>\n",
              "      <td>eaad389f</td>\n",
              "    </tr>\n",
              "    <tr>\n",
              "      <th>2</th>\n",
              "      <td>2019-05-26</td>\n",
              "      <td>MLB</td>\n",
              "      <td>0bf5d3c5</td>\n",
              "      <td>Left</td>\n",
              "      <td>de9d396f</td>\n",
              "      <td>Left</td>\n",
              "      <td>0c59f5af</td>\n",
              "      <td>3007964d</td>\n",
              "      <td>44924919</td>\n",
              "      <td>9</td>\n",
              "      <td>1</td>\n",
              "      <td>2.0</td>\n",
              "      <td>2</td>\n",
              "      <td>0</td>\n",
              "      <td>87.972099</td>\n",
              "      <td>-0.233382</td>\n",
              "      <td>4.33500</td>\n",
              "      <td>2248.639893</td>\n",
              "      <td>156.802994</td>\n",
              "      <td>11:00</td>\n",
              "      <td>5.50421</td>\n",
              "      <td>-3.81458</td>\n",
              "      <td>5.34483</td>\n",
              "      <td>-33.184399</td>\n",
              "      <td>3.828020</td>\n",
              "      <td>-1.352580</td>\n",
              "      <td>2.47228</td>\n",
              "      <td>0.225512</td>\n",
              "      <td>80.809196</td>\n",
              "      <td>-6.34958</td>\n",
              "      <td>4.08914</td>\n",
              "      <td>3.80582</td>\n",
              "      <td>55</td>\n",
              "      <td>5.50533</td>\n",
              "      <td>FA</td>\n",
              "      <td>InPlay</td>\n",
              "      <td>c8159d29</td>\n",
              "    </tr>\n",
              "    <tr>\n",
              "      <th>3</th>\n",
              "      <td>2019-05-27</td>\n",
              "      <td>MLB</td>\n",
              "      <td>af735dc4</td>\n",
              "      <td>Left</td>\n",
              "      <td>073c2b16</td>\n",
              "      <td>Right</td>\n",
              "      <td>a3f610ed</td>\n",
              "      <td>af66b76d</td>\n",
              "      <td>b05114c7</td>\n",
              "      <td>7</td>\n",
              "      <td>1</td>\n",
              "      <td>1.0</td>\n",
              "      <td>1</td>\n",
              "      <td>0</td>\n",
              "      <td>82.573303</td>\n",
              "      <td>0.451363</td>\n",
              "      <td>1.91461</td>\n",
              "      <td>1663.199951</td>\n",
              "      <td>161.953003</td>\n",
              "      <td>11:00</td>\n",
              "      <td>5.95604</td>\n",
              "      <td>-2.43185</td>\n",
              "      <td>6.50586</td>\n",
              "      <td>-37.207699</td>\n",
              "      <td>2.881010</td>\n",
              "      <td>0.073768</td>\n",
              "      <td>3.26562</td>\n",
              "      <td>-0.699844</td>\n",
              "      <td>75.435699</td>\n",
              "      <td>-6.59651</td>\n",
              "      <td>1.92897</td>\n",
              "      <td>2.49333</td>\n",
              "      <td>55</td>\n",
              "      <td>5.94996</td>\n",
              "      <td>SL</td>\n",
              "      <td>StrikeSwinging</td>\n",
              "      <td>e5cde642</td>\n",
              "    </tr>\n",
              "    <tr>\n",
              "      <th>4</th>\n",
              "      <td>2019-05-11</td>\n",
              "      <td>MLB</td>\n",
              "      <td>07d9667f</td>\n",
              "      <td>Right</td>\n",
              "      <td>4f03de7c</td>\n",
              "      <td>Right</td>\n",
              "      <td>402559d3</td>\n",
              "      <td>9d34b92a</td>\n",
              "      <td>016c0582</td>\n",
              "      <td>1</td>\n",
              "      <td>1</td>\n",
              "      <td>2.0</td>\n",
              "      <td>0</td>\n",
              "      <td>1</td>\n",
              "      <td>94.043198</td>\n",
              "      <td>-2.245080</td>\n",
              "      <td>-3.89307</td>\n",
              "      <td>2012.119995</td>\n",
              "      <td>190.309998</td>\n",
              "      <td>12:30</td>\n",
              "      <td>6.55957</td>\n",
              "      <td>2.53991</td>\n",
              "      <td>5.77950</td>\n",
              "      <td>-16.571501</td>\n",
              "      <td>15.050800</td>\n",
              "      <td>2.989490</td>\n",
              "      <td>3.01680</td>\n",
              "      <td>-0.848172</td>\n",
              "      <td>86.338600</td>\n",
              "      <td>-5.34015</td>\n",
              "      <td>-3.33303</td>\n",
              "      <td>-2.53086</td>\n",
              "      <td>55</td>\n",
              "      <td>6.57091</td>\n",
              "      <td>FA</td>\n",
              "      <td>StrikeSwinging</td>\n",
              "      <td>7c9410bd</td>\n",
              "    </tr>\n",
              "  </tbody>\n",
              "</table>\n",
              "</div>"
            ],
            "text/plain": [
              "        date level pitcher_id  ... pitch_type      pitch_call  pitch_id\n",
              "0 2019-04-30   MLB   5081ca93  ...         FA          InPlay  a89b9e68\n",
              "1 2019-04-15   MLB   0bf5d3c5  ...         FA      BallCalled  eaad389f\n",
              "2 2019-05-26   MLB   0bf5d3c5  ...         FA          InPlay  c8159d29\n",
              "3 2019-05-27   MLB   af735dc4  ...         SL  StrikeSwinging  e5cde642\n",
              "4 2019-05-11   MLB   07d9667f  ...         FA  StrikeSwinging  7c9410bd\n",
              "\n",
              "[5 rows x 37 columns]"
            ]
          },
          "metadata": {
            "tags": []
          },
          "execution_count": 2
        }
      ]
    },
    {
      "cell_type": "markdown",
      "metadata": {
        "id": "1jeLs3qei6po"
      },
      "source": [
        "### Data preprocessing\n"
      ]
    },
    {
      "cell_type": "markdown",
      "metadata": {
        "id": "FsVGzeW-vDSl"
      },
      "source": [
        "Add a feature for each batter's cumulative swing rate up through the day before a pitch."
      ]
    },
    {
      "cell_type": "code",
      "metadata": {
        "id": "5R92Nr5XYVt0"
      },
      "source": [
        "# Calculate global mean for swing rate\n",
        "mean_swing_rate = df.pitch_call.isin([\"FoulBall\", \"InPlay\", \"StrikeSwinging\"]).sum() / len(df.index)\n",
        "\n",
        "# Calculate aggregated batter stats up to date\n",
        "df_batter_stats = (\n",
        "    df\n",
        "    .assign(\n",
        "        is_swing = lambda d: d.pitch_call.isin([\"FoulBall\", \"InPlay\", \"StrikeSwinging\"]).astype(int),\n",
        "        n = True\n",
        "    )\n",
        "    .loc[:, [\"date\", \"batter_id\", \"is_swing\", \"n\"]]\n",
        "    .groupby([\"date\", \"batter_id\", ])\n",
        "    .sum()\n",
        "    .unstack([\"batter_id\"])\n",
        "    .cumsum()\n",
        "    .fillna(method=\"ffill\")\n",
        "    .fillna(0)\n",
        ")\n",
        "\n",
        "df_swing_rates = (\n",
        "    df_batter_stats\n",
        "    .loc[:, \"is_swing\"].div(df_batter_stats.loc[:, \"n\"])\n",
        "    .fillna(mean_swing_rate)\n",
        ")\n",
        "\n",
        "df_swing_rates\n",
        "\n",
        "def get_swing_rate(row):\n",
        "  # find swing rate up through previous day\n",
        "  date = row.date - pd.Timedelta(days=1)\n",
        "\n",
        "  if date in df_swing_rates.index:\n",
        "    return df_swing_rates[row.batter_id][date]\n",
        "  \n",
        "  return mean_swing_rate\n",
        "\n",
        "def get_swing_rate_test(row):\n",
        "  # find swing rate up through training set (2019-06-30)\n",
        "  return df_swing_rates[row.batter_id][\"2019-06-30\"]"
      ],
      "execution_count": 3,
      "outputs": []
    },
    {
      "cell_type": "markdown",
      "metadata": {
        "id": "0P0erD8Mu-wX"
      },
      "source": [
        "Cleaning/preprocessing:\n",
        "* Correcting `batter_side` and `pitcher_side` columns that are still set to `S`\n",
        "* If using the `attack_zone` feature (see appendix), merging the `attack_zone` column\n",
        "* If using the `balls_strikes` feature, create that column\n",
        "* Cleaning the `tilt` column to have a consistent format\n",
        "* Adding `*na` columns for features that have missing values\n",
        "* Adding a `balls_strikes` column\n",
        "* Adding the `is_swing` column\n",
        "* Filling missing values\n",
        "  * For `outs`, I just used `0` (since this is also the mode).\n",
        "  * For `spin_rate`, I just used the median. There are probably better ways to fill the almost 18,000 missing spin rates, but because `spin_rate` doesn't seem to be that important of a feature, I just used the median.\n",
        "  * For `tilt` I used the mode\n",
        "  * For `plate_height` and `plate_side`, there really isn't a great to fill the data, so I used the median\n",
        "  * Same for `pitch_type`, so I used the mode\n",
        "* Now that we have filled missing values in the `outs` column, we can cast the column to `int`\n",
        "* Correct cases where `outs` is set to `3`, balls is set to `4`, and strikes is set to `2`\n",
        "* Cast categorical features as categories\n",
        "* Replace the categorical features with their category codes. Note, `level`, `inning`, `outs`, `balls`, `strikes`, `tilt`, and `balls_strikes` are set as ordered categories.\n",
        "* Drop unused columns\n",
        "* Sort by date and reset the index"
      ]
    },
    {
      "cell_type": "code",
      "metadata": {
        "id": "nAbmWzEIhYz_",
        "outputId": "5a7aa93a-c062-43aa-e25d-fa9613f80373",
        "colab": {
          "base_uri": "https://localhost:8080/",
          "height": 339
        }
      },
      "source": [
        "df.loc[(df.batter_side == \"S\") & (df.pitcher_side == \"Right\"), \"batter_side\"] = \"Left\"\n",
        "df.loc[(df.batter_side == \"S\") & (df.pitcher_side == \"Left\"), \"batter_side\"] = \"Right\" \n",
        "df.loc[(df.pitcher_side == \"S\") & (df.batter_side == \"Right\"), \"pitcher_side\"] = \"Left\"\n",
        "df.loc[(df.pitcher_side == \"S\") & (df.batter_side == \"Left\"), \"pitcher_side\"] = \"Right\"\n",
        "\n",
        "df_clean = (\n",
        "    df\n",
        "    # .merge(df_attack_zone, how=\"left\", on=\"pitch_id\")\n",
        "    .assign(\n",
        "      tilt = lambda d: d.tilt.str.slice(stop=5).str.zfill(5),\n",
        "      outs_na = df.outs.isna(), # 132\n",
        "      spin_rate_na = df.spin_rate.isna(), # 17878\n",
        "      tilt_na = df.tilt.isna(), # 664\n",
        "      plate_height_na = df.plate_height.isna(), # 528\n",
        "      plate_side_na = df.plate_side.isna(), # 528\n",
        "      pitch_type_na = df.pitch_type.isna(), # 556\n",
        "      swing_rate = lambda d: d.apply(get_swing_rate, axis=1),\n",
        "      # is_2_strikes = df.strikes == 2,\n",
        "      # is_3_balls = df.balls == 3,\n",
        "      # balls_strikes = lambda d: d.balls.astype(str) + \"_\" + d.strikes.astype(str),\n",
        "      is_swing = lambda d: d.pitch_call.isin([\"FoulBall\", \"InPlay\", \"StrikeSwinging\"]).astype(int)\n",
        "    )\n",
        "    .fillna({\n",
        "        \"outs\": 0.0,\n",
        "        \"spin_rate\": df.spin_rate.median(),\n",
        "        \"tilt\": df.tilt.str.slice(stop=5).str.zfill(5).mode(),\n",
        "        \"plate_height\": df.plate_height.median(),\n",
        "        \"plate_side\": df.plate_side.median(),\n",
        "        \"pitch_type\": df.pitch_type.mode()[0],\n",
        "      })\n",
        "    .astype({\"outs\": \"int\"})\n",
        "    .replace({\n",
        "        \"outs\": {\n",
        "            3: 2\n",
        "        },\n",
        "        \"balls\": {\n",
        "            4: 3\n",
        "        },\n",
        "        \"strikes\": {\n",
        "            3: 2\n",
        "        },\n",
        "    },)\n",
        "    .astype({\n",
        "        \"level\": \"category\",\n",
        "        # \"pitcher_id\": \"category\",\n",
        "        \"pitcher_side\": \"category\",\n",
        "        # \"batter_id\": \"category\",\n",
        "        \"batter_side\": \"category\",\n",
        "        # \"stadium_id\": \"category\",\n",
        "        # \"umpire_id\": \"category\",\n",
        "        # \"catcher_id\": \"category\",\n",
        "        \"inning\": \"category\",\n",
        "        \"top_bottom\": \"category\",\n",
        "        \"outs\": \"category\",\n",
        "        \"balls\": \"category\",\n",
        "        \"strikes\": \"category\",\n",
        "        \"tilt\": \"category\",\n",
        "        \"strikes\": \"category\",\n",
        "        \"pitch_type\": \"category\",\n",
        "        # \"is_2_strikes\": \"category\",\n",
        "        # \"is_3_balls\": \"category\",\n",
        "        # \"balls_strikes\": \"category\",\n",
        "        # \"attack_zone\": \"category\"\n",
        "    })\n",
        "    .assign(\n",
        "      level = lambda d: d.level.cat.as_ordered().cat.codes + 1,\n",
        "      # pitcher_id = lambda d: d.pitcher_id.cat.codes + 1,\n",
        "      pitcher_side = lambda d: d.pitcher_side.cat.codes + 1,\n",
        "      # batter_id = lambda d: d.batter_id.cat.codes + 1,\n",
        "      batter_side = lambda d: d.batter_side.cat.codes + 1,\n",
        "      # stadium_id = lambda d: d.stadium_id.cat.codes + 1,\n",
        "      # umpire_id = lambda d: d.umpire_id.cat.codes + 1,\n",
        "      # catcher_id = lambda d: d.catcher_id.cat.codes + 1,\n",
        "      inning = lambda d: d.inning.cat.as_ordered().cat.codes + 1,\n",
        "      top_bottom = lambda d: d.top_bottom.cat.codes + 1,\n",
        "      outs = lambda d: d.outs.cat.as_ordered().cat.codes + 1,\n",
        "      balls = lambda d: d.balls.cat.as_ordered().cat.codes + 1,\n",
        "      strikes = lambda d: d.strikes.cat.as_ordered().cat.codes + 1,\n",
        "      tilt = lambda d: d.tilt.cat.as_ordered().cat.codes + 1,\n",
        "      pitch_type = lambda d: d.pitch_type.cat.codes + 1,\n",
        "      # # is_2_strikes = lambda d: d.is_2_strikes.cat.codes + 1,\n",
        "      # is_3_balls = lambda d: d.is_3_balls.cat.codes + 1\n",
        "      # balls_strikes = lambda d: d.balls_strikes.cat.as_ordered().cat.codes + 1,\n",
        "      # attack_zone = lambda d: d.attack_zone.cat.codes + 1\n",
        "    )\n",
        "    .drop([\n",
        "          #  \"geometry\",\n",
        "           \"pitcher_id\",\n",
        "           \"batter_id\",\n",
        "           \"stadium_id\",\n",
        "           \"umpire_id\",\n",
        "           \"catcher_id\",\n",
        "           \"y55\", # because it is always 55\n",
        "           \"pitch_call\", # because it leaks is_swing\n",
        "    ], axis=1)\n",
        "    .set_index(\"pitch_id\", drop=True)\n",
        "    .sort_values(by=[\"date\"])\n",
        "    \n",
        ")\n",
        "\n",
        "df_clean.head()"
      ],
      "execution_count": 4,
      "outputs": [
        {
          "output_type": "execute_result",
          "data": {
            "text/html": [
              "<div>\n",
              "<style scoped>\n",
              "    .dataframe tbody tr th:only-of-type {\n",
              "        vertical-align: middle;\n",
              "    }\n",
              "\n",
              "    .dataframe tbody tr th {\n",
              "        vertical-align: top;\n",
              "    }\n",
              "\n",
              "    .dataframe thead th {\n",
              "        text-align: right;\n",
              "    }\n",
              "</style>\n",
              "<table border=\"1\" class=\"dataframe\">\n",
              "  <thead>\n",
              "    <tr style=\"text-align: right;\">\n",
              "      <th></th>\n",
              "      <th>date</th>\n",
              "      <th>level</th>\n",
              "      <th>pitcher_side</th>\n",
              "      <th>batter_side</th>\n",
              "      <th>inning</th>\n",
              "      <th>top_bottom</th>\n",
              "      <th>outs</th>\n",
              "      <th>balls</th>\n",
              "      <th>strikes</th>\n",
              "      <th>release_speed</th>\n",
              "      <th>vert_release_angle</th>\n",
              "      <th>horz_release_angle</th>\n",
              "      <th>spin_rate</th>\n",
              "      <th>spin_axis</th>\n",
              "      <th>tilt</th>\n",
              "      <th>rel_height</th>\n",
              "      <th>rel_side</th>\n",
              "      <th>extension</th>\n",
              "      <th>vert_break</th>\n",
              "      <th>induced_vert_break</th>\n",
              "      <th>horz_break</th>\n",
              "      <th>plate_height</th>\n",
              "      <th>plate_side</th>\n",
              "      <th>zone_speed</th>\n",
              "      <th>vert_approach_angle</th>\n",
              "      <th>horz_approach_angle</th>\n",
              "      <th>x55</th>\n",
              "      <th>z55</th>\n",
              "      <th>pitch_type</th>\n",
              "      <th>outs_na</th>\n",
              "      <th>spin_rate_na</th>\n",
              "      <th>tilt_na</th>\n",
              "      <th>plate_height_na</th>\n",
              "      <th>plate_side_na</th>\n",
              "      <th>pitch_type_na</th>\n",
              "      <th>swing_rate</th>\n",
              "      <th>is_swing</th>\n",
              "    </tr>\n",
              "    <tr>\n",
              "      <th>pitch_id</th>\n",
              "      <th></th>\n",
              "      <th></th>\n",
              "      <th></th>\n",
              "      <th></th>\n",
              "      <th></th>\n",
              "      <th></th>\n",
              "      <th></th>\n",
              "      <th></th>\n",
              "      <th></th>\n",
              "      <th></th>\n",
              "      <th></th>\n",
              "      <th></th>\n",
              "      <th></th>\n",
              "      <th></th>\n",
              "      <th></th>\n",
              "      <th></th>\n",
              "      <th></th>\n",
              "      <th></th>\n",
              "      <th></th>\n",
              "      <th></th>\n",
              "      <th></th>\n",
              "      <th></th>\n",
              "      <th></th>\n",
              "      <th></th>\n",
              "      <th></th>\n",
              "      <th></th>\n",
              "      <th></th>\n",
              "      <th></th>\n",
              "      <th></th>\n",
              "      <th></th>\n",
              "      <th></th>\n",
              "      <th></th>\n",
              "      <th></th>\n",
              "      <th></th>\n",
              "      <th></th>\n",
              "      <th></th>\n",
              "      <th></th>\n",
              "    </tr>\n",
              "  </thead>\n",
              "  <tbody>\n",
              "    <tr>\n",
              "      <th>be3ea65b</th>\n",
              "      <td>2019-04-01</td>\n",
              "      <td>5</td>\n",
              "      <td>2</td>\n",
              "      <td>2</td>\n",
              "      <td>5</td>\n",
              "      <td>1</td>\n",
              "      <td>3</td>\n",
              "      <td>2</td>\n",
              "      <td>1</td>\n",
              "      <td>92.886398</td>\n",
              "      <td>-3.562100</td>\n",
              "      <td>-4.72820</td>\n",
              "      <td>2095.030029</td>\n",
              "      <td>225.175003</td>\n",
              "      <td>3</td>\n",
              "      <td>5.96349</td>\n",
              "      <td>2.61011</td>\n",
              "      <td>6.16204</td>\n",
              "      <td>-16.183300</td>\n",
              "      <td>16.235600</td>\n",
              "      <td>16.280100</td>\n",
              "      <td>1.222480</td>\n",
              "      <td>-0.466732</td>\n",
              "      <td>84.457100</td>\n",
              "      <td>-6.62085</td>\n",
              "      <td>-1.657360</td>\n",
              "      <td>-2.65277</td>\n",
              "      <td>5.99241</td>\n",
              "      <td>3</td>\n",
              "      <td>False</td>\n",
              "      <td>False</td>\n",
              "      <td>False</td>\n",
              "      <td>False</td>\n",
              "      <td>False</td>\n",
              "      <td>False</td>\n",
              "      <td>0.466533</td>\n",
              "      <td>0</td>\n",
              "    </tr>\n",
              "    <tr>\n",
              "      <th>45238756</th>\n",
              "      <td>2019-04-01</td>\n",
              "      <td>5</td>\n",
              "      <td>1</td>\n",
              "      <td>2</td>\n",
              "      <td>6</td>\n",
              "      <td>2</td>\n",
              "      <td>3</td>\n",
              "      <td>1</td>\n",
              "      <td>2</td>\n",
              "      <td>91.792999</td>\n",
              "      <td>-3.443300</td>\n",
              "      <td>5.61971</td>\n",
              "      <td>2329.300049</td>\n",
              "      <td>151.895996</td>\n",
              "      <td>41</td>\n",
              "      <td>5.92059</td>\n",
              "      <td>-2.98475</td>\n",
              "      <td>6.50908</td>\n",
              "      <td>-13.235100</td>\n",
              "      <td>18.749599</td>\n",
              "      <td>-9.614690</td>\n",
              "      <td>1.650330</td>\n",
              "      <td>1.337680</td>\n",
              "      <td>84.677101</td>\n",
              "      <td>-5.95787</td>\n",
              "      <td>3.809970</td>\n",
              "      <td>3.08316</td>\n",
              "      <td>5.97426</td>\n",
              "      <td>3</td>\n",
              "      <td>False</td>\n",
              "      <td>False</td>\n",
              "      <td>False</td>\n",
              "      <td>False</td>\n",
              "      <td>False</td>\n",
              "      <td>False</td>\n",
              "      <td>0.466533</td>\n",
              "      <td>0</td>\n",
              "    </tr>\n",
              "    <tr>\n",
              "      <th>1ffa2b74</th>\n",
              "      <td>2019-04-01</td>\n",
              "      <td>5</td>\n",
              "      <td>1</td>\n",
              "      <td>2</td>\n",
              "      <td>4</td>\n",
              "      <td>1</td>\n",
              "      <td>2</td>\n",
              "      <td>1</td>\n",
              "      <td>1</td>\n",
              "      <td>82.778503</td>\n",
              "      <td>-2.999260</td>\n",
              "      <td>3.08055</td>\n",
              "      <td>1845.660034</td>\n",
              "      <td>117.689003</td>\n",
              "      <td>38</td>\n",
              "      <td>6.24060</td>\n",
              "      <td>-1.90236</td>\n",
              "      <td>5.17834</td>\n",
              "      <td>-33.075600</td>\n",
              "      <td>9.334590</td>\n",
              "      <td>-17.080099</td>\n",
              "      <td>0.564341</td>\n",
              "      <td>-0.381738</td>\n",
              "      <td>75.700104</td>\n",
              "      <td>-9.07439</td>\n",
              "      <td>-0.083938</td>\n",
              "      <td>1.87295</td>\n",
              "      <td>6.22258</td>\n",
              "      <td>1</td>\n",
              "      <td>False</td>\n",
              "      <td>False</td>\n",
              "      <td>False</td>\n",
              "      <td>False</td>\n",
              "      <td>False</td>\n",
              "      <td>False</td>\n",
              "      <td>0.466533</td>\n",
              "      <td>0</td>\n",
              "    </tr>\n",
              "    <tr>\n",
              "      <th>96309e70</th>\n",
              "      <td>2019-04-01</td>\n",
              "      <td>5</td>\n",
              "      <td>2</td>\n",
              "      <td>2</td>\n",
              "      <td>1</td>\n",
              "      <td>2</td>\n",
              "      <td>1</td>\n",
              "      <td>3</td>\n",
              "      <td>3</td>\n",
              "      <td>90.905296</td>\n",
              "      <td>-2.613000</td>\n",
              "      <td>-3.36566</td>\n",
              "      <td>2019.540039</td>\n",
              "      <td>231.776993</td>\n",
              "      <td>3</td>\n",
              "      <td>5.90216</td>\n",
              "      <td>1.71563</td>\n",
              "      <td>6.22396</td>\n",
              "      <td>-22.084299</td>\n",
              "      <td>11.430200</td>\n",
              "      <td>13.569800</td>\n",
              "      <td>1.568290</td>\n",
              "      <td>-0.319324</td>\n",
              "      <td>83.029099</td>\n",
              "      <td>-6.78134</td>\n",
              "      <td>-0.797740</td>\n",
              "      <td>-1.73808</td>\n",
              "      <td>5.94149</td>\n",
              "      <td>5</td>\n",
              "      <td>False</td>\n",
              "      <td>False</td>\n",
              "      <td>False</td>\n",
              "      <td>False</td>\n",
              "      <td>False</td>\n",
              "      <td>False</td>\n",
              "      <td>0.466533</td>\n",
              "      <td>1</td>\n",
              "    </tr>\n",
              "    <tr>\n",
              "      <th>d28f1e47</th>\n",
              "      <td>2019-04-01</td>\n",
              "      <td>5</td>\n",
              "      <td>2</td>\n",
              "      <td>2</td>\n",
              "      <td>8</td>\n",
              "      <td>1</td>\n",
              "      <td>3</td>\n",
              "      <td>2</td>\n",
              "      <td>2</td>\n",
              "      <td>83.503304</td>\n",
              "      <td>0.039169</td>\n",
              "      <td>-3.02626</td>\n",
              "      <td>2379.159912</td>\n",
              "      <td>69.765198</td>\n",
              "      <td>24</td>\n",
              "      <td>5.89110</td>\n",
              "      <td>2.87506</td>\n",
              "      <td>5.69826</td>\n",
              "      <td>-41.401901</td>\n",
              "      <td>-0.722012</td>\n",
              "      <td>-1.819660</td>\n",
              "      <td>2.399770</td>\n",
              "      <td>-0.146827</td>\n",
              "      <td>76.312897</td>\n",
              "      <td>-7.68589</td>\n",
              "      <td>-3.364060</td>\n",
              "      <td>-2.87967</td>\n",
              "      <td>5.88908</td>\n",
              "      <td>6</td>\n",
              "      <td>False</td>\n",
              "      <td>False</td>\n",
              "      <td>False</td>\n",
              "      <td>False</td>\n",
              "      <td>False</td>\n",
              "      <td>False</td>\n",
              "      <td>0.466533</td>\n",
              "      <td>1</td>\n",
              "    </tr>\n",
              "  </tbody>\n",
              "</table>\n",
              "</div>"
            ],
            "text/plain": [
              "               date  level  pitcher_side  ...  pitch_type_na  swing_rate  is_swing\n",
              "pitch_id                                  ...                                     \n",
              "be3ea65b 2019-04-01      5             2  ...          False    0.466533         0\n",
              "45238756 2019-04-01      5             1  ...          False    0.466533         0\n",
              "1ffa2b74 2019-04-01      5             1  ...          False    0.466533         0\n",
              "96309e70 2019-04-01      5             2  ...          False    0.466533         1\n",
              "d28f1e47 2019-04-01      5             2  ...          False    0.466533         1\n",
              "\n",
              "[5 rows x 37 columns]"
            ]
          },
          "metadata": {
            "tags": []
          },
          "execution_count": 4
        }
      ]
    },
    {
      "cell_type": "code",
      "metadata": {
        "id": "KK11otwahZR2"
      },
      "source": [
        "xs_train, xs_valid, y_train, y_valid = train_test_split(df_clean.drop([\"date\", \"is_swing\"], axis=1), df_clean.is_swing, shuffle=False)"
      ],
      "execution_count": 5,
      "outputs": []
    },
    {
      "cell_type": "markdown",
      "metadata": {
        "id": "FAzL6OJBlljA"
      },
      "source": [
        "###Baseline\n",
        "Create a baseline where we always predict `is_swing` is 0 (a take). This leads to 52.7% accuracy and an ROC of 0.5."
      ]
    },
    {
      "cell_type": "code",
      "metadata": {
        "id": "6oNITj723swO",
        "outputId": "5f1fe56e-8940-416f-a75e-c1c7f7712347",
        "colab": {
          "base_uri": "https://localhost:8080/",
          "height": 35
        }
      },
      "source": [
        "# All Take \n",
        "y_pred_take = np.zeros_like(y_valid)\n",
        "print(round(accuracy_score(y_valid, y_pred_take), 3), round(roc_auc_score(y_valid, y_pred_take), 3))"
      ],
      "execution_count": 6,
      "outputs": [
        {
          "output_type": "stream",
          "text": [
            "0.527 0.5\n"
          ],
          "name": "stdout"
        }
      ]
    },
    {
      "cell_type": "markdown",
      "metadata": {
        "id": "p73Ru8mEmBO0"
      },
      "source": [
        "###Decision Tree\n",
        "Try a decision tree. This leads to 76.5% accuracy and an ROC of 76.3%."
      ]
    },
    {
      "cell_type": "code",
      "metadata": {
        "id": "Rfo3ds2CxoII",
        "outputId": "cc2273f8-bf47-4783-a7d3-69c8a03203d2",
        "colab": {
          "base_uri": "https://localhost:8080/",
          "height": 35
        }
      },
      "source": [
        "dt = DecisionTreeClassifier(min_samples_leaf=500)\n",
        "dt.fit(xs_train, y_train)\n",
        "y_pred_dt = dt.predict(xs_valid)\n",
        "print(round(accuracy_score(y_valid, y_pred_dt), 3), round(roc_auc_score(y_valid, y_pred_dt), 3))"
      ],
      "execution_count": 7,
      "outputs": [
        {
          "output_type": "stream",
          "text": [
            "0.765 0.763\n"
          ],
          "name": "stdout"
        }
      ]
    },
    {
      "cell_type": "markdown",
      "metadata": {
        "id": "XHQ-vwQ-mIYB"
      },
      "source": [
        "Check the number of leaves to make sure we're not overfitting. `1251` seems reasonable."
      ]
    },
    {
      "cell_type": "code",
      "metadata": {
        "id": "-e1quQIJ1BxL",
        "outputId": "73346a0a-14ab-4c0f-9b64-b27bd99bf261",
        "colab": {
          "base_uri": "https://localhost:8080/",
          "height": 35
        }
      },
      "source": [
        "dt.get_n_leaves()"
      ],
      "execution_count": 8,
      "outputs": [
        {
          "output_type": "execute_result",
          "data": {
            "text/plain": [
              "1251"
            ]
          },
          "metadata": {
            "tags": []
          },
          "execution_count": 8
        }
      ]
    },
    {
      "cell_type": "markdown",
      "metadata": {
        "id": "KRqB38oMmOsG"
      },
      "source": [
        "###Random Forest\n",
        "Try a Random Forest. This leads to an accuracy of 76.7% and an ROC of 76.5% when using n_estimators=100. I used the below model to inform feature engineering (fewer estimators and sampling)."
      ]
    },
    {
      "cell_type": "code",
      "metadata": {
        "id": "i_1fjgG47tSu",
        "outputId": "1d50d7f7-46b9-4311-cb90-61a8dfd5424b",
        "colab": {
          "base_uri": "https://localhost:8080/",
          "height": 35
        }
      },
      "source": [
        "rf = RandomForestClassifier(n_estimators=10, min_samples_leaf=500, n_jobs=-1, max_samples=200000)\n",
        "rf.fit(xs_train, y_train)\n",
        "y_pred_rf = rf.predict(xs_valid)\n",
        "print(round(accuracy_score(y_valid, y_pred_rf), 3), round(roc_auc_score(y_valid, y_pred_rf), 3))"
      ],
      "execution_count": 9,
      "outputs": [
        {
          "output_type": "stream",
          "text": [
            "0.758 0.756\n"
          ],
          "name": "stdout"
        }
      ]
    },
    {
      "cell_type": "markdown",
      "metadata": {
        "id": "n6N-3ipwa-Q2"
      },
      "source": [
        "##Final Model\n",
        "Train a random forest on all of the training data."
      ]
    },
    {
      "cell_type": "code",
      "metadata": {
        "id": "m4BDPNlQcSz5",
        "outputId": "6b2706b5-f112-4e51-ba74-95fd3023f22c",
        "colab": {
          "base_uri": "https://localhost:8080/",
          "height": 156
        }
      },
      "source": [
        "xs_train_all = df_clean.drop([\"date\", \"is_swing\"], axis=1)\n",
        "y_train_all = df_clean.is_swing\n",
        "\n",
        "rf_all = RandomForestClassifier(min_samples_leaf=500, n_jobs=-1)\n",
        "rf_all.fit(xs_train_all, y_train_all)"
      ],
      "execution_count": 11,
      "outputs": [
        {
          "output_type": "execute_result",
          "data": {
            "text/plain": [
              "RandomForestClassifier(bootstrap=True, ccp_alpha=0.0, class_weight=None,\n",
              "                       criterion='gini', max_depth=None, max_features='auto',\n",
              "                       max_leaf_nodes=None, max_samples=None,\n",
              "                       min_impurity_decrease=0.0, min_impurity_split=None,\n",
              "                       min_samples_leaf=500, min_samples_split=2,\n",
              "                       min_weight_fraction_leaf=0.0, n_estimators=100,\n",
              "                       n_jobs=-1, oob_score=False, random_state=None, verbose=0,\n",
              "                       warm_start=False)"
            ]
          },
          "metadata": {
            "tags": []
          },
          "execution_count": 11
        }
      ]
    },
    {
      "cell_type": "markdown",
      "metadata": {
        "id": "f0sgSWtZcTYE"
      },
      "source": [
        "Load the test dataset and prepare it in a similar way to the training dataset."
      ]
    },
    {
      "cell_type": "code",
      "metadata": {
        "id": "8FA0DsY7cUOB",
        "outputId": "802c619a-709f-4828-8367-6885ffa62f2a",
        "colab": {
          "base_uri": "https://localhost:8080/",
          "height": 339
        }
      },
      "source": [
        "df_test = pd.read_csv(\"/content/drive/My Drive/Data/2021-test.csv\", parse_dates=[\"date\"])\n",
        "df_test.head()\n",
        "\n",
        "df_test.loc[(df_test.batter_side == \"S\") & (df_test.pitcher_side == \"Right\"), \"batter_side\"] = \"Left\"\n",
        "df_test.loc[(df_test.batter_side == \"S\") & (df_test.pitcher_side == \"Left\"), \"batter_side\"] = \"Right\" \n",
        "df_test.loc[(df_test.pitcher_side == \"S\") & (df_test.batter_side == \"Right\"), \"pitcher_side\"] = \"Left\"\n",
        "df_test.loc[(df_test.pitcher_side == \"S\") & (df_test.batter_side == \"Left\"), \"pitcher_side\"] = \"Right\"\n",
        "\n",
        "df_test_clean = (\n",
        "    df_test\n",
        "    .assign(\n",
        "      tilt = lambda d: d.tilt.str.slice(stop=5).str.zfill(5),\n",
        "      outs_na = df_test.outs.isna(), # 132\n",
        "      spin_rate_na = df_test.spin_rate.isna(), # 17878\n",
        "      tilt_na = df_test.tilt.isna(), # 664\n",
        "      plate_height_na = df_test.plate_height.isna(), # 528\n",
        "      plate_side_na = df_test.plate_side.isna(), # 528\n",
        "      pitch_type_na = df_test.pitch_type.isna(), # 556\n",
        "      swing_rate = lambda d: d.apply(get_swing_rate_test, axis=1),\n",
        "    )\n",
        "    .fillna({\n",
        "        \"outs\": 0.0,\n",
        "        \"spin_rate\": df.spin_rate.median(), # fill with medians/modes from training data\n",
        "        \"tilt\": df.tilt.str.slice(stop=5).str.zfill(5).mode(),\n",
        "        \"plate_height\": df.plate_height.median(),\n",
        "        \"plate_side\": df.plate_side.median(),\n",
        "        \"pitch_type\": df.pitch_type.mode()[0],\n",
        "      })\n",
        "    .astype({\"outs\": \"int\"})\n",
        "    .replace({\n",
        "        \"outs\": {\n",
        "            3: 2\n",
        "        },\n",
        "        \"balls\": {\n",
        "            4: 3\n",
        "        },\n",
        "        \"strikes\": {\n",
        "            3: 2\n",
        "        },\n",
        "    },)\n",
        "    .astype({\n",
        "        \"level\": \"category\",\n",
        "        \"pitcher_side\": \"category\",\n",
        "        \"batter_side\": \"category\",\n",
        "        \"inning\": \"category\",\n",
        "        \"top_bottom\": \"category\",\n",
        "        \"outs\": \"category\",\n",
        "        \"balls\": \"category\",\n",
        "        \"strikes\": \"category\",\n",
        "        \"tilt\": \"category\",\n",
        "        \"strikes\": \"category\",\n",
        "        \"pitch_type\": \"category\",\n",
        "    })\n",
        "    .assign(\n",
        "      level = lambda d: d.level.cat.as_ordered().cat.codes + 1,\n",
        "      pitcher_side = lambda d: d.pitcher_side.cat.codes + 1,\n",
        "      batter_side = lambda d: d.batter_side.cat.codes + 1,\n",
        "      inning = lambda d: d.inning.cat.as_ordered().cat.codes + 1,\n",
        "      top_bottom = lambda d: d.top_bottom.cat.codes + 1,\n",
        "      outs = lambda d: d.outs.cat.as_ordered().cat.codes + 1,\n",
        "      balls = lambda d: d.balls.cat.as_ordered().cat.codes + 1,\n",
        "      strikes = lambda d: d.strikes.cat.as_ordered().cat.codes + 1,\n",
        "      tilt = lambda d: d.tilt.cat.as_ordered().cat.codes + 1, # checked that train and test sets will have same tilt codes\n",
        "      pitch_type = lambda d: d.pitch_type.cat.codes + 1,\n",
        "    )\n",
        "    .drop([\n",
        "           \"pitcher_id\",\n",
        "           \"batter_id\",\n",
        "           \"stadium_id\",\n",
        "           \"umpire_id\",\n",
        "           \"catcher_id\",\n",
        "           \"y55\", # because it is always 55\n",
        "    ], axis=1)\n",
        "    .set_index(\"pitch_id\", drop=True)\n",
        "    .sort_values(by=[\"date\"])\n",
        ")\n",
        "\n",
        "df_test_clean.head()"
      ],
      "execution_count": 26,
      "outputs": [
        {
          "output_type": "execute_result",
          "data": {
            "text/html": [
              "<div>\n",
              "<style scoped>\n",
              "    .dataframe tbody tr th:only-of-type {\n",
              "        vertical-align: middle;\n",
              "    }\n",
              "\n",
              "    .dataframe tbody tr th {\n",
              "        vertical-align: top;\n",
              "    }\n",
              "\n",
              "    .dataframe thead th {\n",
              "        text-align: right;\n",
              "    }\n",
              "</style>\n",
              "<table border=\"1\" class=\"dataframe\">\n",
              "  <thead>\n",
              "    <tr style=\"text-align: right;\">\n",
              "      <th></th>\n",
              "      <th>date</th>\n",
              "      <th>level</th>\n",
              "      <th>pitcher_side</th>\n",
              "      <th>batter_side</th>\n",
              "      <th>inning</th>\n",
              "      <th>top_bottom</th>\n",
              "      <th>outs</th>\n",
              "      <th>balls</th>\n",
              "      <th>strikes</th>\n",
              "      <th>release_speed</th>\n",
              "      <th>vert_release_angle</th>\n",
              "      <th>horz_release_angle</th>\n",
              "      <th>spin_rate</th>\n",
              "      <th>spin_axis</th>\n",
              "      <th>tilt</th>\n",
              "      <th>rel_height</th>\n",
              "      <th>rel_side</th>\n",
              "      <th>extension</th>\n",
              "      <th>vert_break</th>\n",
              "      <th>induced_vert_break</th>\n",
              "      <th>horz_break</th>\n",
              "      <th>plate_height</th>\n",
              "      <th>plate_side</th>\n",
              "      <th>zone_speed</th>\n",
              "      <th>vert_approach_angle</th>\n",
              "      <th>horz_approach_angle</th>\n",
              "      <th>x55</th>\n",
              "      <th>z55</th>\n",
              "      <th>pitch_type</th>\n",
              "      <th>is_swing</th>\n",
              "      <th>outs_na</th>\n",
              "      <th>spin_rate_na</th>\n",
              "      <th>tilt_na</th>\n",
              "      <th>plate_height_na</th>\n",
              "      <th>plate_side_na</th>\n",
              "      <th>pitch_type_na</th>\n",
              "      <th>swing_rate</th>\n",
              "    </tr>\n",
              "    <tr>\n",
              "      <th>pitch_id</th>\n",
              "      <th></th>\n",
              "      <th></th>\n",
              "      <th></th>\n",
              "      <th></th>\n",
              "      <th></th>\n",
              "      <th></th>\n",
              "      <th></th>\n",
              "      <th></th>\n",
              "      <th></th>\n",
              "      <th></th>\n",
              "      <th></th>\n",
              "      <th></th>\n",
              "      <th></th>\n",
              "      <th></th>\n",
              "      <th></th>\n",
              "      <th></th>\n",
              "      <th></th>\n",
              "      <th></th>\n",
              "      <th></th>\n",
              "      <th></th>\n",
              "      <th></th>\n",
              "      <th></th>\n",
              "      <th></th>\n",
              "      <th></th>\n",
              "      <th></th>\n",
              "      <th></th>\n",
              "      <th></th>\n",
              "      <th></th>\n",
              "      <th></th>\n",
              "      <th></th>\n",
              "      <th></th>\n",
              "      <th></th>\n",
              "      <th></th>\n",
              "      <th></th>\n",
              "      <th></th>\n",
              "      <th></th>\n",
              "      <th></th>\n",
              "    </tr>\n",
              "  </thead>\n",
              "  <tbody>\n",
              "    <tr>\n",
              "      <th>ab79d2c8</th>\n",
              "      <td>2019-07-01</td>\n",
              "      <td>3</td>\n",
              "      <td>2</td>\n",
              "      <td>2</td>\n",
              "      <td>8</td>\n",
              "      <td>1</td>\n",
              "      <td>3</td>\n",
              "      <td>1</td>\n",
              "      <td>2</td>\n",
              "      <td>93.887497</td>\n",
              "      <td>-3.33861</td>\n",
              "      <td>-0.360953</td>\n",
              "      <td>2669.709961</td>\n",
              "      <td>182.028000</td>\n",
              "      <td>45</td>\n",
              "      <td>6.89382</td>\n",
              "      <td>0.581809</td>\n",
              "      <td>5.80669</td>\n",
              "      <td>-6.834430</td>\n",
              "      <td>25.7145</td>\n",
              "      <td>1.05958</td>\n",
              "      <td>3.21194</td>\n",
              "      <td>0.331410</td>\n",
              "      <td>84.480598</td>\n",
              "      <td>-4.62379</td>\n",
              "      <td>-0.157365</td>\n",
              "      <td>-0.520899</td>\n",
              "      <td>6.94446</td>\n",
              "      <td>3</td>\n",
              "      <td>NaN</td>\n",
              "      <td>False</td>\n",
              "      <td>False</td>\n",
              "      <td>False</td>\n",
              "      <td>False</td>\n",
              "      <td>False</td>\n",
              "      <td>False</td>\n",
              "      <td>0.516432</td>\n",
              "    </tr>\n",
              "    <tr>\n",
              "      <th>dfabe02b</th>\n",
              "      <td>2019-07-01</td>\n",
              "      <td>2</td>\n",
              "      <td>2</td>\n",
              "      <td>2</td>\n",
              "      <td>8</td>\n",
              "      <td>2</td>\n",
              "      <td>2</td>\n",
              "      <td>2</td>\n",
              "      <td>1</td>\n",
              "      <td>87.508102</td>\n",
              "      <td>-0.93260</td>\n",
              "      <td>-2.837120</td>\n",
              "      <td>2293.510010</td>\n",
              "      <td>236.503998</td>\n",
              "      <td>4</td>\n",
              "      <td>5.21215</td>\n",
              "      <td>1.620090</td>\n",
              "      <td>6.22065</td>\n",
              "      <td>-26.548500</td>\n",
              "      <td>9.9990</td>\n",
              "      <td>19.41630</td>\n",
              "      <td>2.18859</td>\n",
              "      <td>0.488852</td>\n",
              "      <td>78.698097</td>\n",
              "      <td>-5.97568</td>\n",
              "      <td>0.878822</td>\n",
              "      <td>-1.661480</td>\n",
              "      <td>5.23396</td>\n",
              "      <td>3</td>\n",
              "      <td>NaN</td>\n",
              "      <td>False</td>\n",
              "      <td>False</td>\n",
              "      <td>False</td>\n",
              "      <td>False</td>\n",
              "      <td>False</td>\n",
              "      <td>False</td>\n",
              "      <td>0.423762</td>\n",
              "    </tr>\n",
              "    <tr>\n",
              "      <th>0518c99e</th>\n",
              "      <td>2019-07-01</td>\n",
              "      <td>2</td>\n",
              "      <td>1</td>\n",
              "      <td>2</td>\n",
              "      <td>1</td>\n",
              "      <td>1</td>\n",
              "      <td>2</td>\n",
              "      <td>2</td>\n",
              "      <td>1</td>\n",
              "      <td>75.816902</td>\n",
              "      <td>1.95854</td>\n",
              "      <td>-0.856592</td>\n",
              "      <td>2506.919922</td>\n",
              "      <td>303.471008</td>\n",
              "      <td>14</td>\n",
              "      <td>5.70394</td>\n",
              "      <td>-2.098060</td>\n",
              "      <td>5.40823</td>\n",
              "      <td>-60.761002</td>\n",
              "      <td>-10.3797</td>\n",
              "      <td>16.31180</td>\n",
              "      <td>2.49590</td>\n",
              "      <td>-1.580890</td>\n",
              "      <td>68.792801</td>\n",
              "      <td>-9.35805</td>\n",
              "      <td>2.202660</td>\n",
              "      <td>2.026590</td>\n",
              "      <td>5.68593</td>\n",
              "      <td>2</td>\n",
              "      <td>NaN</td>\n",
              "      <td>False</td>\n",
              "      <td>False</td>\n",
              "      <td>False</td>\n",
              "      <td>False</td>\n",
              "      <td>False</td>\n",
              "      <td>False</td>\n",
              "      <td>0.635815</td>\n",
              "    </tr>\n",
              "    <tr>\n",
              "      <th>c8498cee</th>\n",
              "      <td>2019-07-01</td>\n",
              "      <td>2</td>\n",
              "      <td>2</td>\n",
              "      <td>2</td>\n",
              "      <td>8</td>\n",
              "      <td>1</td>\n",
              "      <td>2</td>\n",
              "      <td>4</td>\n",
              "      <td>1</td>\n",
              "      <td>92.542099</td>\n",
              "      <td>-2.77538</td>\n",
              "      <td>-0.901670</td>\n",
              "      <td>2296.750000</td>\n",
              "      <td>226.065002</td>\n",
              "      <td>3</td>\n",
              "      <td>6.08346</td>\n",
              "      <td>-0.009994</td>\n",
              "      <td>5.98979</td>\n",
              "      <td>-20.280001</td>\n",
              "      <td>12.7007</td>\n",
              "      <td>13.81800</td>\n",
              "      <td>1.91900</td>\n",
              "      <td>0.271214</td>\n",
              "      <td>84.126099</td>\n",
              "      <td>-6.57250</td>\n",
              "      <td>1.713730</td>\n",
              "      <td>0.005938</td>\n",
              "      <td>6.14081</td>\n",
              "      <td>3</td>\n",
              "      <td>NaN</td>\n",
              "      <td>False</td>\n",
              "      <td>False</td>\n",
              "      <td>False</td>\n",
              "      <td>False</td>\n",
              "      <td>False</td>\n",
              "      <td>False</td>\n",
              "      <td>0.374912</td>\n",
              "    </tr>\n",
              "    <tr>\n",
              "      <th>5a89fe15</th>\n",
              "      <td>2019-07-01</td>\n",
              "      <td>4</td>\n",
              "      <td>1</td>\n",
              "      <td>2</td>\n",
              "      <td>3</td>\n",
              "      <td>1</td>\n",
              "      <td>3</td>\n",
              "      <td>3</td>\n",
              "      <td>3</td>\n",
              "      <td>93.624603</td>\n",
              "      <td>-2.63387</td>\n",
              "      <td>1.139470</td>\n",
              "      <td>2378.020020</td>\n",
              "      <td>159.238998</td>\n",
              "      <td>42</td>\n",
              "      <td>5.81772</td>\n",
              "      <td>-1.306730</td>\n",
              "      <td>6.55919</td>\n",
              "      <td>-14.035700</td>\n",
              "      <td>17.1369</td>\n",
              "      <td>-6.65121</td>\n",
              "      <td>2.30117</td>\n",
              "      <td>-0.801046</td>\n",
              "      <td>85.640701</td>\n",
              "      <td>-5.29341</td>\n",
              "      <td>-0.124006</td>\n",
              "      <td>1.375710</td>\n",
              "      <td>5.88248</td>\n",
              "      <td>3</td>\n",
              "      <td>NaN</td>\n",
              "      <td>False</td>\n",
              "      <td>False</td>\n",
              "      <td>False</td>\n",
              "      <td>False</td>\n",
              "      <td>False</td>\n",
              "      <td>False</td>\n",
              "      <td>0.367876</td>\n",
              "    </tr>\n",
              "  </tbody>\n",
              "</table>\n",
              "</div>"
            ],
            "text/plain": [
              "               date  level  ...  pitch_type_na  swing_rate\n",
              "pitch_id                    ...                           \n",
              "ab79d2c8 2019-07-01      3  ...          False    0.516432\n",
              "dfabe02b 2019-07-01      2  ...          False    0.423762\n",
              "0518c99e 2019-07-01      2  ...          False    0.635815\n",
              "c8498cee 2019-07-01      2  ...          False    0.374912\n",
              "5a89fe15 2019-07-01      4  ...          False    0.367876\n",
              "\n",
              "[5 rows x 37 columns]"
            ]
          },
          "metadata": {
            "tags": []
          },
          "execution_count": 26
        }
      ]
    },
    {
      "cell_type": "markdown",
      "metadata": {
        "id": "50DPv3pjcUZn"
      },
      "source": [
        "Predict `is_swing` for the test dataset and export a csv with the pitch ids and the predicted `is_swing`"
      ]
    },
    {
      "cell_type": "code",
      "metadata": {
        "id": "RKTHjfcjcVYW"
      },
      "source": [
        "y_pred_test = rf_all.predict(df_test_clean.drop([\"date\", \"is_swing\"], axis=1))"
      ],
      "execution_count": 27,
      "outputs": []
    },
    {
      "cell_type": "code",
      "metadata": {
        "id": "Ql43pjdit-W6",
        "outputId": "ae104a23-1d5e-4ab9-90ec-ccb94354f28b",
        "colab": {
          "base_uri": "https://localhost:8080/",
          "height": 446
        }
      },
      "source": [
        "is_swing_test = pd.DataFrame(y_pred_test, index=df_test_clean.index).rename({0: \"is_swing\"}, axis=1)\n",
        "is_swing_test"
      ],
      "execution_count": 31,
      "outputs": [
        {
          "output_type": "execute_result",
          "data": {
            "text/html": [
              "<div>\n",
              "<style scoped>\n",
              "    .dataframe tbody tr th:only-of-type {\n",
              "        vertical-align: middle;\n",
              "    }\n",
              "\n",
              "    .dataframe tbody tr th {\n",
              "        vertical-align: top;\n",
              "    }\n",
              "\n",
              "    .dataframe thead th {\n",
              "        text-align: right;\n",
              "    }\n",
              "</style>\n",
              "<table border=\"1\" class=\"dataframe\">\n",
              "  <thead>\n",
              "    <tr style=\"text-align: right;\">\n",
              "      <th></th>\n",
              "      <th>is_swing</th>\n",
              "    </tr>\n",
              "    <tr>\n",
              "      <th>pitch_id</th>\n",
              "      <th></th>\n",
              "    </tr>\n",
              "  </thead>\n",
              "  <tbody>\n",
              "    <tr>\n",
              "      <th>ab79d2c8</th>\n",
              "      <td>1</td>\n",
              "    </tr>\n",
              "    <tr>\n",
              "      <th>dfabe02b</th>\n",
              "      <td>1</td>\n",
              "    </tr>\n",
              "    <tr>\n",
              "      <th>0518c99e</th>\n",
              "      <td>0</td>\n",
              "    </tr>\n",
              "    <tr>\n",
              "      <th>c8498cee</th>\n",
              "      <td>0</td>\n",
              "    </tr>\n",
              "    <tr>\n",
              "      <th>5a89fe15</th>\n",
              "      <td>1</td>\n",
              "    </tr>\n",
              "    <tr>\n",
              "      <th>...</th>\n",
              "      <td>...</td>\n",
              "    </tr>\n",
              "    <tr>\n",
              "      <th>1e7e7e66</th>\n",
              "      <td>0</td>\n",
              "    </tr>\n",
              "    <tr>\n",
              "      <th>b4cea704</th>\n",
              "      <td>0</td>\n",
              "    </tr>\n",
              "    <tr>\n",
              "      <th>7b93a2e5</th>\n",
              "      <td>1</td>\n",
              "    </tr>\n",
              "    <tr>\n",
              "      <th>7e941a6f</th>\n",
              "      <td>1</td>\n",
              "    </tr>\n",
              "    <tr>\n",
              "      <th>82fe8ae8</th>\n",
              "      <td>0</td>\n",
              "    </tr>\n",
              "  </tbody>\n",
              "</table>\n",
              "<p>370283 rows × 1 columns</p>\n",
              "</div>"
            ],
            "text/plain": [
              "          is_swing\n",
              "pitch_id          \n",
              "ab79d2c8         1\n",
              "dfabe02b         1\n",
              "0518c99e         0\n",
              "c8498cee         0\n",
              "5a89fe15         1\n",
              "...            ...\n",
              "1e7e7e66         0\n",
              "b4cea704         0\n",
              "7b93a2e5         1\n",
              "7e941a6f         1\n",
              "82fe8ae8         0\n",
              "\n",
              "[370283 rows x 1 columns]"
            ]
          },
          "metadata": {
            "tags": []
          },
          "execution_count": 31
        }
      ]
    },
    {
      "cell_type": "code",
      "metadata": {
        "id": "HloARSVJ0Qjz"
      },
      "source": [
        "is_swing_test.to_csv(\"IsaacLee_is_swing_test.csv\")"
      ],
      "execution_count": 32,
      "outputs": []
    },
    {
      "cell_type": "markdown",
      "metadata": {
        "id": "C8oybqcVnNsb"
      },
      "source": [
        "## Additional code blocks\n",
        "I used the following blocks to guide data cleaning and feature engineering. I also created some features and tried some models that didn't help too much or work too well."
      ]
    },
    {
      "cell_type": "markdown",
      "metadata": {
        "id": "YjLtX9fSo_Z3"
      },
      "source": [
        "### Utilities for investigating features and models"
      ]
    },
    {
      "cell_type": "markdown",
      "metadata": {
        "id": "9aRTJu7GmVTp"
      },
      "source": [
        "Investigate the important features. It seems like the most important features are the location of the pitch (`plate_side` and `plate_height`), and the number of `strikes`.\n",
        "\n",
        "Also important are the movement of the pitch (`horz_break` and `vert_break`), the vertical release angle, and the number of `balls`.\n",
        "\n"
      ]
    },
    {
      "cell_type": "code",
      "metadata": {
        "id": "zDssjUNoXO8u",
        "outputId": "5a493d54-3c9b-4092-f444-6ae4fc974499",
        "colab": {
          "base_uri": "https://localhost:8080/",
          "height": 565
        }
      },
      "source": [
        "imp = importances(rf, xs_valid, y_valid, n_samples=-1)\n",
        "viz = plot_importances(imp)\n",
        "viz.view()"
      ],
      "execution_count": 14,
      "outputs": [
        {
          "output_type": "display_data",
          "data": {
            "image/png": "[encoded data removed]",
            "text/plain": [
              "<Figure size 288x555.84 with 1 Axes>"
            ]
          },
          "metadata": {
            "tags": [],
            "needs_background": "light"
          }
        }
      ]
    },
    {
      "cell_type": "markdown",
      "metadata": {
        "id": "RDPG96ngm4Gx"
      },
      "source": [
        "Investigate the features. `vert_break` and `induced_vert_break` are highly correlated. "
      ]
    },
    {
      "cell_type": "code",
      "metadata": {
        "id": "w3QifLil1b89",
        "outputId": "ebbf574e-003b-4dcb-ce8f-e12b994c468a",
        "colab": {
          "base_uri": "https://localhost:8080/",
          "height": 884
        }
      },
      "source": [
        "cols = [\n",
        "        \"is_swing\",\n",
        "        \"plate_side\",\n",
        "        \"plate_height\",\n",
        "        \"strikes\",\n",
        "        \"vert_release_angle\",\n",
        "        \"balls\",\n",
        "        \"horz_release_angle\",\n",
        "        \"vert_break\",\n",
        "        \"horz_break\",\n",
        "        \"vert_approach_angle\",\n",
        "        \"rel_side\",\n",
        "        \"horz_approach_angle\",\n",
        "        \"induced_vert_break\",\n",
        "        \"tilt\",\n",
        "        \"x55\",\n",
        "        \"batter_side\",\n",
        "        \"release_speed\",\n",
        "        \"pitch_type\",\n",
        "        \"level\",\n",
        "]\n",
        "plot_corr_heatmap(df_clean[cols], figsize=(10,10))"
      ],
      "execution_count": 15,
      "outputs": [
        {
          "output_type": "execute_result",
          "data": {
            "text/plain": [
              "<rfpimp.PimpViz at 0x7f3d800daeb8>"
            ],
            "image/svg+xml": "<?xml version=\"1.0\" encoding=\"utf-8\" standalone=\"no\"?>\n<!DOCTYPE svg PUBLIC \"-//W3C//DTD SVG 1.1//EN\"\n  \"http://www.w3.org/Graphics/SVG/1.1/DTD/svg11.dtd\">\n<!-- Created with matplotlib (https://matplotlib.org/) -->\n<svg height=\"632.391997pt\" version=\"1.1\" viewBox=\"0 0 697.807031 632.391997\" width=\"697.807031pt\" xmlns=\"http://www.w3.org/2000/svg\" xmlns:xlink=\"http://www.w3.org/1999/xlink\">\n <defs>\n  <style type=\"text/css\">\n*{stroke-linecap:butt;stroke-linejoin:round;}\n  </style>\n </defs>\n <g id=\"figure_1\">\n  <g id=\"patch_1\">\n   <path d=\"M 0 632.391997 \nL 697.807031 632.391997 \nL 697.807031 0 \nL 0 0 \nz\n\" style=\"fill:#ffffff;\"/>\n  </g>\n  <g id=\"axes_1\">\n   <g id=\"patch_2\">\n    <path d=\"M 102.719219 529.570972 \nL 627.149569 529.570972 \nL 627.149569 5.140622 \nL 102.719219 5.140622 \nz\n\" style=\"fill:#ffffff;\"/>\n   </g>\n   <g clip-path=\"url(#p10732e69de)\">\n    <image height=\"525\" id=\"image29259d6a8d\" transform=\"scale(1 -1)translate(0 -525)\" width=\"525\" x=\"102.719219\" xlink:href=\"data:image/png;base64,\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\" y=\"-4.570972\"/>\n   </g>\n   <g id=\"matplotlib.axis_1\">\n    <g id=\"xtick_1\">\n     <g id=\"line2d_1\">\n      <defs>\n       <path d=\"M 0 0 \nL 0 3.5 \n\" id=\"mf0a1879a04\" style=\"stroke:#000000;stroke-width:0.8;\"/>\n      </defs>\n      <g>\n       <use style=\"stroke:#000000;stroke-width:0.8;\" x=\"116.520017\" xlink:href=\"#mf0a1879a04\" y=\"529.570972\"/>\n      </g>\n     </g>\n     <g id=\"text_1\">\n      <!-- is_swing -->\n      <defs>\n       <path d=\"M 9.421875 54.6875 \nL 18.40625 54.6875 \nL 18.40625 0 \nL 9.421875 0 \nz\nM 9.421875 75.984375 \nL 18.40625 75.984375 \nL 18.40625 64.59375 \nL 9.421875 64.59375 \nz\n\" id=\"DejaVuSans-105\"/>\n       <path d=\"M 44.28125 53.078125 \nL 44.28125 44.578125 \nQ 40.484375 46.53125 36.375 47.5 \nQ 32.28125 48.484375 27.875 48.484375 \nQ 21.1875 48.484375 17.84375 46.4375 \nQ 14.5 44.390625 14.5 40.28125 \nQ 14.5 37.15625 16.890625 35.375 \nQ 19.28125 33.59375 26.515625 31.984375 \nL 29.59375 31.296875 \nQ 39.15625 29.25 43.1875 25.515625 \nQ 47.21875 21.78125 47.21875 15.09375 \nQ 47.21875 7.46875 41.1875 3.015625 \nQ 35.15625 -1.421875 24.609375 -1.421875 \nQ 20.21875 -1.421875 15.453125 -0.5625 \nQ 10.6875 0.296875 5.421875 2 \nL 5.421875 11.28125 \nQ 10.40625 8.6875 15.234375 7.390625 \nQ 20.0625 6.109375 24.8125 6.109375 \nQ 31.15625 6.109375 34.5625 8.28125 \nQ 37.984375 10.453125 37.984375 14.40625 \nQ 37.984375 18.0625 35.515625 20.015625 \nQ 33.0625 21.96875 24.703125 23.78125 \nL 21.578125 24.515625 \nQ 13.234375 26.265625 9.515625 29.90625 \nQ 5.8125 33.546875 5.8125 39.890625 \nQ 5.8125 47.609375 11.28125 51.796875 \nQ 16.75 56 26.8125 56 \nQ 31.78125 56 36.171875 55.265625 \nQ 40.578125 54.546875 44.28125 53.078125 \nz\n\" id=\"DejaVuSans-115\"/>\n       <path d=\"M 50.984375 -16.609375 \nL 50.984375 -23.578125 \nL -0.984375 -23.578125 \nL -0.984375 -16.609375 \nz\n\" id=\"DejaVuSans-95\"/>\n       <path d=\"M 4.203125 54.6875 \nL 13.1875 54.6875 \nL 24.421875 12.015625 \nL 35.59375 54.6875 \nL 46.1875 54.6875 \nL 57.421875 12.015625 \nL 68.609375 54.6875 \nL 77.59375 54.6875 \nL 63.28125 0 \nL 52.6875 0 \nL 40.921875 44.828125 \nL 29.109375 0 \nL 18.5 0 \nz\n\" id=\"DejaVuSans-119\"/>\n       <path d=\"M 54.890625 33.015625 \nL 54.890625 0 \nL 45.90625 0 \nL 45.90625 32.71875 \nQ 45.90625 40.484375 42.875 44.328125 \nQ 39.84375 48.1875 33.796875 48.1875 \nQ 26.515625 48.1875 22.3125 43.546875 \nQ 18.109375 38.921875 18.109375 30.90625 \nL 18.109375 0 \nL 9.078125 0 \nL 9.078125 54.6875 \nL 18.109375 54.6875 \nL 18.109375 46.1875 \nQ 21.34375 51.125 25.703125 53.5625 \nQ 30.078125 56 35.796875 56 \nQ 45.21875 56 50.046875 50.171875 \nQ 54.890625 44.34375 54.890625 33.015625 \nz\n\" id=\"DejaVuSans-110\"/>\n       <path d=\"M 45.40625 27.984375 \nQ 45.40625 37.75 41.375 43.109375 \nQ 37.359375 48.484375 30.078125 48.484375 \nQ 22.859375 48.484375 18.828125 43.109375 \nQ 14.796875 37.75 14.796875 27.984375 \nQ 14.796875 18.265625 18.828125 12.890625 \nQ 22.859375 7.515625 30.078125 7.515625 \nQ 37.359375 7.515625 41.375 12.890625 \nQ 45.40625 18.265625 45.40625 27.984375 \nz\nM 54.390625 6.78125 \nQ 54.390625 -7.171875 48.1875 -13.984375 \nQ 42 -20.796875 29.203125 -20.796875 \nQ 24.46875 -20.796875 20.265625 -20.09375 \nQ 16.0625 -19.390625 12.109375 -17.921875 \nL 12.109375 -9.1875 \nQ 16.0625 -11.328125 19.921875 -12.34375 \nQ 23.78125 -13.375 27.78125 -13.375 \nQ 36.625 -13.375 41.015625 -8.765625 \nQ 45.40625 -4.15625 45.40625 5.171875 \nL 45.40625 9.625 \nQ 42.625 4.78125 38.28125 2.390625 \nQ 33.9375 0 27.875 0 \nQ 17.828125 0 11.671875 7.65625 \nQ 5.515625 15.328125 5.515625 27.984375 \nQ 5.515625 40.671875 11.671875 48.328125 \nQ 17.828125 56 27.875 56 \nQ 33.9375 56 38.28125 53.609375 \nQ 42.625 51.21875 45.40625 46.390625 \nL 45.40625 54.6875 \nL 54.390625 54.6875 \nz\n\" id=\"DejaVuSans-103\"/>\n      </defs>\n      <g style=\"fill:#444443;\" transform=\"translate(107.891475 574.841571)rotate(-80)scale(0.09 -0.09)\">\n       <use xlink:href=\"#DejaVuSans-105\"/>\n       <use x=\"27.783203\" xlink:href=\"#DejaVuSans-115\"/>\n       <use x=\"79.882812\" xlink:href=\"#DejaVuSans-95\"/>\n       <use x=\"129.882812\" xlink:href=\"#DejaVuSans-115\"/>\n       <use x=\"181.982422\" xlink:href=\"#DejaVuSans-119\"/>\n       <use x=\"263.769531\" xlink:href=\"#DejaVuSans-105\"/>\n       <use x=\"291.552734\" xlink:href=\"#DejaVuSans-110\"/>\n       <use x=\"354.931641\" xlink:href=\"#DejaVuSans-103\"/>\n      </g>\n     </g>\n    </g>\n    <g id=\"xtick_2\">\n     <g id=\"line2d_2\">\n      <g>\n       <use style=\"stroke:#000000;stroke-width:0.8;\" x=\"144.121615\" xlink:href=\"#mf0a1879a04\" y=\"529.570972\"/>\n      </g>\n     </g>\n     <g id=\"text_2\">\n      <!-- plate_side -->\n      <defs>\n       <path d=\"M 18.109375 8.203125 \nL 18.109375 -20.796875 \nL 9.078125 -20.796875 \nL 9.078125 54.6875 \nL 18.109375 54.6875 \nL 18.109375 46.390625 \nQ 20.953125 51.265625 25.265625 53.625 \nQ 29.59375 56 35.59375 56 \nQ 45.5625 56 51.78125 48.09375 \nQ 58.015625 40.1875 58.015625 27.296875 \nQ 58.015625 14.40625 51.78125 6.484375 \nQ 45.5625 -1.421875 35.59375 -1.421875 \nQ 29.59375 -1.421875 25.265625 0.953125 \nQ 20.953125 3.328125 18.109375 8.203125 \nz\nM 48.6875 27.296875 \nQ 48.6875 37.203125 44.609375 42.84375 \nQ 40.53125 48.484375 33.40625 48.484375 \nQ 26.265625 48.484375 22.1875 42.84375 \nQ 18.109375 37.203125 18.109375 27.296875 \nQ 18.109375 17.390625 22.1875 11.75 \nQ 26.265625 6.109375 33.40625 6.109375 \nQ 40.53125 6.109375 44.609375 11.75 \nQ 48.6875 17.390625 48.6875 27.296875 \nz\n\" id=\"DejaVuSans-112\"/>\n       <path d=\"M 9.421875 75.984375 \nL 18.40625 75.984375 \nL 18.40625 0 \nL 9.421875 0 \nz\n\" id=\"DejaVuSans-108\"/>\n       <path d=\"M 34.28125 27.484375 \nQ 23.390625 27.484375 19.1875 25 \nQ 14.984375 22.515625 14.984375 16.5 \nQ 14.984375 11.71875 18.140625 8.90625 \nQ 21.296875 6.109375 26.703125 6.109375 \nQ 34.1875 6.109375 38.703125 11.40625 \nQ 43.21875 16.703125 43.21875 25.484375 \nL 43.21875 27.484375 \nz\nM 52.203125 31.203125 \nL 52.203125 0 \nL 43.21875 0 \nL 43.21875 8.296875 \nQ 40.140625 3.328125 35.546875 0.953125 \nQ 30.953125 -1.421875 24.3125 -1.421875 \nQ 15.921875 -1.421875 10.953125 3.296875 \nQ 6 8.015625 6 15.921875 \nQ 6 25.140625 12.171875 29.828125 \nQ 18.359375 34.515625 30.609375 34.515625 \nL 43.21875 34.515625 \nL 43.21875 35.40625 \nQ 43.21875 41.609375 39.140625 45 \nQ 35.0625 48.390625 27.6875 48.390625 \nQ 23 48.390625 18.546875 47.265625 \nQ 14.109375 46.140625 10.015625 43.890625 \nL 10.015625 52.203125 \nQ 14.9375 54.109375 19.578125 55.046875 \nQ 24.21875 56 28.609375 56 \nQ 40.484375 56 46.34375 49.84375 \nQ 52.203125 43.703125 52.203125 31.203125 \nz\n\" id=\"DejaVuSans-97\"/>\n       <path d=\"M 18.3125 70.21875 \nL 18.3125 54.6875 \nL 36.8125 54.6875 \nL 36.8125 47.703125 \nL 18.3125 47.703125 \nL 18.3125 18.015625 \nQ 18.3125 11.328125 20.140625 9.421875 \nQ 21.96875 7.515625 27.59375 7.515625 \nL 36.8125 7.515625 \nL 36.8125 0 \nL 27.59375 0 \nQ 17.1875 0 13.234375 3.875 \nQ 9.28125 7.765625 9.28125 18.015625 \nL 9.28125 47.703125 \nL 2.6875 47.703125 \nL 2.6875 54.6875 \nL 9.28125 54.6875 \nL 9.28125 70.21875 \nz\n\" id=\"DejaVuSans-116\"/>\n       <path d=\"M 56.203125 29.59375 \nL 56.203125 25.203125 \nL 14.890625 25.203125 \nQ 15.484375 15.921875 20.484375 11.0625 \nQ 25.484375 6.203125 34.421875 6.203125 \nQ 39.59375 6.203125 44.453125 7.46875 \nQ 49.3125 8.734375 54.109375 11.28125 \nL 54.109375 2.78125 \nQ 49.265625 0.734375 44.1875 -0.34375 \nQ 39.109375 -1.421875 33.890625 -1.421875 \nQ 20.796875 -1.421875 13.15625 6.1875 \nQ 5.515625 13.8125 5.515625 26.8125 \nQ 5.515625 40.234375 12.765625 48.109375 \nQ 20.015625 56 32.328125 56 \nQ 43.359375 56 49.78125 48.890625 \nQ 56.203125 41.796875 56.203125 29.59375 \nz\nM 47.21875 32.234375 \nQ 47.125 39.59375 43.09375 43.984375 \nQ 39.0625 48.390625 32.421875 48.390625 \nQ 24.90625 48.390625 20.390625 44.140625 \nQ 15.875 39.890625 15.1875 32.171875 \nz\n\" id=\"DejaVuSans-101\"/>\n       <path d=\"M 45.40625 46.390625 \nL 45.40625 75.984375 \nL 54.390625 75.984375 \nL 54.390625 0 \nL 45.40625 0 \nL 45.40625 8.203125 \nQ 42.578125 3.328125 38.25 0.953125 \nQ 33.9375 -1.421875 27.875 -1.421875 \nQ 17.96875 -1.421875 11.734375 6.484375 \nQ 5.515625 14.40625 5.515625 27.296875 \nQ 5.515625 40.1875 11.734375 48.09375 \nQ 17.96875 56 27.875 56 \nQ 33.9375 56 38.25 53.625 \nQ 42.578125 51.265625 45.40625 46.390625 \nz\nM 14.796875 27.296875 \nQ 14.796875 17.390625 18.875 11.75 \nQ 22.953125 6.109375 30.078125 6.109375 \nQ 37.203125 6.109375 41.296875 11.75 \nQ 45.40625 17.390625 45.40625 27.296875 \nQ 45.40625 37.203125 41.296875 42.84375 \nQ 37.203125 48.484375 30.078125 48.484375 \nQ 22.953125 48.484375 18.875 42.84375 \nQ 14.796875 37.203125 14.796875 27.296875 \nz\n\" id=\"DejaVuSans-100\"/>\n      </defs>\n      <g style=\"fill:#444443;\" transform=\"translate(134.089941 582.799125)rotate(-80)scale(0.09 -0.09)\">\n       <use xlink:href=\"#DejaVuSans-112\"/>\n       <use x=\"63.476562\" xlink:href=\"#DejaVuSans-108\"/>\n       <use x=\"91.259766\" xlink:href=\"#DejaVuSans-97\"/>\n       <use x=\"152.539062\" xlink:href=\"#DejaVuSans-116\"/>\n       <use x=\"191.748047\" xlink:href=\"#DejaVuSans-101\"/>\n       <use x=\"253.271484\" xlink:href=\"#DejaVuSans-95\"/>\n       <use x=\"303.271484\" xlink:href=\"#DejaVuSans-115\"/>\n       <use x=\"355.371094\" xlink:href=\"#DejaVuSans-105\"/>\n       <use x=\"383.154297\" xlink:href=\"#DejaVuSans-100\"/>\n       <use x=\"446.630859\" xlink:href=\"#DejaVuSans-101\"/>\n      </g>\n     </g>\n    </g>\n    <g id=\"xtick_3\">\n     <g id=\"line2d_3\">\n      <g>\n       <use style=\"stroke:#000000;stroke-width:0.8;\" x=\"171.723212\" xlink:href=\"#mf0a1879a04\" y=\"529.570972\"/>\n      </g>\n     </g>\n     <g id=\"text_3\">\n      <!-- plate_height -->\n      <defs>\n       <path d=\"M 54.890625 33.015625 \nL 54.890625 0 \nL 45.90625 0 \nL 45.90625 32.71875 \nQ 45.90625 40.484375 42.875 44.328125 \nQ 39.84375 48.1875 33.796875 48.1875 \nQ 26.515625 48.1875 22.3125 43.546875 \nQ 18.109375 38.921875 18.109375 30.90625 \nL 18.109375 0 \nL 9.078125 0 \nL 9.078125 75.984375 \nL 18.109375 75.984375 \nL 18.109375 46.1875 \nQ 21.34375 51.125 25.703125 53.5625 \nQ 30.078125 56 35.796875 56 \nQ 45.21875 56 50.046875 50.171875 \nQ 54.890625 44.34375 54.890625 33.015625 \nz\n\" id=\"DejaVuSans-104\"/>\n      </defs>\n      <g style=\"fill:#444443;\" transform=\"translate(159.912106 592.890789)rotate(-80)scale(0.09 -0.09)\">\n       <use xlink:href=\"#DejaVuSans-112\"/>\n       <use x=\"63.476562\" xlink:href=\"#DejaVuSans-108\"/>\n       <use x=\"91.259766\" xlink:href=\"#DejaVuSans-97\"/>\n       <use x=\"152.539062\" xlink:href=\"#DejaVuSans-116\"/>\n       <use x=\"191.748047\" xlink:href=\"#DejaVuSans-101\"/>\n       <use x=\"253.271484\" xlink:href=\"#DejaVuSans-95\"/>\n       <use x=\"303.271484\" xlink:href=\"#DejaVuSans-104\"/>\n       <use x=\"366.650391\" xlink:href=\"#DejaVuSans-101\"/>\n       <use x=\"428.173828\" xlink:href=\"#DejaVuSans-105\"/>\n       <use x=\"455.957031\" xlink:href=\"#DejaVuSans-103\"/>\n       <use x=\"519.433594\" xlink:href=\"#DejaVuSans-104\"/>\n       <use x=\"582.8125\" xlink:href=\"#DejaVuSans-116\"/>\n      </g>\n     </g>\n    </g>\n    <g id=\"xtick_4\">\n     <g id=\"line2d_4\">\n      <g>\n       <use style=\"stroke:#000000;stroke-width:0.8;\" x=\"199.32481\" xlink:href=\"#mf0a1879a04\" y=\"529.570972\"/>\n      </g>\n     </g>\n     <g id=\"text_4\">\n      <!-- strikes -->\n      <defs>\n       <path d=\"M 41.109375 46.296875 \nQ 39.59375 47.171875 37.8125 47.578125 \nQ 36.03125 48 33.890625 48 \nQ 26.265625 48 22.1875 43.046875 \nQ 18.109375 38.09375 18.109375 28.8125 \nL 18.109375 0 \nL 9.078125 0 \nL 9.078125 54.6875 \nL 18.109375 54.6875 \nL 18.109375 46.1875 \nQ 20.953125 51.171875 25.484375 53.578125 \nQ 30.03125 56 36.53125 56 \nQ 37.453125 56 38.578125 55.875 \nQ 39.703125 55.765625 41.0625 55.515625 \nz\n\" id=\"DejaVuSans-114\"/>\n       <path d=\"M 9.078125 75.984375 \nL 18.109375 75.984375 \nL 18.109375 31.109375 \nL 44.921875 54.6875 \nL 56.390625 54.6875 \nL 27.390625 29.109375 \nL 57.625 0 \nL 45.90625 0 \nL 18.109375 26.703125 \nL 18.109375 0 \nL 9.078125 0 \nz\n\" id=\"DejaVuSans-107\"/>\n      </defs>\n      <g style=\"fill:#444443;\" transform=\"translate(192.353967 566.838315)rotate(-80)scale(0.09 -0.09)\">\n       <use xlink:href=\"#DejaVuSans-115\"/>\n       <use x=\"52.099609\" xlink:href=\"#DejaVuSans-116\"/>\n       <use x=\"91.308594\" xlink:href=\"#DejaVuSans-114\"/>\n       <use x=\"132.421875\" xlink:href=\"#DejaVuSans-105\"/>\n       <use x=\"160.205078\" xlink:href=\"#DejaVuSans-107\"/>\n       <use x=\"214.490234\" xlink:href=\"#DejaVuSans-101\"/>\n       <use x=\"276.013672\" xlink:href=\"#DejaVuSans-115\"/>\n      </g>\n     </g>\n    </g>\n    <g id=\"xtick_5\">\n     <g id=\"line2d_5\">\n      <g>\n       <use style=\"stroke:#000000;stroke-width:0.8;\" x=\"226.926407\" xlink:href=\"#mf0a1879a04\" y=\"529.570972\"/>\n      </g>\n     </g>\n     <g id=\"text_5\">\n      <!-- vert_release_angle -->\n      <defs>\n       <path d=\"M 2.984375 54.6875 \nL 12.5 54.6875 \nL 29.59375 8.796875 \nL 46.6875 54.6875 \nL 56.203125 54.6875 \nL 35.6875 0 \nL 23.484375 0 \nz\n\" id=\"DejaVuSans-118\"/>\n      </defs>\n      <g style=\"fill:#444443;\" transform=\"translate(210.097628 621.347425)rotate(-80)scale(0.09 -0.09)\">\n       <use xlink:href=\"#DejaVuSans-118\"/>\n       <use x=\"59.179688\" xlink:href=\"#DejaVuSans-101\"/>\n       <use x=\"120.703125\" xlink:href=\"#DejaVuSans-114\"/>\n       <use x=\"161.816406\" xlink:href=\"#DejaVuSans-116\"/>\n       <use x=\"201.025391\" xlink:href=\"#DejaVuSans-95\"/>\n       <use x=\"251.025391\" xlink:href=\"#DejaVuSans-114\"/>\n       <use x=\"289.888672\" xlink:href=\"#DejaVuSans-101\"/>\n       <use x=\"351.412109\" xlink:href=\"#DejaVuSans-108\"/>\n       <use x=\"379.195312\" xlink:href=\"#DejaVuSans-101\"/>\n       <use x=\"440.71875\" xlink:href=\"#DejaVuSans-97\"/>\n       <use x=\"501.998047\" xlink:href=\"#DejaVuSans-115\"/>\n       <use x=\"554.097656\" xlink:href=\"#DejaVuSans-101\"/>\n       <use x=\"615.621094\" xlink:href=\"#DejaVuSans-95\"/>\n       <use x=\"665.621094\" xlink:href=\"#DejaVuSans-97\"/>\n       <use x=\"726.900391\" xlink:href=\"#DejaVuSans-110\"/>\n       <use x=\"790.279297\" xlink:href=\"#DejaVuSans-103\"/>\n       <use x=\"853.755859\" xlink:href=\"#DejaVuSans-108\"/>\n       <use x=\"881.539062\" xlink:href=\"#DejaVuSans-101\"/>\n      </g>\n     </g>\n    </g>\n    <g id=\"xtick_6\">\n     <g id=\"line2d_6\">\n      <g>\n       <use style=\"stroke:#000000;stroke-width:0.8;\" x=\"254.528004\" xlink:href=\"#mf0a1879a04\" y=\"529.570972\"/>\n      </g>\n     </g>\n     <g id=\"text_6\">\n      <!-- balls -->\n      <defs>\n       <path d=\"M 48.6875 27.296875 \nQ 48.6875 37.203125 44.609375 42.84375 \nQ 40.53125 48.484375 33.40625 48.484375 \nQ 26.265625 48.484375 22.1875 42.84375 \nQ 18.109375 37.203125 18.109375 27.296875 \nQ 18.109375 17.390625 22.1875 11.75 \nQ 26.265625 6.109375 33.40625 6.109375 \nQ 40.53125 6.109375 44.609375 11.75 \nQ 48.6875 17.390625 48.6875 27.296875 \nz\nM 18.109375 46.390625 \nQ 20.953125 51.265625 25.265625 53.625 \nQ 29.59375 56 35.59375 56 \nQ 45.5625 56 51.78125 48.09375 \nQ 58.015625 40.1875 58.015625 27.296875 \nQ 58.015625 14.40625 51.78125 6.484375 \nQ 45.5625 -1.421875 35.59375 -1.421875 \nQ 29.59375 -1.421875 25.265625 0.953125 \nQ 20.953125 3.328125 18.109375 8.203125 \nL 18.109375 0 \nL 9.078125 0 \nL 9.078125 75.984375 \nL 18.109375 75.984375 \nz\n\" id=\"DejaVuSans-98\"/>\n      </defs>\n      <g style=\"fill:#444443;\" transform=\"translate(249.052354 558.358659)rotate(-80)scale(0.09 -0.09)\">\n       <use xlink:href=\"#DejaVuSans-98\"/>\n       <use x=\"63.476562\" xlink:href=\"#DejaVuSans-97\"/>\n       <use x=\"124.755859\" xlink:href=\"#DejaVuSans-108\"/>\n       <use x=\"152.539062\" xlink:href=\"#DejaVuSans-108\"/>\n       <use x=\"180.322266\" xlink:href=\"#DejaVuSans-115\"/>\n      </g>\n     </g>\n    </g>\n    <g id=\"xtick_7\">\n     <g id=\"line2d_7\">\n      <g>\n       <use style=\"stroke:#000000;stroke-width:0.8;\" x=\"282.129602\" xlink:href=\"#mf0a1879a04\" y=\"529.570972\"/>\n      </g>\n     </g>\n     <g id=\"text_7\">\n      <!-- horz_release_angle -->\n      <defs>\n       <path d=\"M 30.609375 48.390625 \nQ 23.390625 48.390625 19.1875 42.75 \nQ 14.984375 37.109375 14.984375 27.296875 \nQ 14.984375 17.484375 19.15625 11.84375 \nQ 23.34375 6.203125 30.609375 6.203125 \nQ 37.796875 6.203125 41.984375 11.859375 \nQ 46.1875 17.53125 46.1875 27.296875 \nQ 46.1875 37.015625 41.984375 42.703125 \nQ 37.796875 48.390625 30.609375 48.390625 \nz\nM 30.609375 56 \nQ 42.328125 56 49.015625 48.375 \nQ 55.71875 40.765625 55.71875 27.296875 \nQ 55.71875 13.875 49.015625 6.21875 \nQ 42.328125 -1.421875 30.609375 -1.421875 \nQ 18.84375 -1.421875 12.171875 6.21875 \nQ 5.515625 13.875 5.515625 27.296875 \nQ 5.515625 40.765625 12.171875 48.375 \nQ 18.84375 56 30.609375 56 \nz\n\" id=\"DejaVuSans-111\"/>\n       <path d=\"M 5.515625 54.6875 \nL 48.1875 54.6875 \nL 48.1875 46.484375 \nL 14.40625 7.171875 \nL 48.1875 7.171875 \nL 48.1875 0 \nL 4.296875 0 \nL 4.296875 8.203125 \nL 38.09375 47.515625 \nL 5.515625 47.515625 \nz\n\" id=\"DejaVuSans-122\"/>\n      </defs>\n      <g style=\"fill:#444443;\" transform=\"translate(265.033188 622.865259)rotate(-80)scale(0.09 -0.09)\">\n       <use xlink:href=\"#DejaVuSans-104\"/>\n       <use x=\"63.378906\" xlink:href=\"#DejaVuSans-111\"/>\n       <use x=\"124.560547\" xlink:href=\"#DejaVuSans-114\"/>\n       <use x=\"165.673828\" xlink:href=\"#DejaVuSans-122\"/>\n       <use x=\"218.164062\" xlink:href=\"#DejaVuSans-95\"/>\n       <use x=\"268.164062\" xlink:href=\"#DejaVuSans-114\"/>\n       <use x=\"307.027344\" xlink:href=\"#DejaVuSans-101\"/>\n       <use x=\"368.550781\" xlink:href=\"#DejaVuSans-108\"/>\n       <use x=\"396.333984\" xlink:href=\"#DejaVuSans-101\"/>\n       <use x=\"457.857422\" xlink:href=\"#DejaVuSans-97\"/>\n       <use x=\"519.136719\" xlink:href=\"#DejaVuSans-115\"/>\n       <use x=\"571.236328\" xlink:href=\"#DejaVuSans-101\"/>\n       <use x=\"632.759766\" xlink:href=\"#DejaVuSans-95\"/>\n       <use x=\"682.759766\" xlink:href=\"#DejaVuSans-97\"/>\n       <use x=\"744.039062\" xlink:href=\"#DejaVuSans-110\"/>\n       <use x=\"807.417969\" xlink:href=\"#DejaVuSans-103\"/>\n       <use x=\"870.894531\" xlink:href=\"#DejaVuSans-108\"/>\n       <use x=\"898.677734\" xlink:href=\"#DejaVuSans-101\"/>\n      </g>\n     </g>\n    </g>\n    <g id=\"xtick_8\">\n     <g id=\"line2d_8\">\n      <g>\n       <use style=\"stroke:#000000;stroke-width:0.8;\" x=\"309.731199\" xlink:href=\"#mf0a1879a04\" y=\"529.570972\"/>\n      </g>\n     </g>\n     <g id=\"text_8\">\n      <!-- vert_break -->\n      <g style=\"fill:#444443;\" transform=\"translate(299.29441 585.096651)rotate(-80)scale(0.09 -0.09)\">\n       <use xlink:href=\"#DejaVuSans-118\"/>\n       <use x=\"59.179688\" xlink:href=\"#DejaVuSans-101\"/>\n       <use x=\"120.703125\" xlink:href=\"#DejaVuSans-114\"/>\n       <use x=\"161.816406\" xlink:href=\"#DejaVuSans-116\"/>\n       <use x=\"201.025391\" xlink:href=\"#DejaVuSans-95\"/>\n       <use x=\"251.025391\" xlink:href=\"#DejaVuSans-98\"/>\n       <use x=\"314.501953\" xlink:href=\"#DejaVuSans-114\"/>\n       <use x=\"353.365234\" xlink:href=\"#DejaVuSans-101\"/>\n       <use x=\"414.888672\" xlink:href=\"#DejaVuSans-97\"/>\n       <use x=\"476.167969\" xlink:href=\"#DejaVuSans-107\"/>\n      </g>\n     </g>\n    </g>\n    <g id=\"xtick_9\">\n     <g id=\"line2d_9\">\n      <g>\n       <use style=\"stroke:#000000;stroke-width:0.8;\" x=\"337.332796\" xlink:href=\"#mf0a1879a04\" y=\"529.570972\"/>\n      </g>\n     </g>\n     <g id=\"text_9\">\n      <!-- horz_break -->\n      <g style=\"fill:#444443;\" transform=\"translate(326.628372 586.614486)rotate(-80)scale(0.09 -0.09)\">\n       <use xlink:href=\"#DejaVuSans-104\"/>\n       <use x=\"63.378906\" xlink:href=\"#DejaVuSans-111\"/>\n       <use x=\"124.560547\" xlink:href=\"#DejaVuSans-114\"/>\n       <use x=\"165.673828\" xlink:href=\"#DejaVuSans-122\"/>\n       <use x=\"218.164062\" xlink:href=\"#DejaVuSans-95\"/>\n       <use x=\"268.164062\" xlink:href=\"#DejaVuSans-98\"/>\n       <use x=\"331.640625\" xlink:href=\"#DejaVuSans-114\"/>\n       <use x=\"370.503906\" xlink:href=\"#DejaVuSans-101\"/>\n       <use x=\"432.027344\" xlink:href=\"#DejaVuSans-97\"/>\n       <use x=\"493.306641\" xlink:href=\"#DejaVuSans-107\"/>\n      </g>\n     </g>\n    </g>\n    <g id=\"xtick_10\">\n     <g id=\"line2d_10\">\n      <g>\n       <use style=\"stroke:#000000;stroke-width:0.8;\" x=\"364.934394\" xlink:href=\"#mf0a1879a04\" y=\"529.570972\"/>\n      </g>\n     </g>\n     <g id=\"text_10\">\n      <!-- vert_approach_angle -->\n      <defs>\n       <path d=\"M 48.78125 52.59375 \nL 48.78125 44.1875 \nQ 44.96875 46.296875 41.140625 47.34375 \nQ 37.3125 48.390625 33.40625 48.390625 \nQ 24.65625 48.390625 19.8125 42.84375 \nQ 14.984375 37.3125 14.984375 27.296875 \nQ 14.984375 17.28125 19.8125 11.734375 \nQ 24.65625 6.203125 33.40625 6.203125 \nQ 37.3125 6.203125 41.140625 7.25 \nQ 44.96875 8.296875 48.78125 10.40625 \nL 48.78125 2.09375 \nQ 45.015625 0.34375 40.984375 -0.53125 \nQ 36.96875 -1.421875 32.421875 -1.421875 \nQ 20.0625 -1.421875 12.78125 6.34375 \nQ 5.515625 14.109375 5.515625 27.296875 \nQ 5.515625 40.671875 12.859375 48.328125 \nQ 20.21875 56 33.015625 56 \nQ 37.15625 56 41.109375 55.140625 \nQ 45.0625 54.296875 48.78125 52.59375 \nz\n\" id=\"DejaVuSans-99\"/>\n      </defs>\n      <g style=\"fill:#444443;\" transform=\"translate(346.490768 630.505675)rotate(-80)scale(0.09 -0.09)\">\n       <use xlink:href=\"#DejaVuSans-118\"/>\n       <use x=\"59.179688\" xlink:href=\"#DejaVuSans-101\"/>\n       <use x=\"120.703125\" xlink:href=\"#DejaVuSans-114\"/>\n       <use x=\"161.816406\" xlink:href=\"#DejaVuSans-116\"/>\n       <use x=\"201.025391\" xlink:href=\"#DejaVuSans-95\"/>\n       <use x=\"251.025391\" xlink:href=\"#DejaVuSans-97\"/>\n       <use x=\"312.304688\" xlink:href=\"#DejaVuSans-112\"/>\n       <use x=\"375.78125\" xlink:href=\"#DejaVuSans-112\"/>\n       <use x=\"439.257812\" xlink:href=\"#DejaVuSans-114\"/>\n       <use x=\"478.121094\" xlink:href=\"#DejaVuSans-111\"/>\n       <use x=\"539.302734\" xlink:href=\"#DejaVuSans-97\"/>\n       <use x=\"600.582031\" xlink:href=\"#DejaVuSans-99\"/>\n       <use x=\"655.5625\" xlink:href=\"#DejaVuSans-104\"/>\n       <use x=\"718.941406\" xlink:href=\"#DejaVuSans-95\"/>\n       <use x=\"768.941406\" xlink:href=\"#DejaVuSans-97\"/>\n       <use x=\"830.220703\" xlink:href=\"#DejaVuSans-110\"/>\n       <use x=\"893.599609\" xlink:href=\"#DejaVuSans-103\"/>\n       <use x=\"957.076172\" xlink:href=\"#DejaVuSans-108\"/>\n       <use x=\"984.859375\" xlink:href=\"#DejaVuSans-101\"/>\n      </g>\n     </g>\n    </g>\n    <g id=\"xtick_11\">\n     <g id=\"line2d_11\">\n      <g>\n       <use style=\"stroke:#000000;stroke-width:0.8;\" x=\"392.535991\" xlink:href=\"#mf0a1879a04\" y=\"529.570972\"/>\n      </g>\n     </g>\n     <g id=\"text_11\">\n      <!-- rel_side -->\n      <g style=\"fill:#444443;\" transform=\"translate(384.459569 571.710344)rotate(-80)scale(0.09 -0.09)\">\n       <use xlink:href=\"#DejaVuSans-114\"/>\n       <use x=\"38.863281\" xlink:href=\"#DejaVuSans-101\"/>\n       <use x=\"100.386719\" xlink:href=\"#DejaVuSans-108\"/>\n       <use x=\"128.169922\" xlink:href=\"#DejaVuSans-95\"/>\n       <use x=\"178.169922\" xlink:href=\"#DejaVuSans-115\"/>\n       <use x=\"230.269531\" xlink:href=\"#DejaVuSans-105\"/>\n       <use x=\"258.052734\" xlink:href=\"#DejaVuSans-100\"/>\n       <use x=\"321.529297\" xlink:href=\"#DejaVuSans-101\"/>\n      </g>\n     </g>\n    </g>\n    <g id=\"xtick_12\">\n     <g id=\"line2d_12\">\n      <g>\n       <use style=\"stroke:#000000;stroke-width:0.8;\" x=\"420.137588\" xlink:href=\"#mf0a1879a04\" y=\"529.570972\"/>\n      </g>\n     </g>\n     <g id=\"text_12\">\n      <!-- horz_approach_angle -->\n      <g style=\"fill:#444443;\" transform=\"translate(401.426328 632.02351)rotate(-80)scale(0.09 -0.09)\">\n       <use xlink:href=\"#DejaVuSans-104\"/>\n       <use x=\"63.378906\" xlink:href=\"#DejaVuSans-111\"/>\n       <use x=\"124.560547\" xlink:href=\"#DejaVuSans-114\"/>\n       <use x=\"165.673828\" xlink:href=\"#DejaVuSans-122\"/>\n       <use x=\"218.164062\" xlink:href=\"#DejaVuSans-95\"/>\n       <use x=\"268.164062\" xlink:href=\"#DejaVuSans-97\"/>\n       <use x=\"329.443359\" xlink:href=\"#DejaVuSans-112\"/>\n       <use x=\"392.919922\" xlink:href=\"#DejaVuSans-112\"/>\n       <use x=\"456.396484\" xlink:href=\"#DejaVuSans-114\"/>\n       <use x=\"495.259766\" xlink:href=\"#DejaVuSans-111\"/>\n       <use x=\"556.441406\" xlink:href=\"#DejaVuSans-97\"/>\n       <use x=\"617.720703\" xlink:href=\"#DejaVuSans-99\"/>\n       <use x=\"672.701172\" xlink:href=\"#DejaVuSans-104\"/>\n       <use x=\"736.080078\" xlink:href=\"#DejaVuSans-95\"/>\n       <use x=\"786.080078\" xlink:href=\"#DejaVuSans-97\"/>\n       <use x=\"847.359375\" xlink:href=\"#DejaVuSans-110\"/>\n       <use x=\"910.738281\" xlink:href=\"#DejaVuSans-103\"/>\n       <use x=\"974.214844\" xlink:href=\"#DejaVuSans-108\"/>\n       <use x=\"1001.998047\" xlink:href=\"#DejaVuSans-101\"/>\n      </g>\n     </g>\n    </g>\n    <g id=\"xtick_13\">\n     <g id=\"line2d_13\">\n      <g>\n       <use style=\"stroke:#000000;stroke-width:0.8;\" x=\"447.739186\" xlink:href=\"#mf0a1879a04\" y=\"529.570972\"/>\n      </g>\n     </g>\n     <g id=\"text_13\">\n      <!-- induced_vert_break -->\n      <defs>\n       <path d=\"M 8.5 21.578125 \nL 8.5 54.6875 \nL 17.484375 54.6875 \nL 17.484375 21.921875 \nQ 17.484375 14.15625 20.5 10.265625 \nQ 23.53125 6.390625 29.59375 6.390625 \nQ 36.859375 6.390625 41.078125 11.03125 \nQ 45.3125 15.671875 45.3125 23.6875 \nL 45.3125 54.6875 \nL 54.296875 54.6875 \nL 54.296875 0 \nL 45.3125 0 \nL 45.3125 8.40625 \nQ 42.046875 3.421875 37.71875 1 \nQ 33.40625 -1.421875 27.6875 -1.421875 \nQ 18.265625 -1.421875 13.375 4.4375 \nQ 8.5 10.296875 8.5 21.578125 \nz\nM 31.109375 56 \nz\n\" id=\"DejaVuSans-117\"/>\n      </defs>\n      <g style=\"fill:#444443;\" transform=\"translate(430.300658 624.805485)rotate(-80)scale(0.09 -0.09)\">\n       <use xlink:href=\"#DejaVuSans-105\"/>\n       <use x=\"27.783203\" xlink:href=\"#DejaVuSans-110\"/>\n       <use x=\"91.162109\" xlink:href=\"#DejaVuSans-100\"/>\n       <use x=\"154.638672\" xlink:href=\"#DejaVuSans-117\"/>\n       <use x=\"218.017578\" xlink:href=\"#DejaVuSans-99\"/>\n       <use x=\"272.998047\" xlink:href=\"#DejaVuSans-101\"/>\n       <use x=\"334.521484\" xlink:href=\"#DejaVuSans-100\"/>\n       <use x=\"397.998047\" xlink:href=\"#DejaVuSans-95\"/>\n       <use x=\"447.998047\" xlink:href=\"#DejaVuSans-118\"/>\n       <use x=\"507.177734\" xlink:href=\"#DejaVuSans-101\"/>\n       <use x=\"568.701172\" xlink:href=\"#DejaVuSans-114\"/>\n       <use x=\"609.814453\" xlink:href=\"#DejaVuSans-116\"/>\n       <use x=\"649.023438\" xlink:href=\"#DejaVuSans-95\"/>\n       <use x=\"699.023438\" xlink:href=\"#DejaVuSans-98\"/>\n       <use x=\"762.5\" xlink:href=\"#DejaVuSans-114\"/>\n       <use x=\"801.363281\" xlink:href=\"#DejaVuSans-101\"/>\n       <use x=\"862.886719\" xlink:href=\"#DejaVuSans-97\"/>\n       <use x=\"924.166016\" xlink:href=\"#DejaVuSans-107\"/>\n      </g>\n     </g>\n    </g>\n    <g id=\"xtick_14\">\n     <g id=\"line2d_14\">\n      <g>\n       <use style=\"stroke:#000000;stroke-width:0.8;\" x=\"475.340783\" xlink:href=\"#mf0a1879a04\" y=\"529.570972\"/>\n      </g>\n     </g>\n     <g id=\"text_14\">\n      <!-- tilt -->\n      <g style=\"fill:#444443;\" transform=\"translate(471.403791 549.632493)rotate(-80)scale(0.09 -0.09)\">\n       <use xlink:href=\"#DejaVuSans-116\"/>\n       <use x=\"39.208984\" xlink:href=\"#DejaVuSans-105\"/>\n       <use x=\"66.992188\" xlink:href=\"#DejaVuSans-108\"/>\n       <use x=\"94.775391\" xlink:href=\"#DejaVuSans-116\"/>\n      </g>\n     </g>\n    </g>\n    <g id=\"xtick_15\">\n     <g id=\"line2d_15\">\n      <g>\n       <use style=\"stroke:#000000;stroke-width:0.8;\" x=\"502.942381\" xlink:href=\"#mf0a1879a04\" y=\"529.570972\"/>\n      </g>\n     </g>\n     <g id=\"text_15\">\n      <!-- x55 -->\n      <defs>\n       <path d=\"M 54.890625 54.6875 \nL 35.109375 28.078125 \nL 55.90625 0 \nL 45.3125 0 \nL 29.390625 21.484375 \nL 13.484375 0 \nL 2.875 0 \nL 24.125 28.609375 \nL 4.6875 54.6875 \nL 15.28125 54.6875 \nL 29.78125 35.203125 \nL 44.28125 54.6875 \nz\n\" id=\"DejaVuSans-120\"/>\n       <path d=\"M 10.796875 72.90625 \nL 49.515625 72.90625 \nL 49.515625 64.59375 \nL 19.828125 64.59375 \nL 19.828125 46.734375 \nQ 21.96875 47.46875 24.109375 47.828125 \nQ 26.265625 48.1875 28.421875 48.1875 \nQ 40.625 48.1875 47.75 41.5 \nQ 54.890625 34.8125 54.890625 23.390625 \nQ 54.890625 11.625 47.5625 5.09375 \nQ 40.234375 -1.421875 26.90625 -1.421875 \nQ 22.3125 -1.421875 17.546875 -0.640625 \nQ 12.796875 0.140625 7.71875 1.703125 \nL 7.71875 11.625 \nQ 12.109375 9.234375 16.796875 8.0625 \nQ 21.484375 6.890625 26.703125 6.890625 \nQ 35.15625 6.890625 40.078125 11.328125 \nQ 45.015625 15.765625 45.015625 23.390625 \nQ 45.015625 31 40.078125 35.4375 \nQ 35.15625 39.890625 26.703125 39.890625 \nQ 22.75 39.890625 18.8125 39.015625 \nQ 14.890625 38.140625 10.796875 36.28125 \nz\n\" id=\"DejaVuSans-53\"/>\n      </defs>\n      <g style=\"fill:#444443;\" transform=\"translate(498.18539 554.28294)rotate(-80)scale(0.09 -0.09)\">\n       <use xlink:href=\"#DejaVuSans-120\"/>\n       <use x=\"59.179688\" xlink:href=\"#DejaVuSans-53\"/>\n       <use x=\"122.802734\" xlink:href=\"#DejaVuSans-53\"/>\n      </g>\n     </g>\n    </g>\n    <g id=\"xtick_16\">\n     <g id=\"line2d_16\">\n      <g>\n       <use style=\"stroke:#000000;stroke-width:0.8;\" x=\"530.543978\" xlink:href=\"#mf0a1879a04\" y=\"529.570972\"/>\n      </g>\n     </g>\n     <g id=\"text_16\">\n      <!-- batter_side -->\n      <g style=\"fill:#444443;\" transform=\"translate(519.691328 587.455112)rotate(-80)scale(0.09 -0.09)\">\n       <use xlink:href=\"#DejaVuSans-98\"/>\n       <use x=\"63.476562\" xlink:href=\"#DejaVuSans-97\"/>\n       <use x=\"124.755859\" xlink:href=\"#DejaVuSans-116\"/>\n       <use x=\"163.964844\" xlink:href=\"#DejaVuSans-116\"/>\n       <use x=\"203.173828\" xlink:href=\"#DejaVuSans-101\"/>\n       <use x=\"264.697266\" xlink:href=\"#DejaVuSans-114\"/>\n       <use x=\"305.810547\" xlink:href=\"#DejaVuSans-95\"/>\n       <use x=\"355.810547\" xlink:href=\"#DejaVuSans-115\"/>\n       <use x=\"407.910156\" xlink:href=\"#DejaVuSans-105\"/>\n       <use x=\"435.693359\" xlink:href=\"#DejaVuSans-100\"/>\n       <use x=\"499.169922\" xlink:href=\"#DejaVuSans-101\"/>\n      </g>\n     </g>\n    </g>\n    <g id=\"xtick_17\">\n     <g id=\"line2d_17\">\n      <g>\n       <use style=\"stroke:#000000;stroke-width:0.8;\" x=\"558.145575\" xlink:href=\"#mf0a1879a04\" y=\"529.570972\"/>\n      </g>\n     </g>\n     <g id=\"text_17\">\n      <!-- release_speed -->\n      <g style=\"fill:#444443;\" transform=\"translate(544.854417 601.284582)rotate(-80)scale(0.09 -0.09)\">\n       <use xlink:href=\"#DejaVuSans-114\"/>\n       <use x=\"38.863281\" xlink:href=\"#DejaVuSans-101\"/>\n       <use x=\"100.386719\" xlink:href=\"#DejaVuSans-108\"/>\n       <use x=\"128.169922\" xlink:href=\"#DejaVuSans-101\"/>\n       <use x=\"189.693359\" xlink:href=\"#DejaVuSans-97\"/>\n       <use x=\"250.972656\" xlink:href=\"#DejaVuSans-115\"/>\n       <use x=\"303.072266\" xlink:href=\"#DejaVuSans-101\"/>\n       <use x=\"364.595703\" xlink:href=\"#DejaVuSans-95\"/>\n       <use x=\"414.595703\" xlink:href=\"#DejaVuSans-115\"/>\n       <use x=\"466.695312\" xlink:href=\"#DejaVuSans-112\"/>\n       <use x=\"530.171875\" xlink:href=\"#DejaVuSans-101\"/>\n       <use x=\"591.695312\" xlink:href=\"#DejaVuSans-101\"/>\n       <use x=\"653.21875\" xlink:href=\"#DejaVuSans-100\"/>\n      </g>\n     </g>\n    </g>\n    <g id=\"xtick_18\">\n     <g id=\"line2d_18\">\n      <g>\n       <use style=\"stroke:#000000;stroke-width:0.8;\" x=\"585.747173\" xlink:href=\"#mf0a1879a04\" y=\"529.570972\"/>\n      </g>\n     </g>\n     <g id=\"text_18\">\n      <!-- pitch_type -->\n      <defs>\n       <path d=\"M 32.171875 -5.078125 \nQ 28.375 -14.84375 24.75 -17.8125 \nQ 21.140625 -20.796875 15.09375 -20.796875 \nL 7.90625 -20.796875 \nL 7.90625 -13.28125 \nL 13.1875 -13.28125 \nQ 16.890625 -13.28125 18.9375 -11.515625 \nQ 21 -9.765625 23.484375 -3.21875 \nL 25.09375 0.875 \nL 2.984375 54.6875 \nL 12.5 54.6875 \nL 29.59375 11.921875 \nL 46.6875 54.6875 \nL 56.203125 54.6875 \nz\n\" id=\"DejaVuSans-121\"/>\n      </defs>\n      <g style=\"fill:#444443;\" transform=\"translate(575.495726 584.045523)rotate(-80)scale(0.09 -0.09)\">\n       <use xlink:href=\"#DejaVuSans-112\"/>\n       <use x=\"63.476562\" xlink:href=\"#DejaVuSans-105\"/>\n       <use x=\"91.259766\" xlink:href=\"#DejaVuSans-116\"/>\n       <use x=\"130.46875\" xlink:href=\"#DejaVuSans-99\"/>\n       <use x=\"185.449219\" xlink:href=\"#DejaVuSans-104\"/>\n       <use x=\"248.828125\" xlink:href=\"#DejaVuSans-95\"/>\n       <use x=\"298.828125\" xlink:href=\"#DejaVuSans-116\"/>\n       <use x=\"338.037109\" xlink:href=\"#DejaVuSans-121\"/>\n       <use x=\"397.216797\" xlink:href=\"#DejaVuSans-112\"/>\n       <use x=\"460.693359\" xlink:href=\"#DejaVuSans-101\"/>\n      </g>\n     </g>\n    </g>\n    <g id=\"xtick_19\">\n     <g id=\"line2d_19\">\n      <g>\n       <use style=\"stroke:#000000;stroke-width:0.8;\" x=\"613.34877\" xlink:href=\"#mf0a1879a04\" y=\"529.570972\"/>\n      </g>\n     </g>\n     <g id=\"text_19\">\n      <!-- level -->\n      <g style=\"fill:#444443;\" transform=\"translate(607.788873 558.836445)rotate(-80)scale(0.09 -0.09)\">\n       <use xlink:href=\"#DejaVuSans-108\"/>\n       <use x=\"27.783203\" xlink:href=\"#DejaVuSans-101\"/>\n       <use x=\"89.306641\" xlink:href=\"#DejaVuSans-118\"/>\n       <use x=\"148.486328\" xlink:href=\"#DejaVuSans-101\"/>\n       <use x=\"210.009766\" xlink:href=\"#DejaVuSans-108\"/>\n      </g>\n     </g>\n    </g>\n   </g>\n   <g id=\"matplotlib.axis_2\">\n    <g id=\"ytick_1\">\n     <g id=\"line2d_20\">\n      <defs>\n       <path d=\"M 0 0 \nL -3.5 0 \n\" id=\"mb0902f0dd1\" style=\"stroke:#000000;stroke-width:0.8;\"/>\n      </defs>\n      <g>\n       <use style=\"stroke:#000000;stroke-width:0.8;\" x=\"102.719219\" xlink:href=\"#mb0902f0dd1\" y=\"18.941421\"/>\n      </g>\n     </g>\n     <g id=\"text_20\">\n      <!-- is_swing -->\n      <g style=\"fill:#444443;\" transform=\"translate(58.064062 21.299702)scale(0.09 -0.09)\">\n       <use xlink:href=\"#DejaVuSans-105\"/>\n       <use x=\"27.783203\" xlink:href=\"#DejaVuSans-115\"/>\n       <use x=\"79.882812\" xlink:href=\"#DejaVuSans-95\"/>\n       <use x=\"129.882812\" xlink:href=\"#DejaVuSans-115\"/>\n       <use x=\"181.982422\" xlink:href=\"#DejaVuSans-119\"/>\n       <use x=\"263.769531\" xlink:href=\"#DejaVuSans-105\"/>\n       <use x=\"291.552734\" xlink:href=\"#DejaVuSans-110\"/>\n       <use x=\"354.931641\" xlink:href=\"#DejaVuSans-103\"/>\n      </g>\n     </g>\n    </g>\n    <g id=\"ytick_2\">\n     <g id=\"line2d_21\">\n      <g>\n       <use style=\"stroke:#000000;stroke-width:0.8;\" x=\"102.719219\" xlink:href=\"#mb0902f0dd1\" y=\"46.543018\"/>\n      </g>\n     </g>\n     <g id=\"text_21\">\n      <!-- plate_side -->\n      <g style=\"fill:#444443;\" transform=\"translate(49.98375 48.901299)scale(0.09 -0.09)\">\n       <use xlink:href=\"#DejaVuSans-112\"/>\n       <use x=\"63.476562\" xlink:href=\"#DejaVuSans-108\"/>\n       <use x=\"91.259766\" xlink:href=\"#DejaVuSans-97\"/>\n       <use x=\"152.539062\" xlink:href=\"#DejaVuSans-116\"/>\n       <use x=\"191.748047\" xlink:href=\"#DejaVuSans-101\"/>\n       <use x=\"253.271484\" xlink:href=\"#DejaVuSans-95\"/>\n       <use x=\"303.271484\" xlink:href=\"#DejaVuSans-115\"/>\n       <use x=\"355.371094\" xlink:href=\"#DejaVuSans-105\"/>\n       <use x=\"383.154297\" xlink:href=\"#DejaVuSans-100\"/>\n       <use x=\"446.630859\" xlink:href=\"#DejaVuSans-101\"/>\n      </g>\n     </g>\n    </g>\n    <g id=\"ytick_3\">\n     <g id=\"line2d_22\">\n      <g>\n       <use style=\"stroke:#000000;stroke-width:0.8;\" x=\"102.719219\" xlink:href=\"#mb0902f0dd1\" y=\"74.144615\"/>\n      </g>\n     </g>\n     <g id=\"text_22\">\n      <!-- plate_height -->\n      <g style=\"fill:#444443;\" transform=\"translate(39.736406 76.502897)scale(0.09 -0.09)\">\n       <use xlink:href=\"#DejaVuSans-112\"/>\n       <use x=\"63.476562\" xlink:href=\"#DejaVuSans-108\"/>\n       <use x=\"91.259766\" xlink:href=\"#DejaVuSans-97\"/>\n       <use x=\"152.539062\" xlink:href=\"#DejaVuSans-116\"/>\n       <use x=\"191.748047\" xlink:href=\"#DejaVuSans-101\"/>\n       <use x=\"253.271484\" xlink:href=\"#DejaVuSans-95\"/>\n       <use x=\"303.271484\" xlink:href=\"#DejaVuSans-104\"/>\n       <use x=\"366.650391\" xlink:href=\"#DejaVuSans-101\"/>\n       <use x=\"428.173828\" xlink:href=\"#DejaVuSans-105\"/>\n       <use x=\"455.957031\" xlink:href=\"#DejaVuSans-103\"/>\n       <use x=\"519.433594\" xlink:href=\"#DejaVuSans-104\"/>\n       <use x=\"582.8125\" xlink:href=\"#DejaVuSans-116\"/>\n      </g>\n     </g>\n    </g>\n    <g id=\"ytick_4\">\n     <g id=\"line2d_23\">\n      <g>\n       <use style=\"stroke:#000000;stroke-width:0.8;\" x=\"102.719219\" xlink:href=\"#mb0902f0dd1\" y=\"101.746213\"/>\n      </g>\n     </g>\n     <g id=\"text_23\">\n      <!-- strikes -->\n      <g style=\"fill:#444443;\" transform=\"translate(66.190781 104.22965)scale(0.09 -0.09)\">\n       <use xlink:href=\"#DejaVuSans-115\"/>\n       <use x=\"52.099609\" xlink:href=\"#DejaVuSans-116\"/>\n       <use x=\"91.308594\" xlink:href=\"#DejaVuSans-114\"/>\n       <use x=\"132.421875\" xlink:href=\"#DejaVuSans-105\"/>\n       <use x=\"160.205078\" xlink:href=\"#DejaVuSans-107\"/>\n       <use x=\"214.490234\" xlink:href=\"#DejaVuSans-101\"/>\n       <use x=\"276.013672\" xlink:href=\"#DejaVuSans-115\"/>\n      </g>\n     </g>\n    </g>\n    <g id=\"ytick_5\">\n     <g id=\"line2d_24\">\n      <g>\n       <use style=\"stroke:#000000;stroke-width:0.8;\" x=\"102.719219\" xlink:href=\"#mb0902f0dd1\" y=\"129.34781\"/>\n      </g>\n     </g>\n     <g id=\"text_24\">\n      <!-- vert_release_angle -->\n      <g style=\"fill:#444443;\" transform=\"translate(10.840781 131.706091)scale(0.09 -0.09)\">\n       <use xlink:href=\"#DejaVuSans-118\"/>\n       <use x=\"59.179688\" xlink:href=\"#DejaVuSans-101\"/>\n       <use x=\"120.703125\" xlink:href=\"#DejaVuSans-114\"/>\n       <use x=\"161.816406\" xlink:href=\"#DejaVuSans-116\"/>\n       <use x=\"201.025391\" xlink:href=\"#DejaVuSans-95\"/>\n       <use x=\"251.025391\" xlink:href=\"#DejaVuSans-114\"/>\n       <use x=\"289.888672\" xlink:href=\"#DejaVuSans-101\"/>\n       <use x=\"351.412109\" xlink:href=\"#DejaVuSans-108\"/>\n       <use x=\"379.195312\" xlink:href=\"#DejaVuSans-101\"/>\n       <use x=\"440.71875\" xlink:href=\"#DejaVuSans-97\"/>\n       <use x=\"501.998047\" xlink:href=\"#DejaVuSans-115\"/>\n       <use x=\"554.097656\" xlink:href=\"#DejaVuSans-101\"/>\n       <use x=\"615.621094\" xlink:href=\"#DejaVuSans-95\"/>\n       <use x=\"665.621094\" xlink:href=\"#DejaVuSans-97\"/>\n       <use x=\"726.900391\" xlink:href=\"#DejaVuSans-110\"/>\n       <use x=\"790.279297\" xlink:href=\"#DejaVuSans-103\"/>\n       <use x=\"853.755859\" xlink:href=\"#DejaVuSans-108\"/>\n       <use x=\"881.539062\" xlink:href=\"#DejaVuSans-101\"/>\n      </g>\n     </g>\n    </g>\n    <g id=\"ytick_6\">\n     <g id=\"line2d_25\">\n      <g>\n       <use style=\"stroke:#000000;stroke-width:0.8;\" x=\"102.719219\" xlink:href=\"#mb0902f0dd1\" y=\"156.949407\"/>\n      </g>\n     </g>\n     <g id=\"text_25\">\n      <!-- balls -->\n      <g style=\"fill:#444443;\" transform=\"translate(74.80125 159.432845)scale(0.09 -0.09)\">\n       <use xlink:href=\"#DejaVuSans-98\"/>\n       <use x=\"63.476562\" xlink:href=\"#DejaVuSans-97\"/>\n       <use x=\"124.755859\" xlink:href=\"#DejaVuSans-108\"/>\n       <use x=\"152.539062\" xlink:href=\"#DejaVuSans-108\"/>\n       <use x=\"180.322266\" xlink:href=\"#DejaVuSans-115\"/>\n      </g>\n     </g>\n    </g>\n    <g id=\"ytick_7\">\n     <g id=\"line2d_26\">\n      <g>\n       <use style=\"stroke:#000000;stroke-width:0.8;\" x=\"102.719219\" xlink:href=\"#mb0902f0dd1\" y=\"184.551005\"/>\n      </g>\n     </g>\n     <g id=\"text_26\">\n      <!-- horz_release_angle -->\n      <g style=\"fill:#444443;\" transform=\"translate(9.299531 186.909286)scale(0.09 -0.09)\">\n       <use xlink:href=\"#DejaVuSans-104\"/>\n       <use x=\"63.378906\" xlink:href=\"#DejaVuSans-111\"/>\n       <use x=\"124.560547\" xlink:href=\"#DejaVuSans-114\"/>\n       <use x=\"165.673828\" xlink:href=\"#DejaVuSans-122\"/>\n       <use x=\"218.164062\" xlink:href=\"#DejaVuSans-95\"/>\n       <use x=\"268.164062\" xlink:href=\"#DejaVuSans-114\"/>\n       <use x=\"307.027344\" xlink:href=\"#DejaVuSans-101\"/>\n       <use x=\"368.550781\" xlink:href=\"#DejaVuSans-108\"/>\n       <use x=\"396.333984\" xlink:href=\"#DejaVuSans-101\"/>\n       <use x=\"457.857422\" xlink:href=\"#DejaVuSans-97\"/>\n       <use x=\"519.136719\" xlink:href=\"#DejaVuSans-115\"/>\n       <use x=\"571.236328\" xlink:href=\"#DejaVuSans-101\"/>\n       <use x=\"632.759766\" xlink:href=\"#DejaVuSans-95\"/>\n       <use x=\"682.759766\" xlink:href=\"#DejaVuSans-97\"/>\n       <use x=\"744.039062\" xlink:href=\"#DejaVuSans-110\"/>\n       <use x=\"807.417969\" xlink:href=\"#DejaVuSans-103\"/>\n       <use x=\"870.894531\" xlink:href=\"#DejaVuSans-108\"/>\n       <use x=\"898.677734\" xlink:href=\"#DejaVuSans-101\"/>\n      </g>\n     </g>\n    </g>\n    <g id=\"ytick_8\">\n     <g id=\"line2d_27\">\n      <g>\n       <use style=\"stroke:#000000;stroke-width:0.8;\" x=\"102.719219\" xlink:href=\"#mb0902f0dd1\" y=\"212.152602\"/>\n      </g>\n     </g>\n     <g id=\"text_27\">\n      <!-- vert_break -->\n      <g style=\"fill:#444443;\" transform=\"translate(47.650781 214.510883)scale(0.09 -0.09)\">\n       <use xlink:href=\"#DejaVuSans-118\"/>\n       <use x=\"59.179688\" xlink:href=\"#DejaVuSans-101\"/>\n       <use x=\"120.703125\" xlink:href=\"#DejaVuSans-114\"/>\n       <use x=\"161.816406\" xlink:href=\"#DejaVuSans-116\"/>\n       <use x=\"201.025391\" xlink:href=\"#DejaVuSans-95\"/>\n       <use x=\"251.025391\" xlink:href=\"#DejaVuSans-98\"/>\n       <use x=\"314.501953\" xlink:href=\"#DejaVuSans-114\"/>\n       <use x=\"353.365234\" xlink:href=\"#DejaVuSans-101\"/>\n       <use x=\"414.888672\" xlink:href=\"#DejaVuSans-97\"/>\n       <use x=\"476.167969\" xlink:href=\"#DejaVuSans-107\"/>\n      </g>\n     </g>\n    </g>\n    <g id=\"ytick_9\">\n     <g id=\"line2d_28\">\n      <g>\n       <use style=\"stroke:#000000;stroke-width:0.8;\" x=\"102.719219\" xlink:href=\"#mb0902f0dd1\" y=\"239.7542\"/>\n      </g>\n     </g>\n     <g id=\"text_28\">\n      <!-- horz_break -->\n      <g style=\"fill:#444443;\" transform=\"translate(46.109531 242.112481)scale(0.09 -0.09)\">\n       <use xlink:href=\"#DejaVuSans-104\"/>\n       <use x=\"63.378906\" xlink:href=\"#DejaVuSans-111\"/>\n       <use x=\"124.560547\" xlink:href=\"#DejaVuSans-114\"/>\n       <use x=\"165.673828\" xlink:href=\"#DejaVuSans-122\"/>\n       <use x=\"218.164062\" xlink:href=\"#DejaVuSans-95\"/>\n       <use x=\"268.164062\" xlink:href=\"#DejaVuSans-98\"/>\n       <use x=\"331.640625\" xlink:href=\"#DejaVuSans-114\"/>\n       <use x=\"370.503906\" xlink:href=\"#DejaVuSans-101\"/>\n       <use x=\"432.027344\" xlink:href=\"#DejaVuSans-97\"/>\n       <use x=\"493.306641\" xlink:href=\"#DejaVuSans-107\"/>\n      </g>\n     </g>\n    </g>\n    <g id=\"ytick_10\">\n     <g id=\"line2d_29\">\n      <g>\n       <use style=\"stroke:#000000;stroke-width:0.8;\" x=\"102.719219\" xlink:href=\"#mb0902f0dd1\" y=\"267.355797\"/>\n      </g>\n     </g>\n     <g id=\"text_29\">\n      <!-- vert_approach_angle -->\n      <g style=\"fill:#444443;\" transform=\"translate(1.54125 269.714078)scale(0.09 -0.09)\">\n       <use xlink:href=\"#DejaVuSans-118\"/>\n       <use x=\"59.179688\" xlink:href=\"#DejaVuSans-101\"/>\n       <use x=\"120.703125\" xlink:href=\"#DejaVuSans-114\"/>\n       <use x=\"161.816406\" xlink:href=\"#DejaVuSans-116\"/>\n       <use x=\"201.025391\" xlink:href=\"#DejaVuSans-95\"/>\n       <use x=\"251.025391\" xlink:href=\"#DejaVuSans-97\"/>\n       <use x=\"312.304688\" xlink:href=\"#DejaVuSans-112\"/>\n       <use x=\"375.78125\" xlink:href=\"#DejaVuSans-112\"/>\n       <use x=\"439.257812\" xlink:href=\"#DejaVuSans-114\"/>\n       <use x=\"478.121094\" xlink:href=\"#DejaVuSans-111\"/>\n       <use x=\"539.302734\" xlink:href=\"#DejaVuSans-97\"/>\n       <use x=\"600.582031\" xlink:href=\"#DejaVuSans-99\"/>\n       <use x=\"655.5625\" xlink:href=\"#DejaVuSans-104\"/>\n       <use x=\"718.941406\" xlink:href=\"#DejaVuSans-95\"/>\n       <use x=\"768.941406\" xlink:href=\"#DejaVuSans-97\"/>\n       <use x=\"830.220703\" xlink:href=\"#DejaVuSans-110\"/>\n       <use x=\"893.599609\" xlink:href=\"#DejaVuSans-103\"/>\n       <use x=\"957.076172\" xlink:href=\"#DejaVuSans-108\"/>\n       <use x=\"984.859375\" xlink:href=\"#DejaVuSans-101\"/>\n      </g>\n     </g>\n    </g>\n    <g id=\"ytick_11\">\n     <g id=\"line2d_30\">\n      <g>\n       <use style=\"stroke:#000000;stroke-width:0.8;\" x=\"102.719219\" xlink:href=\"#mb0902f0dd1\" y=\"294.957394\"/>\n      </g>\n     </g>\n     <g id=\"text_30\">\n      <!-- rel_side -->\n      <g style=\"fill:#444443;\" transform=\"translate(61.243594 297.315675)scale(0.09 -0.09)\">\n       <use xlink:href=\"#DejaVuSans-114\"/>\n       <use x=\"38.863281\" xlink:href=\"#DejaVuSans-101\"/>\n       <use x=\"100.386719\" xlink:href=\"#DejaVuSans-108\"/>\n       <use x=\"128.169922\" xlink:href=\"#DejaVuSans-95\"/>\n       <use x=\"178.169922\" xlink:href=\"#DejaVuSans-115\"/>\n       <use x=\"230.269531\" xlink:href=\"#DejaVuSans-105\"/>\n       <use x=\"258.052734\" xlink:href=\"#DejaVuSans-100\"/>\n       <use x=\"321.529297\" xlink:href=\"#DejaVuSans-101\"/>\n      </g>\n     </g>\n    </g>\n    <g id=\"ytick_12\">\n     <g id=\"line2d_31\">\n      <g>\n       <use style=\"stroke:#000000;stroke-width:0.8;\" x=\"102.719219\" xlink:href=\"#mb0902f0dd1\" y=\"322.558992\"/>\n      </g>\n     </g>\n     <g id=\"text_31\">\n      <!-- horz_approach_angle -->\n      <g style=\"fill:#444443;\" transform=\"translate(0 324.917273)scale(0.09 -0.09)\">\n       <use xlink:href=\"#DejaVuSans-104\"/>\n       <use x=\"63.378906\" xlink:href=\"#DejaVuSans-111\"/>\n       <use x=\"124.560547\" xlink:href=\"#DejaVuSans-114\"/>\n       <use x=\"165.673828\" xlink:href=\"#DejaVuSans-122\"/>\n       <use x=\"218.164062\" xlink:href=\"#DejaVuSans-95\"/>\n       <use x=\"268.164062\" xlink:href=\"#DejaVuSans-97\"/>\n       <use x=\"329.443359\" xlink:href=\"#DejaVuSans-112\"/>\n       <use x=\"392.919922\" xlink:href=\"#DejaVuSans-112\"/>\n       <use x=\"456.396484\" xlink:href=\"#DejaVuSans-114\"/>\n       <use x=\"495.259766\" xlink:href=\"#DejaVuSans-111\"/>\n       <use x=\"556.441406\" xlink:href=\"#DejaVuSans-97\"/>\n       <use x=\"617.720703\" xlink:href=\"#DejaVuSans-99\"/>\n       <use x=\"672.701172\" xlink:href=\"#DejaVuSans-104\"/>\n       <use x=\"736.080078\" xlink:href=\"#DejaVuSans-95\"/>\n       <use x=\"786.080078\" xlink:href=\"#DejaVuSans-97\"/>\n       <use x=\"847.359375\" xlink:href=\"#DejaVuSans-110\"/>\n       <use x=\"910.738281\" xlink:href=\"#DejaVuSans-103\"/>\n       <use x=\"974.214844\" xlink:href=\"#DejaVuSans-108\"/>\n       <use x=\"1001.998047\" xlink:href=\"#DejaVuSans-101\"/>\n      </g>\n     </g>\n    </g>\n    <g id=\"ytick_13\">\n     <g id=\"line2d_32\">\n      <g>\n       <use style=\"stroke:#000000;stroke-width:0.8;\" x=\"102.719219\" xlink:href=\"#mb0902f0dd1\" y=\"350.160589\"/>\n      </g>\n     </g>\n     <g id=\"text_32\">\n      <!-- induced_vert_break -->\n      <g style=\"fill:#444443;\" transform=\"translate(7.329375 352.51887)scale(0.09 -0.09)\">\n       <use xlink:href=\"#DejaVuSans-105\"/>\n       <use x=\"27.783203\" xlink:href=\"#DejaVuSans-110\"/>\n       <use x=\"91.162109\" xlink:href=\"#DejaVuSans-100\"/>\n       <use x=\"154.638672\" xlink:href=\"#DejaVuSans-117\"/>\n       <use x=\"218.017578\" xlink:href=\"#DejaVuSans-99\"/>\n       <use x=\"272.998047\" xlink:href=\"#DejaVuSans-101\"/>\n       <use x=\"334.521484\" xlink:href=\"#DejaVuSans-100\"/>\n       <use x=\"397.998047\" xlink:href=\"#DejaVuSans-95\"/>\n       <use x=\"447.998047\" xlink:href=\"#DejaVuSans-118\"/>\n       <use x=\"507.177734\" xlink:href=\"#DejaVuSans-101\"/>\n       <use x=\"568.701172\" xlink:href=\"#DejaVuSans-114\"/>\n       <use x=\"609.814453\" xlink:href=\"#DejaVuSans-116\"/>\n       <use x=\"649.023438\" xlink:href=\"#DejaVuSans-95\"/>\n       <use x=\"699.023438\" xlink:href=\"#DejaVuSans-98\"/>\n       <use x=\"762.5\" xlink:href=\"#DejaVuSans-114\"/>\n       <use x=\"801.363281\" xlink:href=\"#DejaVuSans-101\"/>\n       <use x=\"862.886719\" xlink:href=\"#DejaVuSans-97\"/>\n       <use x=\"924.166016\" xlink:href=\"#DejaVuSans-107\"/>\n      </g>\n     </g>\n    </g>\n    <g id=\"ytick_14\">\n     <g id=\"line2d_33\">\n      <g>\n       <use style=\"stroke:#000000;stroke-width:0.8;\" x=\"102.719219\" xlink:href=\"#mb0902f0dd1\" y=\"377.762186\"/>\n      </g>\n     </g>\n     <g id=\"text_33\">\n      <!-- tilt -->\n      <g style=\"fill:#444443;\" transform=\"translate(83.662031 380.245624)scale(0.09 -0.09)\">\n       <use xlink:href=\"#DejaVuSans-116\"/>\n       <use x=\"39.208984\" xlink:href=\"#DejaVuSans-105\"/>\n       <use x=\"66.992188\" xlink:href=\"#DejaVuSans-108\"/>\n       <use x=\"94.775391\" xlink:href=\"#DejaVuSans-116\"/>\n      </g>\n     </g>\n    </g>\n    <g id=\"ytick_15\">\n     <g id=\"line2d_34\">\n      <g>\n       <use style=\"stroke:#000000;stroke-width:0.8;\" x=\"102.719219\" xlink:href=\"#mb0902f0dd1\" y=\"405.363784\"/>\n      </g>\n     </g>\n     <g id=\"text_34\">\n      <!-- x55 -->\n      <g style=\"fill:#444443;\" transform=\"translate(78.939844 407.847221)scale(0.09 -0.09)\">\n       <use xlink:href=\"#DejaVuSans-120\"/>\n       <use x=\"59.179688\" xlink:href=\"#DejaVuSans-53\"/>\n       <use x=\"122.802734\" xlink:href=\"#DejaVuSans-53\"/>\n      </g>\n     </g>\n    </g>\n    <g id=\"ytick_16\">\n     <g id=\"line2d_35\">\n      <g>\n       <use style=\"stroke:#000000;stroke-width:0.8;\" x=\"102.719219\" xlink:href=\"#mb0902f0dd1\" y=\"432.965381\"/>\n      </g>\n     </g>\n     <g id=\"text_35\">\n      <!-- batter_side -->\n      <g style=\"fill:#444443;\" transform=\"translate(45.255937 435.323662)scale(0.09 -0.09)\">\n       <use xlink:href=\"#DejaVuSans-98\"/>\n       <use x=\"63.476562\" xlink:href=\"#DejaVuSans-97\"/>\n       <use x=\"124.755859\" xlink:href=\"#DejaVuSans-116\"/>\n       <use x=\"163.964844\" xlink:href=\"#DejaVuSans-116\"/>\n       <use x=\"203.173828\" xlink:href=\"#DejaVuSans-101\"/>\n       <use x=\"264.697266\" xlink:href=\"#DejaVuSans-114\"/>\n       <use x=\"305.810547\" xlink:href=\"#DejaVuSans-95\"/>\n       <use x=\"355.810547\" xlink:href=\"#DejaVuSans-115\"/>\n       <use x=\"407.910156\" xlink:href=\"#DejaVuSans-105\"/>\n       <use x=\"435.693359\" xlink:href=\"#DejaVuSans-100\"/>\n       <use x=\"499.169922\" xlink:href=\"#DejaVuSans-101\"/>\n      </g>\n     </g>\n    </g>\n    <g id=\"ytick_17\">\n     <g id=\"line2d_36\">\n      <g>\n       <use style=\"stroke:#000000;stroke-width:0.8;\" x=\"102.719219\" xlink:href=\"#mb0902f0dd1\" y=\"460.566978\"/>\n      </g>\n     </g>\n     <g id=\"text_36\">\n      <!-- release_speed -->\n      <g style=\"fill:#444443;\" transform=\"translate(31.213125 462.92526)scale(0.09 -0.09)\">\n       <use xlink:href=\"#DejaVuSans-114\"/>\n       <use x=\"38.863281\" xlink:href=\"#DejaVuSans-101\"/>\n       <use x=\"100.386719\" xlink:href=\"#DejaVuSans-108\"/>\n       <use x=\"128.169922\" xlink:href=\"#DejaVuSans-101\"/>\n       <use x=\"189.693359\" xlink:href=\"#DejaVuSans-97\"/>\n       <use x=\"250.972656\" xlink:href=\"#DejaVuSans-115\"/>\n       <use x=\"303.072266\" xlink:href=\"#DejaVuSans-101\"/>\n       <use x=\"364.595703\" xlink:href=\"#DejaVuSans-95\"/>\n       <use x=\"414.595703\" xlink:href=\"#DejaVuSans-115\"/>\n       <use x=\"466.695312\" xlink:href=\"#DejaVuSans-112\"/>\n       <use x=\"530.171875\" xlink:href=\"#DejaVuSans-101\"/>\n       <use x=\"591.695312\" xlink:href=\"#DejaVuSans-101\"/>\n       <use x=\"653.21875\" xlink:href=\"#DejaVuSans-100\"/>\n      </g>\n     </g>\n    </g>\n    <g id=\"ytick_18\">\n     <g id=\"line2d_37\">\n      <g>\n       <use style=\"stroke:#000000;stroke-width:0.8;\" x=\"102.719219\" xlink:href=\"#mb0902f0dd1\" y=\"488.168576\"/>\n      </g>\n     </g>\n     <g id=\"text_37\">\n      <!-- pitch_type -->\n      <g style=\"fill:#444443;\" transform=\"translate(48.718125 490.526857)scale(0.09 -0.09)\">\n       <use xlink:href=\"#DejaVuSans-112\"/>\n       <use x=\"63.476562\" xlink:href=\"#DejaVuSans-105\"/>\n       <use x=\"91.259766\" xlink:href=\"#DejaVuSans-116\"/>\n       <use x=\"130.46875\" xlink:href=\"#DejaVuSans-99\"/>\n       <use x=\"185.449219\" xlink:href=\"#DejaVuSans-104\"/>\n       <use x=\"248.828125\" xlink:href=\"#DejaVuSans-95\"/>\n       <use x=\"298.828125\" xlink:href=\"#DejaVuSans-116\"/>\n       <use x=\"338.037109\" xlink:href=\"#DejaVuSans-121\"/>\n       <use x=\"397.216797\" xlink:href=\"#DejaVuSans-112\"/>\n       <use x=\"460.693359\" xlink:href=\"#DejaVuSans-101\"/>\n      </g>\n     </g>\n    </g>\n    <g id=\"ytick_19\">\n     <g id=\"line2d_38\">\n      <g>\n       <use style=\"stroke:#000000;stroke-width:0.8;\" x=\"102.719219\" xlink:href=\"#mb0902f0dd1\" y=\"515.770173\"/>\n      </g>\n     </g>\n     <g id=\"text_38\">\n      <!-- level -->\n      <g style=\"fill:#444443;\" transform=\"translate(74.316094 518.253611)scale(0.09 -0.09)\">\n       <use xlink:href=\"#DejaVuSans-108\"/>\n       <use x=\"27.783203\" xlink:href=\"#DejaVuSans-101\"/>\n       <use x=\"89.306641\" xlink:href=\"#DejaVuSans-118\"/>\n       <use x=\"148.486328\" xlink:href=\"#DejaVuSans-101\"/>\n       <use x=\"210.009766\" xlink:href=\"#DejaVuSans-108\"/>\n      </g>\n     </g>\n    </g>\n   </g>\n   <g id=\"patch_3\">\n    <path d=\"M 102.719219 529.570972 \nL 102.719219 5.140622 \n\" style=\"fill:none;stroke:#000000;stroke-linecap:square;stroke-linejoin:miter;stroke-width:0.3;\"/>\n   </g>\n   <g id=\"patch_4\">\n    <path d=\"M 627.149569 529.570972 \nL 627.149569 5.140622 \n\" style=\"fill:none;stroke:#000000;stroke-linecap:square;stroke-linejoin:miter;stroke-width:0.3;\"/>\n   </g>\n   <g id=\"patch_5\">\n    <path d=\"M 102.719219 529.570972 \nL 627.149569 529.570972 \n\" style=\"fill:none;stroke:#000000;stroke-linecap:square;stroke-linejoin:miter;stroke-width:0.3;\"/>\n   </g>\n   <g id=\"patch_6\">\n    <path d=\"M 102.719219 5.140622 \nL 627.149569 5.140622 \n\" style=\"fill:none;stroke:#000000;stroke-linecap:square;stroke-linejoin:miter;stroke-width:0.3;\"/>\n   </g>\n   <g id=\"text_39\">\n    <!-- x -->\n    <g style=\"fill:#444443;\" transform=\"translate(114.152517 21.148921)scale(0.08 -0.08)\">\n     <use xlink:href=\"#DejaVuSans-120\"/>\n    </g>\n   </g>\n   <g id=\"text_40\">\n    <!-- 0.02 -->\n    <defs>\n     <path d=\"M 31.78125 66.40625 \nQ 24.171875 66.40625 20.328125 58.90625 \nQ 16.5 51.421875 16.5 36.375 \nQ 16.5 21.390625 20.328125 13.890625 \nQ 24.171875 6.390625 31.78125 6.390625 \nQ 39.453125 6.390625 43.28125 13.890625 \nQ 47.125 21.390625 47.125 36.375 \nQ 47.125 51.421875 43.28125 58.90625 \nQ 39.453125 66.40625 31.78125 66.40625 \nz\nM 31.78125 74.21875 \nQ 44.046875 74.21875 50.515625 64.515625 \nQ 56.984375 54.828125 56.984375 36.375 \nQ 56.984375 17.96875 50.515625 8.265625 \nQ 44.046875 -1.421875 31.78125 -1.421875 \nQ 19.53125 -1.421875 13.0625 8.265625 \nQ 6.59375 17.96875 6.59375 36.375 \nQ 6.59375 54.828125 13.0625 64.515625 \nQ 19.53125 74.21875 31.78125 74.21875 \nz\n\" id=\"DejaVuSans-48\"/>\n     <path d=\"M 10.6875 12.40625 \nL 21 12.40625 \nL 21 0 \nL 10.6875 0 \nz\n\" id=\"DejaVuSans-46\"/>\n     <path d=\"M 19.1875 8.296875 \nL 53.609375 8.296875 \nL 53.609375 0 \nL 7.328125 0 \nL 7.328125 8.296875 \nQ 12.9375 14.109375 22.625 23.890625 \nQ 32.328125 33.6875 34.8125 36.53125 \nQ 39.546875 41.84375 41.421875 45.53125 \nQ 43.3125 49.21875 43.3125 52.78125 \nQ 43.3125 58.59375 39.234375 62.25 \nQ 35.15625 65.921875 28.609375 65.921875 \nQ 23.96875 65.921875 18.8125 64.3125 \nQ 13.671875 62.703125 7.8125 59.421875 \nL 7.8125 69.390625 \nQ 13.765625 71.78125 18.9375 73 \nQ 24.125 74.21875 28.421875 74.21875 \nQ 39.75 74.21875 46.484375 68.546875 \nQ 53.21875 62.890625 53.21875 53.421875 \nQ 53.21875 48.921875 51.53125 44.890625 \nQ 49.859375 40.875 45.40625 35.40625 \nQ 44.1875 33.984375 37.640625 27.21875 \nQ 31.109375 20.453125 19.1875 8.296875 \nz\n\" id=\"DejaVuSans-50\"/>\n    </defs>\n    <g style=\"fill:#444443;\" transform=\"translate(135.215365 21.148921)scale(0.08 -0.08)\">\n     <use xlink:href=\"#DejaVuSans-48\"/>\n     <use x=\"63.623047\" xlink:href=\"#DejaVuSans-46\"/>\n     <use x=\"95.410156\" xlink:href=\"#DejaVuSans-48\"/>\n     <use x=\"159.033203\" xlink:href=\"#DejaVuSans-50\"/>\n    </g>\n   </g>\n   <g id=\"text_41\">\n    <!-- 0.06 -->\n    <defs>\n     <path d=\"M 33.015625 40.375 \nQ 26.375 40.375 22.484375 35.828125 \nQ 18.609375 31.296875 18.609375 23.390625 \nQ 18.609375 15.53125 22.484375 10.953125 \nQ 26.375 6.390625 33.015625 6.390625 \nQ 39.65625 6.390625 43.53125 10.953125 \nQ 47.40625 15.53125 47.40625 23.390625 \nQ 47.40625 31.296875 43.53125 35.828125 \nQ 39.65625 40.375 33.015625 40.375 \nz\nM 52.59375 71.296875 \nL 52.59375 62.3125 \nQ 48.875 64.0625 45.09375 64.984375 \nQ 41.3125 65.921875 37.59375 65.921875 \nQ 27.828125 65.921875 22.671875 59.328125 \nQ 17.53125 52.734375 16.796875 39.40625 \nQ 19.671875 43.65625 24.015625 45.921875 \nQ 28.375 48.1875 33.59375 48.1875 \nQ 44.578125 48.1875 50.953125 41.515625 \nQ 57.328125 34.859375 57.328125 23.390625 \nQ 57.328125 12.15625 50.6875 5.359375 \nQ 44.046875 -1.421875 33.015625 -1.421875 \nQ 20.359375 -1.421875 13.671875 8.265625 \nQ 6.984375 17.96875 6.984375 36.375 \nQ 6.984375 53.65625 15.1875 63.9375 \nQ 23.390625 74.21875 37.203125 74.21875 \nQ 40.921875 74.21875 44.703125 73.484375 \nQ 48.484375 72.75 52.59375 71.296875 \nz\n\" id=\"DejaVuSans-54\"/>\n    </defs>\n    <g style=\"fill:#444443;\" transform=\"translate(162.816962 21.148921)scale(0.08 -0.08)\">\n     <use xlink:href=\"#DejaVuSans-48\"/>\n     <use x=\"63.623047\" xlink:href=\"#DejaVuSans-46\"/>\n     <use x=\"95.410156\" xlink:href=\"#DejaVuSans-48\"/>\n     <use x=\"159.033203\" xlink:href=\"#DejaVuSans-54\"/>\n    </g>\n   </g>\n   <g id=\"text_42\">\n    <!-- 0.21 -->\n    <defs>\n     <path d=\"M 12.40625 8.296875 \nL 28.515625 8.296875 \nL 28.515625 63.921875 \nL 10.984375 60.40625 \nL 10.984375 69.390625 \nL 28.421875 72.90625 \nL 38.28125 72.90625 \nL 38.28125 8.296875 \nL 54.390625 8.296875 \nL 54.390625 0 \nL 12.40625 0 \nz\n\" id=\"DejaVuSans-49\"/>\n    </defs>\n    <g style=\"fill:#444443;\" transform=\"translate(190.41856 21.148921)scale(0.08 -0.08)\">\n     <use xlink:href=\"#DejaVuSans-48\"/>\n     <use x=\"63.623047\" xlink:href=\"#DejaVuSans-46\"/>\n     <use x=\"95.410156\" xlink:href=\"#DejaVuSans-50\"/>\n     <use x=\"159.033203\" xlink:href=\"#DejaVuSans-49\"/>\n    </g>\n   </g>\n   <g id=\"text_43\">\n    <!-- 0.02 -->\n    <g style=\"fill:#444443;\" transform=\"translate(218.020157 21.148921)scale(0.08 -0.08)\">\n     <use xlink:href=\"#DejaVuSans-48\"/>\n     <use x=\"63.623047\" xlink:href=\"#DejaVuSans-46\"/>\n     <use x=\"95.410156\" xlink:href=\"#DejaVuSans-48\"/>\n     <use x=\"159.033203\" xlink:href=\"#DejaVuSans-50\"/>\n    </g>\n   </g>\n   <g id=\"text_44\">\n    <!-- 0.16 -->\n    <g style=\"fill:#444443;\" transform=\"translate(245.621754 21.148921)scale(0.08 -0.08)\">\n     <use xlink:href=\"#DejaVuSans-48\"/>\n     <use x=\"63.623047\" xlink:href=\"#DejaVuSans-46\"/>\n     <use x=\"95.410156\" xlink:href=\"#DejaVuSans-49\"/>\n     <use x=\"159.033203\" xlink:href=\"#DejaVuSans-54\"/>\n    </g>\n   </g>\n   <g id=\"text_45\">\n    <!-- -0.00 -->\n    <defs>\n     <path d=\"M 4.890625 31.390625 \nL 31.203125 31.390625 \nL 31.203125 23.390625 \nL 4.890625 23.390625 \nz\n\" id=\"DejaVuSans-45\"/>\n    </defs>\n    <g style=\"fill:#444443;\" transform=\"translate(271.780227 21.148921)scale(0.08 -0.08)\">\n     <use xlink:href=\"#DejaVuSans-45\"/>\n     <use x=\"36.083984\" xlink:href=\"#DejaVuSans-48\"/>\n     <use x=\"99.707031\" xlink:href=\"#DejaVuSans-46\"/>\n     <use x=\"131.494141\" xlink:href=\"#DejaVuSans-48\"/>\n     <use x=\"195.117188\" xlink:href=\"#DejaVuSans-48\"/>\n    </g>\n   </g>\n   <g id=\"text_46\">\n    <!-- 0.03 -->\n    <defs>\n     <path d=\"M 40.578125 39.3125 \nQ 47.65625 37.796875 51.625 33 \nQ 55.609375 28.21875 55.609375 21.1875 \nQ 55.609375 10.40625 48.1875 4.484375 \nQ 40.765625 -1.421875 27.09375 -1.421875 \nQ 22.515625 -1.421875 17.65625 -0.515625 \nQ 12.796875 0.390625 7.625 2.203125 \nL 7.625 11.71875 \nQ 11.71875 9.328125 16.59375 8.109375 \nQ 21.484375 6.890625 26.8125 6.890625 \nQ 36.078125 6.890625 40.9375 10.546875 \nQ 45.796875 14.203125 45.796875 21.1875 \nQ 45.796875 27.640625 41.28125 31.265625 \nQ 36.765625 34.90625 28.71875 34.90625 \nL 20.21875 34.90625 \nL 20.21875 43.015625 \nL 29.109375 43.015625 \nQ 36.375 43.015625 40.234375 45.921875 \nQ 44.09375 48.828125 44.09375 54.296875 \nQ 44.09375 59.90625 40.109375 62.90625 \nQ 36.140625 65.921875 28.71875 65.921875 \nQ 24.65625 65.921875 20.015625 65.03125 \nQ 15.375 64.15625 9.8125 62.3125 \nL 9.8125 71.09375 \nQ 15.4375 72.65625 20.34375 73.4375 \nQ 25.25 74.21875 29.59375 74.21875 \nQ 40.828125 74.21875 47.359375 69.109375 \nQ 53.90625 64.015625 53.90625 55.328125 \nQ 53.90625 49.265625 50.4375 45.09375 \nQ 46.96875 40.921875 40.578125 39.3125 \nz\n\" id=\"DejaVuSans-51\"/>\n    </defs>\n    <g style=\"fill:#444443;\" transform=\"translate(300.824949 21.148921)scale(0.08 -0.08)\">\n     <use xlink:href=\"#DejaVuSans-48\"/>\n     <use x=\"63.623047\" xlink:href=\"#DejaVuSans-46\"/>\n     <use x=\"95.410156\" xlink:href=\"#DejaVuSans-48\"/>\n     <use x=\"159.033203\" xlink:href=\"#DejaVuSans-51\"/>\n    </g>\n   </g>\n   <g id=\"text_47\">\n    <!-- 0.02 -->\n    <g style=\"fill:#444443;\" transform=\"translate(328.426546 21.148921)scale(0.08 -0.08)\">\n     <use xlink:href=\"#DejaVuSans-48\"/>\n     <use x=\"63.623047\" xlink:href=\"#DejaVuSans-46\"/>\n     <use x=\"95.410156\" xlink:href=\"#DejaVuSans-48\"/>\n     <use x=\"159.033203\" xlink:href=\"#DejaVuSans-50\"/>\n    </g>\n   </g>\n   <g id=\"text_48\">\n    <!-- 0.06 -->\n    <g style=\"fill:#444443;\" transform=\"translate(356.028144 21.148921)scale(0.08 -0.08)\">\n     <use xlink:href=\"#DejaVuSans-48\"/>\n     <use x=\"63.623047\" xlink:href=\"#DejaVuSans-46\"/>\n     <use x=\"95.410156\" xlink:href=\"#DejaVuSans-48\"/>\n     <use x=\"159.033203\" xlink:href=\"#DejaVuSans-54\"/>\n    </g>\n   </g>\n   <g id=\"text_49\">\n    <!-- 0.00 -->\n    <g style=\"fill:#444443;\" transform=\"translate(383.629741 21.148921)scale(0.08 -0.08)\">\n     <use xlink:href=\"#DejaVuSans-48\"/>\n     <use x=\"63.623047\" xlink:href=\"#DejaVuSans-46\"/>\n     <use x=\"95.410156\" xlink:href=\"#DejaVuSans-48\"/>\n     <use x=\"159.033203\" xlink:href=\"#DejaVuSans-48\"/>\n    </g>\n   </g>\n   <g id=\"text_50\">\n    <!-- 0.02 -->\n    <g style=\"fill:#444443;\" transform=\"translate(411.231338 21.148921)scale(0.08 -0.08)\">\n     <use xlink:href=\"#DejaVuSans-48\"/>\n     <use x=\"63.623047\" xlink:href=\"#DejaVuSans-46\"/>\n     <use x=\"95.410156\" xlink:href=\"#DejaVuSans-48\"/>\n     <use x=\"159.033203\" xlink:href=\"#DejaVuSans-50\"/>\n    </g>\n   </g>\n   <g id=\"text_51\">\n    <!-- 0.02 -->\n    <g style=\"fill:#444443;\" transform=\"translate(438.832936 21.148921)scale(0.08 -0.08)\">\n     <use xlink:href=\"#DejaVuSans-48\"/>\n     <use x=\"63.623047\" xlink:href=\"#DejaVuSans-46\"/>\n     <use x=\"95.410156\" xlink:href=\"#DejaVuSans-48\"/>\n     <use x=\"159.033203\" xlink:href=\"#DejaVuSans-50\"/>\n    </g>\n   </g>\n   <g id=\"text_52\">\n    <!-- 0.00 -->\n    <g style=\"fill:#444443;\" transform=\"translate(466.434533 21.148921)scale(0.08 -0.08)\">\n     <use xlink:href=\"#DejaVuSans-48\"/>\n     <use x=\"63.623047\" xlink:href=\"#DejaVuSans-46\"/>\n     <use x=\"95.410156\" xlink:href=\"#DejaVuSans-48\"/>\n     <use x=\"159.033203\" xlink:href=\"#DejaVuSans-48\"/>\n    </g>\n   </g>\n   <g id=\"text_53\">\n    <!-- -0.00 -->\n    <g style=\"fill:#444443;\" transform=\"translate(492.593006 21.148921)scale(0.08 -0.08)\">\n     <use xlink:href=\"#DejaVuSans-45\"/>\n     <use x=\"36.083984\" xlink:href=\"#DejaVuSans-48\"/>\n     <use x=\"99.707031\" xlink:href=\"#DejaVuSans-46\"/>\n     <use x=\"131.494141\" xlink:href=\"#DejaVuSans-48\"/>\n     <use x=\"195.117188\" xlink:href=\"#DejaVuSans-48\"/>\n    </g>\n   </g>\n   <g id=\"text_54\">\n    <!-- 0.01 -->\n    <g style=\"fill:#444443;\" transform=\"translate(521.637728 21.148921)scale(0.08 -0.08)\">\n     <use xlink:href=\"#DejaVuSans-48\"/>\n     <use x=\"63.623047\" xlink:href=\"#DejaVuSans-46\"/>\n     <use x=\"95.410156\" xlink:href=\"#DejaVuSans-48\"/>\n     <use x=\"159.033203\" xlink:href=\"#DejaVuSans-49\"/>\n    </g>\n   </g>\n   <g id=\"text_55\">\n    <!-- 0.03 -->\n    <g style=\"fill:#444443;\" transform=\"translate(549.239325 21.148921)scale(0.08 -0.08)\">\n     <use xlink:href=\"#DejaVuSans-48\"/>\n     <use x=\"63.623047\" xlink:href=\"#DejaVuSans-46\"/>\n     <use x=\"95.410156\" xlink:href=\"#DejaVuSans-48\"/>\n     <use x=\"159.033203\" xlink:href=\"#DejaVuSans-51\"/>\n    </g>\n   </g>\n   <g id=\"text_56\">\n    <!-- 0.00 -->\n    <g style=\"fill:#444443;\" transform=\"translate(576.840923 21.148921)scale(0.08 -0.08)\">\n     <use xlink:href=\"#DejaVuSans-48\"/>\n     <use x=\"63.623047\" xlink:href=\"#DejaVuSans-46\"/>\n     <use x=\"95.410156\" xlink:href=\"#DejaVuSans-48\"/>\n     <use x=\"159.033203\" xlink:href=\"#DejaVuSans-48\"/>\n    </g>\n   </g>\n   <g id=\"text_57\">\n    <!-- -0.00 -->\n    <g style=\"fill:#444443;\" transform=\"translate(602.999395 21.148921)scale(0.08 -0.08)\">\n     <use xlink:href=\"#DejaVuSans-45\"/>\n     <use x=\"36.083984\" xlink:href=\"#DejaVuSans-48\"/>\n     <use x=\"99.707031\" xlink:href=\"#DejaVuSans-46\"/>\n     <use x=\"131.494141\" xlink:href=\"#DejaVuSans-48\"/>\n     <use x=\"195.117188\" xlink:href=\"#DejaVuSans-48\"/>\n    </g>\n   </g>\n   <g id=\"text_58\">\n    <!-- x -->\n    <g style=\"fill:#444443;\" transform=\"translate(141.754115 48.750518)scale(0.08 -0.08)\">\n     <use xlink:href=\"#DejaVuSans-120\"/>\n    </g>\n   </g>\n   <g id=\"text_59\">\n    <!-- 0.16 -->\n    <g style=\"fill:#444443;\" transform=\"translate(162.816962 48.750518)scale(0.08 -0.08)\">\n     <use xlink:href=\"#DejaVuSans-48\"/>\n     <use x=\"63.623047\" xlink:href=\"#DejaVuSans-46\"/>\n     <use x=\"95.410156\" xlink:href=\"#DejaVuSans-49\"/>\n     <use x=\"159.033203\" xlink:href=\"#DejaVuSans-54\"/>\n    </g>\n   </g>\n   <g id=\"text_60\">\n    <!-- -0.03 -->\n    <g style=\"fill:#444443;\" transform=\"translate(188.975435 48.750518)scale(0.08 -0.08)\">\n     <use xlink:href=\"#DejaVuSans-45\"/>\n     <use x=\"36.083984\" xlink:href=\"#DejaVuSans-48\"/>\n     <use x=\"99.707031\" xlink:href=\"#DejaVuSans-46\"/>\n     <use x=\"131.494141\" xlink:href=\"#DejaVuSans-48\"/>\n     <use x=\"195.117188\" xlink:href=\"#DejaVuSans-51\"/>\n    </g>\n   </g>\n   <g id=\"text_61\">\n    <!-- 0.08 -->\n    <defs>\n     <path d=\"M 31.78125 34.625 \nQ 24.75 34.625 20.71875 30.859375 \nQ 16.703125 27.09375 16.703125 20.515625 \nQ 16.703125 13.921875 20.71875 10.15625 \nQ 24.75 6.390625 31.78125 6.390625 \nQ 38.8125 6.390625 42.859375 10.171875 \nQ 46.921875 13.96875 46.921875 20.515625 \nQ 46.921875 27.09375 42.890625 30.859375 \nQ 38.875 34.625 31.78125 34.625 \nz\nM 21.921875 38.8125 \nQ 15.578125 40.375 12.03125 44.71875 \nQ 8.5 49.078125 8.5 55.328125 \nQ 8.5 64.0625 14.71875 69.140625 \nQ 20.953125 74.21875 31.78125 74.21875 \nQ 42.671875 74.21875 48.875 69.140625 \nQ 55.078125 64.0625 55.078125 55.328125 \nQ 55.078125 49.078125 51.53125 44.71875 \nQ 48 40.375 41.703125 38.8125 \nQ 48.828125 37.15625 52.796875 32.3125 \nQ 56.78125 27.484375 56.78125 20.515625 \nQ 56.78125 9.90625 50.3125 4.234375 \nQ 43.84375 -1.421875 31.78125 -1.421875 \nQ 19.734375 -1.421875 13.25 4.234375 \nQ 6.78125 9.90625 6.78125 20.515625 \nQ 6.78125 27.484375 10.78125 32.3125 \nQ 14.796875 37.15625 21.921875 38.8125 \nz\nM 18.3125 54.390625 \nQ 18.3125 48.734375 21.84375 45.5625 \nQ 25.390625 42.390625 31.78125 42.390625 \nQ 38.140625 42.390625 41.71875 45.5625 \nQ 45.3125 48.734375 45.3125 54.390625 \nQ 45.3125 60.0625 41.71875 63.234375 \nQ 38.140625 66.40625 31.78125 66.40625 \nQ 25.390625 66.40625 21.84375 63.234375 \nQ 18.3125 60.0625 18.3125 54.390625 \nz\n\" id=\"DejaVuSans-56\"/>\n    </defs>\n    <g style=\"fill:#444443;\" transform=\"translate(218.020157 48.750518)scale(0.08 -0.08)\">\n     <use xlink:href=\"#DejaVuSans-48\"/>\n     <use x=\"63.623047\" xlink:href=\"#DejaVuSans-46\"/>\n     <use x=\"95.410156\" xlink:href=\"#DejaVuSans-48\"/>\n     <use x=\"159.033203\" xlink:href=\"#DejaVuSans-56\"/>\n    </g>\n   </g>\n   <g id=\"text_62\">\n    <!-- 0.00 -->\n    <g style=\"fill:#444443;\" transform=\"translate(245.621754 48.750518)scale(0.08 -0.08)\">\n     <use xlink:href=\"#DejaVuSans-48\"/>\n     <use x=\"63.623047\" xlink:href=\"#DejaVuSans-46\"/>\n     <use x=\"95.410156\" xlink:href=\"#DejaVuSans-48\"/>\n     <use x=\"159.033203\" xlink:href=\"#DejaVuSans-48\"/>\n    </g>\n   </g>\n   <g id=\"text_63\">\n    <!-- 0.31 -->\n    <g style=\"fill:#444443;\" transform=\"translate(273.223352 48.750518)scale(0.08 -0.08)\">\n     <use xlink:href=\"#DejaVuSans-48\"/>\n     <use x=\"63.623047\" xlink:href=\"#DejaVuSans-46\"/>\n     <use x=\"95.410156\" xlink:href=\"#DejaVuSans-51\"/>\n     <use x=\"159.033203\" xlink:href=\"#DejaVuSans-49\"/>\n    </g>\n   </g>\n   <g id=\"text_64\">\n    <!-- 0.04 -->\n    <defs>\n     <path d=\"M 37.796875 64.3125 \nL 12.890625 25.390625 \nL 37.796875 25.390625 \nz\nM 35.203125 72.90625 \nL 47.609375 72.90625 \nL 47.609375 25.390625 \nL 58.015625 25.390625 \nL 58.015625 17.1875 \nL 47.609375 17.1875 \nL 47.609375 0 \nL 37.796875 0 \nL 37.796875 17.1875 \nL 4.890625 17.1875 \nL 4.890625 26.703125 \nz\n\" id=\"DejaVuSans-52\"/>\n    </defs>\n    <g style=\"fill:#444443;\" transform=\"translate(300.824949 48.750518)scale(0.08 -0.08)\">\n     <use xlink:href=\"#DejaVuSans-48\"/>\n     <use x=\"63.623047\" xlink:href=\"#DejaVuSans-46\"/>\n     <use x=\"95.410156\" xlink:href=\"#DejaVuSans-48\"/>\n     <use x=\"159.033203\" xlink:href=\"#DejaVuSans-52\"/>\n    </g>\n   </g>\n   <g id=\"text_65\">\n    <!-- 0.22 -->\n    <g style=\"fill:#444443;\" transform=\"translate(328.426546 48.750518)scale(0.08 -0.08)\">\n     <use xlink:href=\"#DejaVuSans-48\"/>\n     <use x=\"63.623047\" xlink:href=\"#DejaVuSans-46\"/>\n     <use x=\"95.410156\" xlink:href=\"#DejaVuSans-50\"/>\n     <use x=\"159.033203\" xlink:href=\"#DejaVuSans-50\"/>\n    </g>\n   </g>\n   <g id=\"text_66\">\n    <!-- 0.12 -->\n    <g style=\"fill:#444443;\" transform=\"translate(356.028144 48.750518)scale(0.08 -0.08)\">\n     <use xlink:href=\"#DejaVuSans-48\"/>\n     <use x=\"63.623047\" xlink:href=\"#DejaVuSans-46\"/>\n     <use x=\"95.410156\" xlink:href=\"#DejaVuSans-49\"/>\n     <use x=\"159.033203\" xlink:href=\"#DejaVuSans-50\"/>\n    </g>\n   </g>\n   <g id=\"text_67\">\n    <!-- 0.04 -->\n    <g style=\"fill:#444443;\" transform=\"translate(383.629741 48.750518)scale(0.08 -0.08)\">\n     <use xlink:href=\"#DejaVuSans-48\"/>\n     <use x=\"63.623047\" xlink:href=\"#DejaVuSans-46\"/>\n     <use x=\"95.410156\" xlink:href=\"#DejaVuSans-48\"/>\n     <use x=\"159.033203\" xlink:href=\"#DejaVuSans-52\"/>\n    </g>\n   </g>\n   <g id=\"text_68\">\n    <!-- 0.51 -->\n    <g style=\"fill:#444443;\" transform=\"translate(411.231338 48.750518)scale(0.08 -0.08)\">\n     <use xlink:href=\"#DejaVuSans-48\"/>\n     <use x=\"63.623047\" xlink:href=\"#DejaVuSans-46\"/>\n     <use x=\"95.410156\" xlink:href=\"#DejaVuSans-53\"/>\n     <use x=\"159.033203\" xlink:href=\"#DejaVuSans-49\"/>\n    </g>\n   </g>\n   <g id=\"text_69\">\n    <!-- 0.04 -->\n    <g style=\"fill:#444443;\" transform=\"translate(438.832936 48.750518)scale(0.08 -0.08)\">\n     <use xlink:href=\"#DejaVuSans-48\"/>\n     <use x=\"63.623047\" xlink:href=\"#DejaVuSans-46\"/>\n     <use x=\"95.410156\" xlink:href=\"#DejaVuSans-48\"/>\n     <use x=\"159.033203\" xlink:href=\"#DejaVuSans-52\"/>\n    </g>\n   </g>\n   <g id=\"text_70\">\n    <!-- -0.12 -->\n    <g style=\"fill:#444443;\" transform=\"translate(464.991408 48.750518)scale(0.08 -0.08)\">\n     <use xlink:href=\"#DejaVuSans-45\"/>\n     <use x=\"36.083984\" xlink:href=\"#DejaVuSans-48\"/>\n     <use x=\"99.707031\" xlink:href=\"#DejaVuSans-46\"/>\n     <use x=\"131.494141\" xlink:href=\"#DejaVuSans-49\"/>\n     <use x=\"195.117188\" xlink:href=\"#DejaVuSans-50\"/>\n    </g>\n   </g>\n   <g id=\"text_71\">\n    <!-- -0.04 -->\n    <g style=\"fill:#444443;\" transform=\"translate(492.593006 48.750518)scale(0.08 -0.08)\">\n     <use xlink:href=\"#DejaVuSans-45\"/>\n     <use x=\"36.083984\" xlink:href=\"#DejaVuSans-48\"/>\n     <use x=\"99.707031\" xlink:href=\"#DejaVuSans-46\"/>\n     <use x=\"131.494141\" xlink:href=\"#DejaVuSans-48\"/>\n     <use x=\"195.117188\" xlink:href=\"#DejaVuSans-52\"/>\n    </g>\n   </g>\n   <g id=\"text_72\">\n    <!-- -0.20 -->\n    <g style=\"fill:#444443;\" transform=\"translate(520.194603 48.750518)scale(0.08 -0.08)\">\n     <use xlink:href=\"#DejaVuSans-45\"/>\n     <use x=\"36.083984\" xlink:href=\"#DejaVuSans-48\"/>\n     <use x=\"99.707031\" xlink:href=\"#DejaVuSans-46\"/>\n     <use x=\"131.494141\" xlink:href=\"#DejaVuSans-50\"/>\n     <use x=\"195.117188\" xlink:href=\"#DejaVuSans-48\"/>\n    </g>\n   </g>\n   <g id=\"text_73\">\n    <!-- 0.04 -->\n    <g style=\"fill:#444443;\" transform=\"translate(549.239325 48.750518)scale(0.08 -0.08)\">\n     <use xlink:href=\"#DejaVuSans-48\"/>\n     <use x=\"63.623047\" xlink:href=\"#DejaVuSans-46\"/>\n     <use x=\"95.410156\" xlink:href=\"#DejaVuSans-48\"/>\n     <use x=\"159.033203\" xlink:href=\"#DejaVuSans-52\"/>\n    </g>\n   </g>\n   <g id=\"text_74\">\n    <!-- -0.06 -->\n    <g style=\"fill:#444443;\" transform=\"translate(575.397798 48.750518)scale(0.08 -0.08)\">\n     <use xlink:href=\"#DejaVuSans-45\"/>\n     <use x=\"36.083984\" xlink:href=\"#DejaVuSans-48\"/>\n     <use x=\"99.707031\" xlink:href=\"#DejaVuSans-46\"/>\n     <use x=\"131.494141\" xlink:href=\"#DejaVuSans-48\"/>\n     <use x=\"195.117188\" xlink:href=\"#DejaVuSans-54\"/>\n    </g>\n   </g>\n   <g id=\"text_75\">\n    <!-- -0.01 -->\n    <g style=\"fill:#444443;\" transform=\"translate(602.999395 48.750518)scale(0.08 -0.08)\">\n     <use xlink:href=\"#DejaVuSans-45\"/>\n     <use x=\"36.083984\" xlink:href=\"#DejaVuSans-48\"/>\n     <use x=\"99.707031\" xlink:href=\"#DejaVuSans-46\"/>\n     <use x=\"131.494141\" xlink:href=\"#DejaVuSans-48\"/>\n     <use x=\"195.117188\" xlink:href=\"#DejaVuSans-49\"/>\n    </g>\n   </g>\n   <g id=\"text_76\">\n    <!-- x -->\n    <g style=\"fill:#444443;\" transform=\"translate(169.355712 76.352115)scale(0.08 -0.08)\">\n     <use xlink:href=\"#DejaVuSans-120\"/>\n    </g>\n   </g>\n   <g id=\"text_77\">\n    <!-- -0.02 -->\n    <g style=\"fill:#444443;\" transform=\"translate(188.975435 76.352115)scale(0.08 -0.08)\">\n     <use xlink:href=\"#DejaVuSans-45\"/>\n     <use x=\"36.083984\" xlink:href=\"#DejaVuSans-48\"/>\n     <use x=\"99.707031\" xlink:href=\"#DejaVuSans-46\"/>\n     <use x=\"131.494141\" xlink:href=\"#DejaVuSans-48\"/>\n     <use x=\"195.117188\" xlink:href=\"#DejaVuSans-50\"/>\n    </g>\n   </g>\n   <g id=\"text_78\">\n    <!-- 0.43 -->\n    <g style=\"fill:#444443;\" transform=\"translate(218.020157 76.352115)scale(0.08 -0.08)\">\n     <use xlink:href=\"#DejaVuSans-48\"/>\n     <use x=\"63.623047\" xlink:href=\"#DejaVuSans-46\"/>\n     <use x=\"95.410156\" xlink:href=\"#DejaVuSans-52\"/>\n     <use x=\"159.033203\" xlink:href=\"#DejaVuSans-51\"/>\n    </g>\n   </g>\n   <g id=\"text_79\">\n    <!-- 0.01 -->\n    <g style=\"fill:#444443;\" transform=\"translate(245.621754 76.352115)scale(0.08 -0.08)\">\n     <use xlink:href=\"#DejaVuSans-48\"/>\n     <use x=\"63.623047\" xlink:href=\"#DejaVuSans-46\"/>\n     <use x=\"95.410156\" xlink:href=\"#DejaVuSans-48\"/>\n     <use x=\"159.033203\" xlink:href=\"#DejaVuSans-49\"/>\n    </g>\n   </g>\n   <g id=\"text_80\">\n    <!-- 0.09 -->\n    <defs>\n     <path d=\"M 10.984375 1.515625 \nL 10.984375 10.5 \nQ 14.703125 8.734375 18.5 7.8125 \nQ 22.3125 6.890625 25.984375 6.890625 \nQ 35.75 6.890625 40.890625 13.453125 \nQ 46.046875 20.015625 46.78125 33.40625 \nQ 43.953125 29.203125 39.59375 26.953125 \nQ 35.25 24.703125 29.984375 24.703125 \nQ 19.046875 24.703125 12.671875 31.3125 \nQ 6.296875 37.9375 6.296875 49.421875 \nQ 6.296875 60.640625 12.9375 67.421875 \nQ 19.578125 74.21875 30.609375 74.21875 \nQ 43.265625 74.21875 49.921875 64.515625 \nQ 56.59375 54.828125 56.59375 36.375 \nQ 56.59375 19.140625 48.40625 8.859375 \nQ 40.234375 -1.421875 26.421875 -1.421875 \nQ 22.703125 -1.421875 18.890625 -0.6875 \nQ 15.09375 0.046875 10.984375 1.515625 \nz\nM 30.609375 32.421875 \nQ 37.25 32.421875 41.125 36.953125 \nQ 45.015625 41.5 45.015625 49.421875 \nQ 45.015625 57.28125 41.125 61.84375 \nQ 37.25 66.40625 30.609375 66.40625 \nQ 23.96875 66.40625 20.09375 61.84375 \nQ 16.21875 57.28125 16.21875 49.421875 \nQ 16.21875 41.5 20.09375 36.953125 \nQ 23.96875 32.421875 30.609375 32.421875 \nz\n\" id=\"DejaVuSans-57\"/>\n    </defs>\n    <g style=\"fill:#444443;\" transform=\"translate(273.223352 76.352115)scale(0.08 -0.08)\">\n     <use xlink:href=\"#DejaVuSans-48\"/>\n     <use x=\"63.623047\" xlink:href=\"#DejaVuSans-46\"/>\n     <use x=\"95.410156\" xlink:href=\"#DejaVuSans-48\"/>\n     <use x=\"159.033203\" xlink:href=\"#DejaVuSans-57\"/>\n    </g>\n   </g>\n   <g id=\"text_81\">\n    <!-- 0.31 -->\n    <g style=\"fill:#444443;\" transform=\"translate(300.824949 76.352115)scale(0.08 -0.08)\">\n     <use xlink:href=\"#DejaVuSans-48\"/>\n     <use x=\"63.623047\" xlink:href=\"#DejaVuSans-46\"/>\n     <use x=\"95.410156\" xlink:href=\"#DejaVuSans-51\"/>\n     <use x=\"159.033203\" xlink:href=\"#DejaVuSans-49\"/>\n    </g>\n   </g>\n   <g id=\"text_82\">\n    <!-- 0.04 -->\n    <g style=\"fill:#444443;\" transform=\"translate(328.426546 76.352115)scale(0.08 -0.08)\">\n     <use xlink:href=\"#DejaVuSans-48\"/>\n     <use x=\"63.623047\" xlink:href=\"#DejaVuSans-46\"/>\n     <use x=\"95.410156\" xlink:href=\"#DejaVuSans-48\"/>\n     <use x=\"159.033203\" xlink:href=\"#DejaVuSans-52\"/>\n    </g>\n   </g>\n   <g id=\"text_83\">\n    <!-- 0.73 -->\n    <defs>\n     <path d=\"M 8.203125 72.90625 \nL 55.078125 72.90625 \nL 55.078125 68.703125 \nL 28.609375 0 \nL 18.3125 0 \nL 43.21875 64.59375 \nL 8.203125 64.59375 \nz\n\" id=\"DejaVuSans-55\"/>\n    </defs>\n    <g style=\"fill:#444443;\" transform=\"translate(356.028144 76.352115)scale(0.08 -0.08)\">\n     <use xlink:href=\"#DejaVuSans-48\"/>\n     <use x=\"63.623047\" xlink:href=\"#DejaVuSans-46\"/>\n     <use x=\"95.410156\" xlink:href=\"#DejaVuSans-55\"/>\n     <use x=\"159.033203\" xlink:href=\"#DejaVuSans-51\"/>\n    </g>\n   </g>\n   <g id=\"text_84\">\n    <!-- -0.01 -->\n    <g style=\"fill:#444443;\" transform=\"translate(382.186616 76.352115)scale(0.08 -0.08)\">\n     <use xlink:href=\"#DejaVuSans-45\"/>\n     <use x=\"36.083984\" xlink:href=\"#DejaVuSans-48\"/>\n     <use x=\"99.707031\" xlink:href=\"#DejaVuSans-46\"/>\n     <use x=\"131.494141\" xlink:href=\"#DejaVuSans-48\"/>\n     <use x=\"195.117188\" xlink:href=\"#DejaVuSans-49\"/>\n    </g>\n   </g>\n   <g id=\"text_85\">\n    <!-- 0.13 -->\n    <g style=\"fill:#444443;\" transform=\"translate(411.231338 76.352115)scale(0.08 -0.08)\">\n     <use xlink:href=\"#DejaVuSans-48\"/>\n     <use x=\"63.623047\" xlink:href=\"#DejaVuSans-46\"/>\n     <use x=\"95.410156\" xlink:href=\"#DejaVuSans-49\"/>\n     <use x=\"159.033203\" xlink:href=\"#DejaVuSans-51\"/>\n    </g>\n   </g>\n   <g id=\"text_86\">\n    <!-- 0.31 -->\n    <g style=\"fill:#444443;\" transform=\"translate(438.832936 76.352115)scale(0.08 -0.08)\">\n     <use xlink:href=\"#DejaVuSans-48\"/>\n     <use x=\"63.623047\" xlink:href=\"#DejaVuSans-46\"/>\n     <use x=\"95.410156\" xlink:href=\"#DejaVuSans-51\"/>\n     <use x=\"159.033203\" xlink:href=\"#DejaVuSans-49\"/>\n    </g>\n   </g>\n   <g id=\"text_87\">\n    <!-- 0.08 -->\n    <g style=\"fill:#444443;\" transform=\"translate(466.434533 76.352115)scale(0.08 -0.08)\">\n     <use xlink:href=\"#DejaVuSans-48\"/>\n     <use x=\"63.623047\" xlink:href=\"#DejaVuSans-46\"/>\n     <use x=\"95.410156\" xlink:href=\"#DejaVuSans-48\"/>\n     <use x=\"159.033203\" xlink:href=\"#DejaVuSans-56\"/>\n    </g>\n   </g>\n   <g id=\"text_88\">\n    <!-- 0.01 -->\n    <g style=\"fill:#444443;\" transform=\"translate(494.036131 76.352115)scale(0.08 -0.08)\">\n     <use xlink:href=\"#DejaVuSans-48\"/>\n     <use x=\"63.623047\" xlink:href=\"#DejaVuSans-46\"/>\n     <use x=\"95.410156\" xlink:href=\"#DejaVuSans-48\"/>\n     <use x=\"159.033203\" xlink:href=\"#DejaVuSans-49\"/>\n    </g>\n   </g>\n   <g id=\"text_89\">\n    <!-- -0.01 -->\n    <g style=\"fill:#444443;\" transform=\"translate(520.194603 76.352115)scale(0.08 -0.08)\">\n     <use xlink:href=\"#DejaVuSans-45\"/>\n     <use x=\"36.083984\" xlink:href=\"#DejaVuSans-48\"/>\n     <use x=\"99.707031\" xlink:href=\"#DejaVuSans-46\"/>\n     <use x=\"131.494141\" xlink:href=\"#DejaVuSans-48\"/>\n     <use x=\"195.117188\" xlink:href=\"#DejaVuSans-49\"/>\n    </g>\n   </g>\n   <g id=\"text_90\">\n    <!-- 0.25 -->\n    <g style=\"fill:#444443;\" transform=\"translate(549.239325 76.352115)scale(0.08 -0.08)\">\n     <use xlink:href=\"#DejaVuSans-48\"/>\n     <use x=\"63.623047\" xlink:href=\"#DejaVuSans-46\"/>\n     <use x=\"95.410156\" xlink:href=\"#DejaVuSans-50\"/>\n     <use x=\"159.033203\" xlink:href=\"#DejaVuSans-53\"/>\n    </g>\n   </g>\n   <g id=\"text_91\">\n    <!-- 0.00 -->\n    <g style=\"fill:#444443;\" transform=\"translate(576.840923 76.352115)scale(0.08 -0.08)\">\n     <use xlink:href=\"#DejaVuSans-48\"/>\n     <use x=\"63.623047\" xlink:href=\"#DejaVuSans-46\"/>\n     <use x=\"95.410156\" xlink:href=\"#DejaVuSans-48\"/>\n     <use x=\"159.033203\" xlink:href=\"#DejaVuSans-48\"/>\n    </g>\n   </g>\n   <g id=\"text_92\">\n    <!-- -0.05 -->\n    <g style=\"fill:#444443;\" transform=\"translate(602.999395 76.352115)scale(0.08 -0.08)\">\n     <use xlink:href=\"#DejaVuSans-45\"/>\n     <use x=\"36.083984\" xlink:href=\"#DejaVuSans-48\"/>\n     <use x=\"99.707031\" xlink:href=\"#DejaVuSans-46\"/>\n     <use x=\"131.494141\" xlink:href=\"#DejaVuSans-48\"/>\n     <use x=\"195.117188\" xlink:href=\"#DejaVuSans-53\"/>\n    </g>\n   </g>\n   <g id=\"text_93\">\n    <!-- x -->\n    <g style=\"fill:#444443;\" transform=\"translate(196.95731 103.953713)scale(0.08 -0.08)\">\n     <use xlink:href=\"#DejaVuSans-120\"/>\n    </g>\n   </g>\n   <g id=\"text_94\">\n    <!-- 0.06 -->\n    <g style=\"fill:#444443;\" transform=\"translate(218.020157 103.953713)scale(0.08 -0.08)\">\n     <use xlink:href=\"#DejaVuSans-48\"/>\n     <use x=\"63.623047\" xlink:href=\"#DejaVuSans-46\"/>\n     <use x=\"95.410156\" xlink:href=\"#DejaVuSans-48\"/>\n     <use x=\"159.033203\" xlink:href=\"#DejaVuSans-54\"/>\n    </g>\n   </g>\n   <g id=\"text_95\">\n    <!-- 0.38 -->\n    <g style=\"fill:#444443;\" transform=\"translate(245.621754 103.953713)scale(0.08 -0.08)\">\n     <use xlink:href=\"#DejaVuSans-48\"/>\n     <use x=\"63.623047\" xlink:href=\"#DejaVuSans-46\"/>\n     <use x=\"95.410156\" xlink:href=\"#DejaVuSans-51\"/>\n     <use x=\"159.033203\" xlink:href=\"#DejaVuSans-56\"/>\n    </g>\n   </g>\n   <g id=\"text_96\">\n    <!-- 0.02 -->\n    <g style=\"fill:#444443;\" transform=\"translate(273.223352 103.953713)scale(0.08 -0.08)\">\n     <use xlink:href=\"#DejaVuSans-48\"/>\n     <use x=\"63.623047\" xlink:href=\"#DejaVuSans-46\"/>\n     <use x=\"95.410156\" xlink:href=\"#DejaVuSans-48\"/>\n     <use x=\"159.033203\" xlink:href=\"#DejaVuSans-50\"/>\n    </g>\n   </g>\n   <g id=\"text_97\">\n    <!-- -0.07 -->\n    <g style=\"fill:#444443;\" transform=\"translate(299.381824 103.953713)scale(0.08 -0.08)\">\n     <use xlink:href=\"#DejaVuSans-45\"/>\n     <use x=\"36.083984\" xlink:href=\"#DejaVuSans-48\"/>\n     <use x=\"99.707031\" xlink:href=\"#DejaVuSans-46\"/>\n     <use x=\"131.494141\" xlink:href=\"#DejaVuSans-48\"/>\n     <use x=\"195.117188\" xlink:href=\"#DejaVuSans-55\"/>\n    </g>\n   </g>\n   <g id=\"text_98\">\n    <!-- -0.05 -->\n    <g style=\"fill:#444443;\" transform=\"translate(326.983421 103.953713)scale(0.08 -0.08)\">\n     <use xlink:href=\"#DejaVuSans-45\"/>\n     <use x=\"36.083984\" xlink:href=\"#DejaVuSans-48\"/>\n     <use x=\"99.707031\" xlink:href=\"#DejaVuSans-46\"/>\n     <use x=\"131.494141\" xlink:href=\"#DejaVuSans-48\"/>\n     <use x=\"195.117188\" xlink:href=\"#DejaVuSans-53\"/>\n    </g>\n   </g>\n   <g id=\"text_99\">\n    <!-- -0.05 -->\n    <g style=\"fill:#444443;\" transform=\"translate(354.585019 103.953713)scale(0.08 -0.08)\">\n     <use xlink:href=\"#DejaVuSans-45\"/>\n     <use x=\"36.083984\" xlink:href=\"#DejaVuSans-48\"/>\n     <use x=\"99.707031\" xlink:href=\"#DejaVuSans-46\"/>\n     <use x=\"131.494141\" xlink:href=\"#DejaVuSans-48\"/>\n     <use x=\"195.117188\" xlink:href=\"#DejaVuSans-53\"/>\n    </g>\n   </g>\n   <g id=\"text_100\">\n    <!-- -0.01 -->\n    <g style=\"fill:#444443;\" transform=\"translate(382.186616 103.953713)scale(0.08 -0.08)\">\n     <use xlink:href=\"#DejaVuSans-45\"/>\n     <use x=\"36.083984\" xlink:href=\"#DejaVuSans-48\"/>\n     <use x=\"99.707031\" xlink:href=\"#DejaVuSans-46\"/>\n     <use x=\"131.494141\" xlink:href=\"#DejaVuSans-48\"/>\n     <use x=\"195.117188\" xlink:href=\"#DejaVuSans-49\"/>\n    </g>\n   </g>\n   <g id=\"text_101\">\n    <!-- -0.04 -->\n    <g style=\"fill:#444443;\" transform=\"translate(409.788213 103.953713)scale(0.08 -0.08)\">\n     <use xlink:href=\"#DejaVuSans-45\"/>\n     <use x=\"36.083984\" xlink:href=\"#DejaVuSans-48\"/>\n     <use x=\"99.707031\" xlink:href=\"#DejaVuSans-46\"/>\n     <use x=\"131.494141\" xlink:href=\"#DejaVuSans-48\"/>\n     <use x=\"195.117188\" xlink:href=\"#DejaVuSans-52\"/>\n    </g>\n   </g>\n   <g id=\"text_102\">\n    <!-- -0.09 -->\n    <g style=\"fill:#444443;\" transform=\"translate(437.389811 103.953713)scale(0.08 -0.08)\">\n     <use xlink:href=\"#DejaVuSans-45\"/>\n     <use x=\"36.083984\" xlink:href=\"#DejaVuSans-48\"/>\n     <use x=\"99.707031\" xlink:href=\"#DejaVuSans-46\"/>\n     <use x=\"131.494141\" xlink:href=\"#DejaVuSans-48\"/>\n     <use x=\"195.117188\" xlink:href=\"#DejaVuSans-57\"/>\n    </g>\n   </g>\n   <g id=\"text_103\">\n    <!-- 0.00 -->\n    <g style=\"fill:#444443;\" transform=\"translate(466.434533 103.953713)scale(0.08 -0.08)\">\n     <use xlink:href=\"#DejaVuSans-48\"/>\n     <use x=\"63.623047\" xlink:href=\"#DejaVuSans-46\"/>\n     <use x=\"95.410156\" xlink:href=\"#DejaVuSans-48\"/>\n     <use x=\"159.033203\" xlink:href=\"#DejaVuSans-48\"/>\n    </g>\n   </g>\n   <g id=\"text_104\">\n    <!-- 0.01 -->\n    <g style=\"fill:#444443;\" transform=\"translate(494.036131 103.953713)scale(0.08 -0.08)\">\n     <use xlink:href=\"#DejaVuSans-48\"/>\n     <use x=\"63.623047\" xlink:href=\"#DejaVuSans-46\"/>\n     <use x=\"95.410156\" xlink:href=\"#DejaVuSans-48\"/>\n     <use x=\"159.033203\" xlink:href=\"#DejaVuSans-49\"/>\n    </g>\n   </g>\n   <g id=\"text_105\">\n    <!-- 0.00 -->\n    <g style=\"fill:#444443;\" transform=\"translate(521.637728 103.953713)scale(0.08 -0.08)\">\n     <use xlink:href=\"#DejaVuSans-48\"/>\n     <use x=\"63.623047\" xlink:href=\"#DejaVuSans-46\"/>\n     <use x=\"95.410156\" xlink:href=\"#DejaVuSans-48\"/>\n     <use x=\"159.033203\" xlink:href=\"#DejaVuSans-48\"/>\n    </g>\n   </g>\n   <g id=\"text_106\">\n    <!-- -0.04 -->\n    <g style=\"fill:#444443;\" transform=\"translate(547.7962 103.953713)scale(0.08 -0.08)\">\n     <use xlink:href=\"#DejaVuSans-45\"/>\n     <use x=\"36.083984\" xlink:href=\"#DejaVuSans-48\"/>\n     <use x=\"99.707031\" xlink:href=\"#DejaVuSans-46\"/>\n     <use x=\"131.494141\" xlink:href=\"#DejaVuSans-48\"/>\n     <use x=\"195.117188\" xlink:href=\"#DejaVuSans-52\"/>\n    </g>\n   </g>\n   <g id=\"text_107\">\n    <!-- -0.00 -->\n    <g style=\"fill:#444443;\" transform=\"translate(575.397798 103.953713)scale(0.08 -0.08)\">\n     <use xlink:href=\"#DejaVuSans-45\"/>\n     <use x=\"36.083984\" xlink:href=\"#DejaVuSans-48\"/>\n     <use x=\"99.707031\" xlink:href=\"#DejaVuSans-46\"/>\n     <use x=\"131.494141\" xlink:href=\"#DejaVuSans-48\"/>\n     <use x=\"195.117188\" xlink:href=\"#DejaVuSans-48\"/>\n    </g>\n   </g>\n   <g id=\"text_108\">\n    <!-- 0.01 -->\n    <g style=\"fill:#444443;\" transform=\"translate(604.44252 103.953713)scale(0.08 -0.08)\">\n     <use xlink:href=\"#DejaVuSans-48\"/>\n     <use x=\"63.623047\" xlink:href=\"#DejaVuSans-46\"/>\n     <use x=\"95.410156\" xlink:href=\"#DejaVuSans-48\"/>\n     <use x=\"159.033203\" xlink:href=\"#DejaVuSans-49\"/>\n    </g>\n   </g>\n   <g id=\"text_109\">\n    <!-- x -->\n    <g style=\"fill:#444443;\" transform=\"translate(224.558907 131.55531)scale(0.08 -0.08)\">\n     <use xlink:href=\"#DejaVuSans-120\"/>\n    </g>\n   </g>\n   <g id=\"text_110\">\n    <!-- -0.05 -->\n    <g style=\"fill:#444443;\" transform=\"translate(244.178629 131.55531)scale(0.08 -0.08)\">\n     <use xlink:href=\"#DejaVuSans-45\"/>\n     <use x=\"36.083984\" xlink:href=\"#DejaVuSans-48\"/>\n     <use x=\"99.707031\" xlink:href=\"#DejaVuSans-46\"/>\n     <use x=\"131.494141\" xlink:href=\"#DejaVuSans-48\"/>\n     <use x=\"195.117188\" xlink:href=\"#DejaVuSans-53\"/>\n    </g>\n   </g>\n   <g id=\"text_111\">\n    <!-- 0.17 -->\n    <g style=\"fill:#444443;\" transform=\"translate(273.223352 131.55531)scale(0.08 -0.08)\">\n     <use xlink:href=\"#DejaVuSans-48\"/>\n     <use x=\"63.623047\" xlink:href=\"#DejaVuSans-46\"/>\n     <use x=\"95.410156\" xlink:href=\"#DejaVuSans-49\"/>\n     <use x=\"159.033203\" xlink:href=\"#DejaVuSans-55\"/>\n    </g>\n   </g>\n   <g id=\"text_112\">\n    <!-- -0.61 -->\n    <g style=\"fill:#444443;\" transform=\"translate(299.381824 131.55531)scale(0.08 -0.08)\">\n     <use xlink:href=\"#DejaVuSans-45\"/>\n     <use x=\"36.083984\" xlink:href=\"#DejaVuSans-48\"/>\n     <use x=\"99.707031\" xlink:href=\"#DejaVuSans-46\"/>\n     <use x=\"131.494141\" xlink:href=\"#DejaVuSans-54\"/>\n     <use x=\"195.117188\" xlink:href=\"#DejaVuSans-49\"/>\n    </g>\n   </g>\n   <g id=\"text_113\">\n    <!-- -0.18 -->\n    <g style=\"fill:#444443;\" transform=\"translate(326.983421 131.55531)scale(0.08 -0.08)\">\n     <use xlink:href=\"#DejaVuSans-45\"/>\n     <use x=\"36.083984\" xlink:href=\"#DejaVuSans-48\"/>\n     <use x=\"99.707031\" xlink:href=\"#DejaVuSans-46\"/>\n     <use x=\"131.494141\" xlink:href=\"#DejaVuSans-49\"/>\n     <use x=\"195.117188\" xlink:href=\"#DejaVuSans-56\"/>\n    </g>\n   </g>\n   <g id=\"text_114\">\n    <!-- -0.04 -->\n    <g style=\"fill:#444443;\" transform=\"translate(354.585019 131.55531)scale(0.08 -0.08)\">\n     <use xlink:href=\"#DejaVuSans-45\"/>\n     <use x=\"36.083984\" xlink:href=\"#DejaVuSans-48\"/>\n     <use x=\"99.707031\" xlink:href=\"#DejaVuSans-46\"/>\n     <use x=\"131.494141\" xlink:href=\"#DejaVuSans-48\"/>\n     <use x=\"195.117188\" xlink:href=\"#DejaVuSans-52\"/>\n    </g>\n   </g>\n   <g id=\"text_115\">\n    <!-- 0.03 -->\n    <g style=\"fill:#444443;\" transform=\"translate(383.629741 131.55531)scale(0.08 -0.08)\">\n     <use xlink:href=\"#DejaVuSans-48\"/>\n     <use x=\"63.623047\" xlink:href=\"#DejaVuSans-46\"/>\n     <use x=\"95.410156\" xlink:href=\"#DejaVuSans-48\"/>\n     <use x=\"159.033203\" xlink:href=\"#DejaVuSans-51\"/>\n    </g>\n   </g>\n   <g id=\"text_116\">\n    <!-- -0.05 -->\n    <g style=\"fill:#444443;\" transform=\"translate(409.788213 131.55531)scale(0.08 -0.08)\">\n     <use xlink:href=\"#DejaVuSans-45\"/>\n     <use x=\"36.083984\" xlink:href=\"#DejaVuSans-48\"/>\n     <use x=\"99.707031\" xlink:href=\"#DejaVuSans-46\"/>\n     <use x=\"131.494141\" xlink:href=\"#DejaVuSans-48\"/>\n     <use x=\"195.117188\" xlink:href=\"#DejaVuSans-53\"/>\n    </g>\n   </g>\n   <g id=\"text_117\">\n    <!-- -0.59 -->\n    <g style=\"fill:#444443;\" transform=\"translate(437.389811 131.55531)scale(0.08 -0.08)\">\n     <use xlink:href=\"#DejaVuSans-45\"/>\n     <use x=\"36.083984\" xlink:href=\"#DejaVuSans-48\"/>\n     <use x=\"99.707031\" xlink:href=\"#DejaVuSans-46\"/>\n     <use x=\"131.494141\" xlink:href=\"#DejaVuSans-53\"/>\n     <use x=\"195.117188\" xlink:href=\"#DejaVuSans-57\"/>\n    </g>\n   </g>\n   <g id=\"text_118\">\n    <!-- -0.11 -->\n    <g style=\"fill:#444443;\" transform=\"translate(464.991408 131.55531)scale(0.08 -0.08)\">\n     <use xlink:href=\"#DejaVuSans-45\"/>\n     <use x=\"36.083984\" xlink:href=\"#DejaVuSans-48\"/>\n     <use x=\"99.707031\" xlink:href=\"#DejaVuSans-46\"/>\n     <use x=\"131.494141\" xlink:href=\"#DejaVuSans-49\"/>\n     <use x=\"195.117188\" xlink:href=\"#DejaVuSans-49\"/>\n    </g>\n   </g>\n   <g id=\"text_119\">\n    <!-- -0.03 -->\n    <g style=\"fill:#444443;\" transform=\"translate(492.593006 131.55531)scale(0.08 -0.08)\">\n     <use xlink:href=\"#DejaVuSans-45\"/>\n     <use x=\"36.083984\" xlink:href=\"#DejaVuSans-48\"/>\n     <use x=\"99.707031\" xlink:href=\"#DejaVuSans-46\"/>\n     <use x=\"131.494141\" xlink:href=\"#DejaVuSans-48\"/>\n     <use x=\"195.117188\" xlink:href=\"#DejaVuSans-51\"/>\n    </g>\n   </g>\n   <g id=\"text_120\">\n    <!-- 0.02 -->\n    <g style=\"fill:#444443;\" transform=\"translate(521.637728 131.55531)scale(0.08 -0.08)\">\n     <use xlink:href=\"#DejaVuSans-48\"/>\n     <use x=\"63.623047\" xlink:href=\"#DejaVuSans-46\"/>\n     <use x=\"95.410156\" xlink:href=\"#DejaVuSans-48\"/>\n     <use x=\"159.033203\" xlink:href=\"#DejaVuSans-50\"/>\n    </g>\n   </g>\n   <g id=\"text_121\">\n    <!-- -0.53 -->\n    <g style=\"fill:#444443;\" transform=\"translate(547.7962 131.55531)scale(0.08 -0.08)\">\n     <use xlink:href=\"#DejaVuSans-45\"/>\n     <use x=\"36.083984\" xlink:href=\"#DejaVuSans-48\"/>\n     <use x=\"99.707031\" xlink:href=\"#DejaVuSans-46\"/>\n     <use x=\"131.494141\" xlink:href=\"#DejaVuSans-53\"/>\n     <use x=\"195.117188\" xlink:href=\"#DejaVuSans-51\"/>\n    </g>\n   </g>\n   <g id=\"text_122\">\n    <!-- 0.02 -->\n    <g style=\"fill:#444443;\" transform=\"translate(576.840923 131.55531)scale(0.08 -0.08)\">\n     <use xlink:href=\"#DejaVuSans-48\"/>\n     <use x=\"63.623047\" xlink:href=\"#DejaVuSans-46\"/>\n     <use x=\"95.410156\" xlink:href=\"#DejaVuSans-48\"/>\n     <use x=\"159.033203\" xlink:href=\"#DejaVuSans-50\"/>\n    </g>\n   </g>\n   <g id=\"text_123\">\n    <!-- -0.02 -->\n    <g style=\"fill:#444443;\" transform=\"translate(602.999395 131.55531)scale(0.08 -0.08)\">\n     <use xlink:href=\"#DejaVuSans-45\"/>\n     <use x=\"36.083984\" xlink:href=\"#DejaVuSans-48\"/>\n     <use x=\"99.707031\" xlink:href=\"#DejaVuSans-46\"/>\n     <use x=\"131.494141\" xlink:href=\"#DejaVuSans-48\"/>\n     <use x=\"195.117188\" xlink:href=\"#DejaVuSans-50\"/>\n    </g>\n   </g>\n   <g id=\"text_124\">\n    <!-- x -->\n    <g style=\"fill:#444443;\" transform=\"translate(252.160504 159.156907)scale(0.08 -0.08)\">\n     <use xlink:href=\"#DejaVuSans-120\"/>\n    </g>\n   </g>\n   <g id=\"text_125\">\n    <!-- -0.01 -->\n    <g style=\"fill:#444443;\" transform=\"translate(271.780227 159.156907)scale(0.08 -0.08)\">\n     <use xlink:href=\"#DejaVuSans-45\"/>\n     <use x=\"36.083984\" xlink:href=\"#DejaVuSans-48\"/>\n     <use x=\"99.707031\" xlink:href=\"#DejaVuSans-46\"/>\n     <use x=\"131.494141\" xlink:href=\"#DejaVuSans-48\"/>\n     <use x=\"195.117188\" xlink:href=\"#DejaVuSans-49\"/>\n    </g>\n   </g>\n   <g id=\"text_126\">\n    <!-- 0.08 -->\n    <g style=\"fill:#444443;\" transform=\"translate(300.824949 159.156907)scale(0.08 -0.08)\">\n     <use xlink:href=\"#DejaVuSans-48\"/>\n     <use x=\"63.623047\" xlink:href=\"#DejaVuSans-46\"/>\n     <use x=\"95.410156\" xlink:href=\"#DejaVuSans-48\"/>\n     <use x=\"159.033203\" xlink:href=\"#DejaVuSans-56\"/>\n    </g>\n   </g>\n   <g id=\"text_127\">\n    <!-- 0.02 -->\n    <g style=\"fill:#444443;\" transform=\"translate(328.426546 159.156907)scale(0.08 -0.08)\">\n     <use xlink:href=\"#DejaVuSans-48\"/>\n     <use x=\"63.623047\" xlink:href=\"#DejaVuSans-46\"/>\n     <use x=\"95.410156\" xlink:href=\"#DejaVuSans-48\"/>\n     <use x=\"159.033203\" xlink:href=\"#DejaVuSans-50\"/>\n    </g>\n   </g>\n   <g id=\"text_128\">\n    <!-- 0.06 -->\n    <g style=\"fill:#444443;\" transform=\"translate(356.028144 159.156907)scale(0.08 -0.08)\">\n     <use xlink:href=\"#DejaVuSans-48\"/>\n     <use x=\"63.623047\" xlink:href=\"#DejaVuSans-46\"/>\n     <use x=\"95.410156\" xlink:href=\"#DejaVuSans-48\"/>\n     <use x=\"159.033203\" xlink:href=\"#DejaVuSans-54\"/>\n    </g>\n   </g>\n   <g id=\"text_129\">\n    <!-- -0.00 -->\n    <g style=\"fill:#444443;\" transform=\"translate(382.186616 159.156907)scale(0.08 -0.08)\">\n     <use xlink:href=\"#DejaVuSans-45\"/>\n     <use x=\"36.083984\" xlink:href=\"#DejaVuSans-48\"/>\n     <use x=\"99.707031\" xlink:href=\"#DejaVuSans-46\"/>\n     <use x=\"131.494141\" xlink:href=\"#DejaVuSans-48\"/>\n     <use x=\"195.117188\" xlink:href=\"#DejaVuSans-48\"/>\n    </g>\n   </g>\n   <g id=\"text_130\">\n    <!-- 0.02 -->\n    <g style=\"fill:#444443;\" transform=\"translate(411.231338 159.156907)scale(0.08 -0.08)\">\n     <use xlink:href=\"#DejaVuSans-48\"/>\n     <use x=\"63.623047\" xlink:href=\"#DejaVuSans-46\"/>\n     <use x=\"95.410156\" xlink:href=\"#DejaVuSans-48\"/>\n     <use x=\"159.033203\" xlink:href=\"#DejaVuSans-50\"/>\n    </g>\n   </g>\n   <g id=\"text_131\">\n    <!-- 0.06 -->\n    <g style=\"fill:#444443;\" transform=\"translate(438.832936 159.156907)scale(0.08 -0.08)\">\n     <use xlink:href=\"#DejaVuSans-48\"/>\n     <use x=\"63.623047\" xlink:href=\"#DejaVuSans-46\"/>\n     <use x=\"95.410156\" xlink:href=\"#DejaVuSans-48\"/>\n     <use x=\"159.033203\" xlink:href=\"#DejaVuSans-54\"/>\n    </g>\n   </g>\n   <g id=\"text_132\">\n    <!-- 0.01 -->\n    <g style=\"fill:#444443;\" transform=\"translate(466.434533 159.156907)scale(0.08 -0.08)\">\n     <use xlink:href=\"#DejaVuSans-48\"/>\n     <use x=\"63.623047\" xlink:href=\"#DejaVuSans-46\"/>\n     <use x=\"95.410156\" xlink:href=\"#DejaVuSans-48\"/>\n     <use x=\"159.033203\" xlink:href=\"#DejaVuSans-49\"/>\n    </g>\n   </g>\n   <g id=\"text_133\">\n    <!-- 0.00 -->\n    <g style=\"fill:#444443;\" transform=\"translate(494.036131 159.156907)scale(0.08 -0.08)\">\n     <use xlink:href=\"#DejaVuSans-48\"/>\n     <use x=\"63.623047\" xlink:href=\"#DejaVuSans-46\"/>\n     <use x=\"95.410156\" xlink:href=\"#DejaVuSans-48\"/>\n     <use x=\"159.033203\" xlink:href=\"#DejaVuSans-48\"/>\n    </g>\n   </g>\n   <g id=\"text_134\">\n    <!-- -0.02 -->\n    <g style=\"fill:#444443;\" transform=\"translate(520.194603 159.156907)scale(0.08 -0.08)\">\n     <use xlink:href=\"#DejaVuSans-45\"/>\n     <use x=\"36.083984\" xlink:href=\"#DejaVuSans-48\"/>\n     <use x=\"99.707031\" xlink:href=\"#DejaVuSans-46\"/>\n     <use x=\"131.494141\" xlink:href=\"#DejaVuSans-48\"/>\n     <use x=\"195.117188\" xlink:href=\"#DejaVuSans-50\"/>\n    </g>\n   </g>\n   <g id=\"text_135\">\n    <!-- 0.08 -->\n    <g style=\"fill:#444443;\" transform=\"translate(549.239325 159.156907)scale(0.08 -0.08)\">\n     <use xlink:href=\"#DejaVuSans-48\"/>\n     <use x=\"63.623047\" xlink:href=\"#DejaVuSans-46\"/>\n     <use x=\"95.410156\" xlink:href=\"#DejaVuSans-48\"/>\n     <use x=\"159.033203\" xlink:href=\"#DejaVuSans-56\"/>\n    </g>\n   </g>\n   <g id=\"text_136\">\n    <!-- -0.00 -->\n    <g style=\"fill:#444443;\" transform=\"translate(575.397798 159.156907)scale(0.08 -0.08)\">\n     <use xlink:href=\"#DejaVuSans-45\"/>\n     <use x=\"36.083984\" xlink:href=\"#DejaVuSans-48\"/>\n     <use x=\"99.707031\" xlink:href=\"#DejaVuSans-46\"/>\n     <use x=\"131.494141\" xlink:href=\"#DejaVuSans-48\"/>\n     <use x=\"195.117188\" xlink:href=\"#DejaVuSans-48\"/>\n    </g>\n   </g>\n   <g id=\"text_137\">\n    <!-- 0.01 -->\n    <g style=\"fill:#444443;\" transform=\"translate(604.44252 159.156907)scale(0.08 -0.08)\">\n     <use xlink:href=\"#DejaVuSans-48\"/>\n     <use x=\"63.623047\" xlink:href=\"#DejaVuSans-46\"/>\n     <use x=\"95.410156\" xlink:href=\"#DejaVuSans-48\"/>\n     <use x=\"159.033203\" xlink:href=\"#DejaVuSans-49\"/>\n    </g>\n   </g>\n   <g id=\"text_138\">\n    <!-- x -->\n    <g style=\"fill:#444443;\" transform=\"translate(279.762102 186.758505)scale(0.08 -0.08)\">\n     <use xlink:href=\"#DejaVuSans-120\"/>\n    </g>\n   </g>\n   <g id=\"text_139\">\n    <!-- -0.15 -->\n    <g style=\"fill:#444443;\" transform=\"translate(299.381824 186.758505)scale(0.08 -0.08)\">\n     <use xlink:href=\"#DejaVuSans-45\"/>\n     <use x=\"36.083984\" xlink:href=\"#DejaVuSans-48\"/>\n     <use x=\"99.707031\" xlink:href=\"#DejaVuSans-46\"/>\n     <use x=\"131.494141\" xlink:href=\"#DejaVuSans-49\"/>\n     <use x=\"195.117188\" xlink:href=\"#DejaVuSans-53\"/>\n    </g>\n   </g>\n   <g id=\"text_140\">\n    <!-- -0.59 -->\n    <g style=\"fill:#444443;\" transform=\"translate(326.983421 186.758505)scale(0.08 -0.08)\">\n     <use xlink:href=\"#DejaVuSans-45\"/>\n     <use x=\"36.083984\" xlink:href=\"#DejaVuSans-48\"/>\n     <use x=\"99.707031\" xlink:href=\"#DejaVuSans-46\"/>\n     <use x=\"131.494141\" xlink:href=\"#DejaVuSans-53\"/>\n     <use x=\"195.117188\" xlink:href=\"#DejaVuSans-57\"/>\n    </g>\n   </g>\n   <g id=\"text_141\">\n    <!-- -0.09 -->\n    <g style=\"fill:#444443;\" transform=\"translate(354.585019 186.758505)scale(0.08 -0.08)\">\n     <use xlink:href=\"#DejaVuSans-45\"/>\n     <use x=\"36.083984\" xlink:href=\"#DejaVuSans-48\"/>\n     <use x=\"99.707031\" xlink:href=\"#DejaVuSans-46\"/>\n     <use x=\"131.494141\" xlink:href=\"#DejaVuSans-48\"/>\n     <use x=\"195.117188\" xlink:href=\"#DejaVuSans-57\"/>\n    </g>\n   </g>\n   <g id=\"text_142\">\n    <!-- -0.81 -->\n    <g style=\"fill:#444443;\" transform=\"translate(382.186616 186.758505)scale(0.08 -0.08)\">\n     <use xlink:href=\"#DejaVuSans-45\"/>\n     <use x=\"36.083984\" xlink:href=\"#DejaVuSans-48\"/>\n     <use x=\"99.707031\" xlink:href=\"#DejaVuSans-46\"/>\n     <use x=\"131.494141\" xlink:href=\"#DejaVuSans-56\"/>\n     <use x=\"195.117188\" xlink:href=\"#DejaVuSans-49\"/>\n    </g>\n   </g>\n   <g id=\"text_143\">\n    <!-- 0.66 -->\n    <g style=\"fill:#444443;\" transform=\"translate(411.231338 186.758505)scale(0.08 -0.08)\">\n     <use xlink:href=\"#DejaVuSans-48\"/>\n     <use x=\"63.623047\" xlink:href=\"#DejaVuSans-46\"/>\n     <use x=\"95.410156\" xlink:href=\"#DejaVuSans-54\"/>\n     <use x=\"159.033203\" xlink:href=\"#DejaVuSans-54\"/>\n    </g>\n   </g>\n   <g id=\"text_144\">\n    <!-- -0.09 -->\n    <g style=\"fill:#444443;\" transform=\"translate(437.389811 186.758505)scale(0.08 -0.08)\">\n     <use xlink:href=\"#DejaVuSans-45\"/>\n     <use x=\"36.083984\" xlink:href=\"#DejaVuSans-48\"/>\n     <use x=\"99.707031\" xlink:href=\"#DejaVuSans-46\"/>\n     <use x=\"131.494141\" xlink:href=\"#DejaVuSans-48\"/>\n     <use x=\"195.117188\" xlink:href=\"#DejaVuSans-57\"/>\n    </g>\n   </g>\n   <g id=\"text_145\">\n    <!-- 0.27 -->\n    <g style=\"fill:#444443;\" transform=\"translate(466.434533 186.758505)scale(0.08 -0.08)\">\n     <use xlink:href=\"#DejaVuSans-48\"/>\n     <use x=\"63.623047\" xlink:href=\"#DejaVuSans-46\"/>\n     <use x=\"95.410156\" xlink:href=\"#DejaVuSans-50\"/>\n     <use x=\"159.033203\" xlink:href=\"#DejaVuSans-55\"/>\n    </g>\n   </g>\n   <g id=\"text_146\">\n    <!-- 0.81 -->\n    <g style=\"fill:#444443;\" transform=\"translate(494.036131 186.758505)scale(0.08 -0.08)\">\n     <use xlink:href=\"#DejaVuSans-48\"/>\n     <use x=\"63.623047\" xlink:href=\"#DejaVuSans-46\"/>\n     <use x=\"95.410156\" xlink:href=\"#DejaVuSans-56\"/>\n     <use x=\"159.033203\" xlink:href=\"#DejaVuSans-49\"/>\n    </g>\n   </g>\n   <g id=\"text_147\">\n    <!-- 0.06 -->\n    <g style=\"fill:#444443;\" transform=\"translate(521.637728 186.758505)scale(0.08 -0.08)\">\n     <use xlink:href=\"#DejaVuSans-48\"/>\n     <use x=\"63.623047\" xlink:href=\"#DejaVuSans-46\"/>\n     <use x=\"95.410156\" xlink:href=\"#DejaVuSans-48\"/>\n     <use x=\"159.033203\" xlink:href=\"#DejaVuSans-54\"/>\n    </g>\n   </g>\n   <g id=\"text_148\">\n    <!-- -0.23 -->\n    <g style=\"fill:#444443;\" transform=\"translate(547.7962 186.758505)scale(0.08 -0.08)\">\n     <use xlink:href=\"#DejaVuSans-45\"/>\n     <use x=\"36.083984\" xlink:href=\"#DejaVuSans-48\"/>\n     <use x=\"99.707031\" xlink:href=\"#DejaVuSans-46\"/>\n     <use x=\"131.494141\" xlink:href=\"#DejaVuSans-50\"/>\n     <use x=\"195.117188\" xlink:href=\"#DejaVuSans-51\"/>\n    </g>\n   </g>\n   <g id=\"text_149\">\n    <!-- -0.01 -->\n    <g style=\"fill:#444443;\" transform=\"translate(575.397798 186.758505)scale(0.08 -0.08)\">\n     <use xlink:href=\"#DejaVuSans-45\"/>\n     <use x=\"36.083984\" xlink:href=\"#DejaVuSans-48\"/>\n     <use x=\"99.707031\" xlink:href=\"#DejaVuSans-46\"/>\n     <use x=\"131.494141\" xlink:href=\"#DejaVuSans-48\"/>\n     <use x=\"195.117188\" xlink:href=\"#DejaVuSans-49\"/>\n    </g>\n   </g>\n   <g id=\"text_150\">\n    <!-- 0.02 -->\n    <g style=\"fill:#444443;\" transform=\"translate(604.44252 186.758505)scale(0.08 -0.08)\">\n     <use xlink:href=\"#DejaVuSans-48\"/>\n     <use x=\"63.623047\" xlink:href=\"#DejaVuSans-46\"/>\n     <use x=\"95.410156\" xlink:href=\"#DejaVuSans-48\"/>\n     <use x=\"159.033203\" xlink:href=\"#DejaVuSans-50\"/>\n    </g>\n   </g>\n   <g id=\"text_151\">\n    <!-- x -->\n    <g style=\"fill:#444443;\" transform=\"translate(307.363699 214.360102)scale(0.08 -0.08)\">\n     <use xlink:href=\"#DejaVuSans-120\"/>\n    </g>\n   </g>\n   <g id=\"text_152\">\n    <!-- 0.25 -->\n    <g style=\"fill:#444443;\" transform=\"translate(328.426546 214.360102)scale(0.08 -0.08)\">\n     <use xlink:href=\"#DejaVuSans-48\"/>\n     <use x=\"63.623047\" xlink:href=\"#DejaVuSans-46\"/>\n     <use x=\"95.410156\" xlink:href=\"#DejaVuSans-50\"/>\n     <use x=\"159.033203\" xlink:href=\"#DejaVuSans-53\"/>\n    </g>\n   </g>\n   <g id=\"text_153\">\n    <!-- 0.77 -->\n    <g style=\"fill:#444443;\" transform=\"translate(356.028144 214.360102)scale(0.08 -0.08)\">\n     <use xlink:href=\"#DejaVuSans-48\"/>\n     <use x=\"63.623047\" xlink:href=\"#DejaVuSans-46\"/>\n     <use x=\"95.410156\" xlink:href=\"#DejaVuSans-55\"/>\n     <use x=\"159.033203\" xlink:href=\"#DejaVuSans-55\"/>\n    </g>\n   </g>\n   <g id=\"text_154\">\n    <!-- -0.00 -->\n    <g style=\"fill:#444443;\" transform=\"translate(382.186616 214.360102)scale(0.08 -0.08)\">\n     <use xlink:href=\"#DejaVuSans-45\"/>\n     <use x=\"36.083984\" xlink:href=\"#DejaVuSans-48\"/>\n     <use x=\"99.707031\" xlink:href=\"#DejaVuSans-46\"/>\n     <use x=\"131.494141\" xlink:href=\"#DejaVuSans-48\"/>\n     <use x=\"195.117188\" xlink:href=\"#DejaVuSans-48\"/>\n    </g>\n   </g>\n   <g id=\"text_155\">\n    <!-- 0.15 -->\n    <g style=\"fill:#444443;\" transform=\"translate(411.231338 214.360102)scale(0.08 -0.08)\">\n     <use xlink:href=\"#DejaVuSans-48\"/>\n     <use x=\"63.623047\" xlink:href=\"#DejaVuSans-46\"/>\n     <use x=\"95.410156\" xlink:href=\"#DejaVuSans-49\"/>\n     <use x=\"159.033203\" xlink:href=\"#DejaVuSans-53\"/>\n    </g>\n   </g>\n   <g id=\"text_156\">\n    <!-- 0.95 -->\n    <g style=\"fill:#444443;\" transform=\"translate(438.832936 214.360102)scale(0.08 -0.08)\">\n     <use xlink:href=\"#DejaVuSans-48\"/>\n     <use x=\"63.623047\" xlink:href=\"#DejaVuSans-46\"/>\n     <use x=\"95.410156\" xlink:href=\"#DejaVuSans-57\"/>\n     <use x=\"159.033203\" xlink:href=\"#DejaVuSans-53\"/>\n    </g>\n   </g>\n   <g id=\"text_157\">\n    <!-- 0.18 -->\n    <g style=\"fill:#444443;\" transform=\"translate(466.434533 214.360102)scale(0.08 -0.08)\">\n     <use xlink:href=\"#DejaVuSans-48\"/>\n     <use x=\"63.623047\" xlink:href=\"#DejaVuSans-46\"/>\n     <use x=\"95.410156\" xlink:href=\"#DejaVuSans-49\"/>\n     <use x=\"159.033203\" xlink:href=\"#DejaVuSans-56\"/>\n    </g>\n   </g>\n   <g id=\"text_158\">\n    <!-- -0.00 -->\n    <g style=\"fill:#444443;\" transform=\"translate(492.593006 214.360102)scale(0.08 -0.08)\">\n     <use xlink:href=\"#DejaVuSans-45\"/>\n     <use x=\"36.083984\" xlink:href=\"#DejaVuSans-48\"/>\n     <use x=\"99.707031\" xlink:href=\"#DejaVuSans-46\"/>\n     <use x=\"131.494141\" xlink:href=\"#DejaVuSans-48\"/>\n     <use x=\"195.117188\" xlink:href=\"#DejaVuSans-48\"/>\n    </g>\n   </g>\n   <g id=\"text_159\">\n    <!-- -0.03 -->\n    <g style=\"fill:#444443;\" transform=\"translate(520.194603 214.360102)scale(0.08 -0.08)\">\n     <use xlink:href=\"#DejaVuSans-45\"/>\n     <use x=\"36.083984\" xlink:href=\"#DejaVuSans-48\"/>\n     <use x=\"99.707031\" xlink:href=\"#DejaVuSans-46\"/>\n     <use x=\"131.494141\" xlink:href=\"#DejaVuSans-48\"/>\n     <use x=\"195.117188\" xlink:href=\"#DejaVuSans-51\"/>\n    </g>\n   </g>\n   <g id=\"text_160\">\n    <!-- 0.86 -->\n    <g style=\"fill:#444443;\" transform=\"translate(549.239325 214.360102)scale(0.08 -0.08)\">\n     <use xlink:href=\"#DejaVuSans-48\"/>\n     <use x=\"63.623047\" xlink:href=\"#DejaVuSans-46\"/>\n     <use x=\"95.410156\" xlink:href=\"#DejaVuSans-56\"/>\n     <use x=\"159.033203\" xlink:href=\"#DejaVuSans-54\"/>\n    </g>\n   </g>\n   <g id=\"text_161\">\n    <!-- -0.02 -->\n    <g style=\"fill:#444443;\" transform=\"translate(575.397798 214.360102)scale(0.08 -0.08)\">\n     <use xlink:href=\"#DejaVuSans-45\"/>\n     <use x=\"36.083984\" xlink:href=\"#DejaVuSans-48\"/>\n     <use x=\"99.707031\" xlink:href=\"#DejaVuSans-46\"/>\n     <use x=\"131.494141\" xlink:href=\"#DejaVuSans-48\"/>\n     <use x=\"195.117188\" xlink:href=\"#DejaVuSans-50\"/>\n    </g>\n   </g>\n   <g id=\"text_162\">\n    <!-- -0.02 -->\n    <g style=\"fill:#444443;\" transform=\"translate(602.999395 214.360102)scale(0.08 -0.08)\">\n     <use xlink:href=\"#DejaVuSans-45\"/>\n     <use x=\"36.083984\" xlink:href=\"#DejaVuSans-48\"/>\n     <use x=\"99.707031\" xlink:href=\"#DejaVuSans-46\"/>\n     <use x=\"131.494141\" xlink:href=\"#DejaVuSans-48\"/>\n     <use x=\"195.117188\" xlink:href=\"#DejaVuSans-50\"/>\n    </g>\n   </g>\n   <g id=\"text_163\">\n    <!-- x -->\n    <g style=\"fill:#444443;\" transform=\"translate(334.965296 241.9617)scale(0.08 -0.08)\">\n     <use xlink:href=\"#DejaVuSans-120\"/>\n    </g>\n   </g>\n   <g id=\"text_164\">\n    <!-- 0.21 -->\n    <g style=\"fill:#444443;\" transform=\"translate(356.028144 241.9617)scale(0.08 -0.08)\">\n     <use xlink:href=\"#DejaVuSans-48\"/>\n     <use x=\"63.623047\" xlink:href=\"#DejaVuSans-46\"/>\n     <use x=\"95.410156\" xlink:href=\"#DejaVuSans-50\"/>\n     <use x=\"159.033203\" xlink:href=\"#DejaVuSans-49\"/>\n    </g>\n   </g>\n   <g id=\"text_165\">\n    <!-- 0.37 -->\n    <g style=\"fill:#444443;\" transform=\"translate(383.629741 241.9617)scale(0.08 -0.08)\">\n     <use xlink:href=\"#DejaVuSans-48\"/>\n     <use x=\"63.623047\" xlink:href=\"#DejaVuSans-46\"/>\n     <use x=\"95.410156\" xlink:href=\"#DejaVuSans-51\"/>\n     <use x=\"159.033203\" xlink:href=\"#DejaVuSans-55\"/>\n    </g>\n   </g>\n   <g id=\"text_166\">\n    <!-- 0.14 -->\n    <g style=\"fill:#444443;\" transform=\"translate(411.231338 241.9617)scale(0.08 -0.08)\">\n     <use xlink:href=\"#DejaVuSans-48\"/>\n     <use x=\"63.623047\" xlink:href=\"#DejaVuSans-46\"/>\n     <use x=\"95.410156\" xlink:href=\"#DejaVuSans-49\"/>\n     <use x=\"159.033203\" xlink:href=\"#DejaVuSans-52\"/>\n    </g>\n   </g>\n   <g id=\"text_167\">\n    <!-- 0.20 -->\n    <g style=\"fill:#444443;\" transform=\"translate(438.832936 241.9617)scale(0.08 -0.08)\">\n     <use xlink:href=\"#DejaVuSans-48\"/>\n     <use x=\"63.623047\" xlink:href=\"#DejaVuSans-46\"/>\n     <use x=\"95.410156\" xlink:href=\"#DejaVuSans-50\"/>\n     <use x=\"159.033203\" xlink:href=\"#DejaVuSans-48\"/>\n    </g>\n   </g>\n   <g id=\"text_168\">\n    <!-- -0.47 -->\n    <g style=\"fill:#444443;\" transform=\"translate(464.991408 241.9617)scale(0.08 -0.08)\">\n     <use xlink:href=\"#DejaVuSans-45\"/>\n     <use x=\"36.083984\" xlink:href=\"#DejaVuSans-48\"/>\n     <use x=\"99.707031\" xlink:href=\"#DejaVuSans-46\"/>\n     <use x=\"131.494141\" xlink:href=\"#DejaVuSans-52\"/>\n     <use x=\"195.117188\" xlink:href=\"#DejaVuSans-55\"/>\n    </g>\n   </g>\n   <g id=\"text_169\">\n    <!-- -0.38 -->\n    <g style=\"fill:#444443;\" transform=\"translate(492.593006 241.9617)scale(0.08 -0.08)\">\n     <use xlink:href=\"#DejaVuSans-45\"/>\n     <use x=\"36.083984\" xlink:href=\"#DejaVuSans-48\"/>\n     <use x=\"99.707031\" xlink:href=\"#DejaVuSans-46\"/>\n     <use x=\"131.494141\" xlink:href=\"#DejaVuSans-51\"/>\n     <use x=\"195.117188\" xlink:href=\"#DejaVuSans-56\"/>\n    </g>\n   </g>\n   <g id=\"text_170\">\n    <!-- -0.18 -->\n    <g style=\"fill:#444443;\" transform=\"translate(520.194603 241.9617)scale(0.08 -0.08)\">\n     <use xlink:href=\"#DejaVuSans-45\"/>\n     <use x=\"36.083984\" xlink:href=\"#DejaVuSans-48\"/>\n     <use x=\"99.707031\" xlink:href=\"#DejaVuSans-46\"/>\n     <use x=\"131.494141\" xlink:href=\"#DejaVuSans-49\"/>\n     <use x=\"195.117188\" xlink:href=\"#DejaVuSans-56\"/>\n    </g>\n   </g>\n   <g id=\"text_171\">\n    <!-- 0.32 -->\n    <g style=\"fill:#444443;\" transform=\"translate(549.239325 241.9617)scale(0.08 -0.08)\">\n     <use xlink:href=\"#DejaVuSans-48\"/>\n     <use x=\"63.623047\" xlink:href=\"#DejaVuSans-46\"/>\n     <use x=\"95.410156\" xlink:href=\"#DejaVuSans-51\"/>\n     <use x=\"159.033203\" xlink:href=\"#DejaVuSans-50\"/>\n    </g>\n   </g>\n   <g id=\"text_172\">\n    <!-- -0.11 -->\n    <g style=\"fill:#444443;\" transform=\"translate(575.397798 241.9617)scale(0.08 -0.08)\">\n     <use xlink:href=\"#DejaVuSans-45\"/>\n     <use x=\"36.083984\" xlink:href=\"#DejaVuSans-48\"/>\n     <use x=\"99.707031\" xlink:href=\"#DejaVuSans-46\"/>\n     <use x=\"131.494141\" xlink:href=\"#DejaVuSans-49\"/>\n     <use x=\"195.117188\" xlink:href=\"#DejaVuSans-49\"/>\n    </g>\n   </g>\n   <g id=\"text_173\">\n    <!-- -0.03 -->\n    <g style=\"fill:#444443;\" transform=\"translate(602.999395 241.9617)scale(0.08 -0.08)\">\n     <use xlink:href=\"#DejaVuSans-45\"/>\n     <use x=\"36.083984\" xlink:href=\"#DejaVuSans-48\"/>\n     <use x=\"99.707031\" xlink:href=\"#DejaVuSans-46\"/>\n     <use x=\"131.494141\" xlink:href=\"#DejaVuSans-48\"/>\n     <use x=\"195.117188\" xlink:href=\"#DejaVuSans-51\"/>\n    </g>\n   </g>\n   <g id=\"text_174\">\n    <!-- x -->\n    <g style=\"fill:#444443;\" transform=\"translate(362.566894 269.563297)scale(0.08 -0.08)\">\n     <use xlink:href=\"#DejaVuSans-120\"/>\n    </g>\n   </g>\n   <g id=\"text_175\">\n    <!-- 0.04 -->\n    <g style=\"fill:#444443;\" transform=\"translate(383.629741 269.563297)scale(0.08 -0.08)\">\n     <use xlink:href=\"#DejaVuSans-48\"/>\n     <use x=\"63.623047\" xlink:href=\"#DejaVuSans-46\"/>\n     <use x=\"95.410156\" xlink:href=\"#DejaVuSans-48\"/>\n     <use x=\"159.033203\" xlink:href=\"#DejaVuSans-52\"/>\n    </g>\n   </g>\n   <g id=\"text_176\">\n    <!-- 0.17 -->\n    <g style=\"fill:#444443;\" transform=\"translate(411.231338 269.563297)scale(0.08 -0.08)\">\n     <use xlink:href=\"#DejaVuSans-48\"/>\n     <use x=\"63.623047\" xlink:href=\"#DejaVuSans-46\"/>\n     <use x=\"95.410156\" xlink:href=\"#DejaVuSans-49\"/>\n     <use x=\"159.033203\" xlink:href=\"#DejaVuSans-55\"/>\n    </g>\n   </g>\n   <g id=\"text_177\">\n    <!-- 0.73 -->\n    <g style=\"fill:#444443;\" transform=\"translate(438.832936 269.563297)scale(0.08 -0.08)\">\n     <use xlink:href=\"#DejaVuSans-48\"/>\n     <use x=\"63.623047\" xlink:href=\"#DejaVuSans-46\"/>\n     <use x=\"95.410156\" xlink:href=\"#DejaVuSans-55\"/>\n     <use x=\"159.033203\" xlink:href=\"#DejaVuSans-51\"/>\n    </g>\n   </g>\n   <g id=\"text_178\">\n    <!-- 0.12 -->\n    <g style=\"fill:#444443;\" transform=\"translate(466.434533 269.563297)scale(0.08 -0.08)\">\n     <use xlink:href=\"#DejaVuSans-48\"/>\n     <use x=\"63.623047\" xlink:href=\"#DejaVuSans-46\"/>\n     <use x=\"95.410156\" xlink:href=\"#DejaVuSans-49\"/>\n     <use x=\"159.033203\" xlink:href=\"#DejaVuSans-50\"/>\n    </g>\n   </g>\n   <g id=\"text_179\">\n    <!-- -0.04 -->\n    <g style=\"fill:#444443;\" transform=\"translate(492.593006 269.563297)scale(0.08 -0.08)\">\n     <use xlink:href=\"#DejaVuSans-45\"/>\n     <use x=\"36.083984\" xlink:href=\"#DejaVuSans-48\"/>\n     <use x=\"99.707031\" xlink:href=\"#DejaVuSans-46\"/>\n     <use x=\"131.494141\" xlink:href=\"#DejaVuSans-48\"/>\n     <use x=\"195.117188\" xlink:href=\"#DejaVuSans-52\"/>\n    </g>\n   </g>\n   <g id=\"text_180\">\n    <!-- -0.03 -->\n    <g style=\"fill:#444443;\" transform=\"translate(520.194603 269.563297)scale(0.08 -0.08)\">\n     <use xlink:href=\"#DejaVuSans-45\"/>\n     <use x=\"36.083984\" xlink:href=\"#DejaVuSans-48\"/>\n     <use x=\"99.707031\" xlink:href=\"#DejaVuSans-46\"/>\n     <use x=\"131.494141\" xlink:href=\"#DejaVuSans-48\"/>\n     <use x=\"195.117188\" xlink:href=\"#DejaVuSans-51\"/>\n    </g>\n   </g>\n   <g id=\"text_181\">\n    <!-- 0.69 -->\n    <g style=\"fill:#444443;\" transform=\"translate(549.239325 269.563297)scale(0.08 -0.08)\">\n     <use xlink:href=\"#DejaVuSans-48\"/>\n     <use x=\"63.623047\" xlink:href=\"#DejaVuSans-46\"/>\n     <use x=\"95.410156\" xlink:href=\"#DejaVuSans-54\"/>\n     <use x=\"159.033203\" xlink:href=\"#DejaVuSans-57\"/>\n    </g>\n   </g>\n   <g id=\"text_182\">\n    <!-- 0.03 -->\n    <g style=\"fill:#444443;\" transform=\"translate(576.840923 269.563297)scale(0.08 -0.08)\">\n     <use xlink:href=\"#DejaVuSans-48\"/>\n     <use x=\"63.623047\" xlink:href=\"#DejaVuSans-46\"/>\n     <use x=\"95.410156\" xlink:href=\"#DejaVuSans-48\"/>\n     <use x=\"159.033203\" xlink:href=\"#DejaVuSans-51\"/>\n    </g>\n   </g>\n   <g id=\"text_183\">\n    <!-- -0.04 -->\n    <g style=\"fill:#444443;\" transform=\"translate(602.999395 269.563297)scale(0.08 -0.08)\">\n     <use xlink:href=\"#DejaVuSans-45\"/>\n     <use x=\"36.083984\" xlink:href=\"#DejaVuSans-48\"/>\n     <use x=\"99.707031\" xlink:href=\"#DejaVuSans-46\"/>\n     <use x=\"131.494141\" xlink:href=\"#DejaVuSans-48\"/>\n     <use x=\"195.117188\" xlink:href=\"#DejaVuSans-52\"/>\n    </g>\n   </g>\n   <g id=\"text_184\">\n    <!-- x -->\n    <g style=\"fill:#444443;\" transform=\"translate(390.168491 297.164894)scale(0.08 -0.08)\">\n     <use xlink:href=\"#DejaVuSans-120\"/>\n    </g>\n   </g>\n   <g id=\"text_185\">\n    <!-- -0.69 -->\n    <g style=\"fill:#444443;\" transform=\"translate(409.788213 297.164894)scale(0.08 -0.08)\">\n     <use xlink:href=\"#DejaVuSans-45\"/>\n     <use x=\"36.083984\" xlink:href=\"#DejaVuSans-48\"/>\n     <use x=\"99.707031\" xlink:href=\"#DejaVuSans-46\"/>\n     <use x=\"131.494141\" xlink:href=\"#DejaVuSans-54\"/>\n     <use x=\"195.117188\" xlink:href=\"#DejaVuSans-57\"/>\n    </g>\n   </g>\n   <g id=\"text_186\">\n    <!-- -0.05 -->\n    <g style=\"fill:#444443;\" transform=\"translate(437.389811 297.164894)scale(0.08 -0.08)\">\n     <use xlink:href=\"#DejaVuSans-45\"/>\n     <use x=\"36.083984\" xlink:href=\"#DejaVuSans-48\"/>\n     <use x=\"99.707031\" xlink:href=\"#DejaVuSans-46\"/>\n     <use x=\"131.494141\" xlink:href=\"#DejaVuSans-48\"/>\n     <use x=\"195.117188\" xlink:href=\"#DejaVuSans-53\"/>\n    </g>\n   </g>\n   <g id=\"text_187\">\n    <!-- -0.21 -->\n    <g style=\"fill:#444443;\" transform=\"translate(464.991408 297.164894)scale(0.08 -0.08)\">\n     <use xlink:href=\"#DejaVuSans-45\"/>\n     <use x=\"36.083984\" xlink:href=\"#DejaVuSans-48\"/>\n     <use x=\"99.707031\" xlink:href=\"#DejaVuSans-46\"/>\n     <use x=\"131.494141\" xlink:href=\"#DejaVuSans-50\"/>\n     <use x=\"195.117188\" xlink:href=\"#DejaVuSans-49\"/>\n    </g>\n   </g>\n   <g id=\"text_188\">\n    <!-- -1.00 -->\n    <g style=\"fill:#444443;\" transform=\"translate(492.593006 297.164894)scale(0.08 -0.08)\">\n     <use xlink:href=\"#DejaVuSans-45\"/>\n     <use x=\"36.083984\" xlink:href=\"#DejaVuSans-49\"/>\n     <use x=\"99.707031\" xlink:href=\"#DejaVuSans-46\"/>\n     <use x=\"131.494141\" xlink:href=\"#DejaVuSans-48\"/>\n     <use x=\"195.117188\" xlink:href=\"#DejaVuSans-48\"/>\n    </g>\n   </g>\n   <g id=\"text_189\">\n    <!-- -0.10 -->\n    <g style=\"fill:#444443;\" transform=\"translate(520.194603 297.164894)scale(0.08 -0.08)\">\n     <use xlink:href=\"#DejaVuSans-45\"/>\n     <use x=\"36.083984\" xlink:href=\"#DejaVuSans-48\"/>\n     <use x=\"99.707031\" xlink:href=\"#DejaVuSans-46\"/>\n     <use x=\"131.494141\" xlink:href=\"#DejaVuSans-49\"/>\n     <use x=\"195.117188\" xlink:href=\"#DejaVuSans-48\"/>\n    </g>\n   </g>\n   <g id=\"text_190\">\n    <!-- 0.08 -->\n    <g style=\"fill:#444443;\" transform=\"translate(549.239325 297.164894)scale(0.08 -0.08)\">\n     <use xlink:href=\"#DejaVuSans-48\"/>\n     <use x=\"63.623047\" xlink:href=\"#DejaVuSans-46\"/>\n     <use x=\"95.410156\" xlink:href=\"#DejaVuSans-48\"/>\n     <use x=\"159.033203\" xlink:href=\"#DejaVuSans-56\"/>\n    </g>\n   </g>\n   <g id=\"text_191\">\n    <!-- 0.04 -->\n    <g style=\"fill:#444443;\" transform=\"translate(576.840923 297.164894)scale(0.08 -0.08)\">\n     <use xlink:href=\"#DejaVuSans-48\"/>\n     <use x=\"63.623047\" xlink:href=\"#DejaVuSans-46\"/>\n     <use x=\"95.410156\" xlink:href=\"#DejaVuSans-48\"/>\n     <use x=\"159.033203\" xlink:href=\"#DejaVuSans-52\"/>\n    </g>\n   </g>\n   <g id=\"text_192\">\n    <!-- -0.01 -->\n    <g style=\"fill:#444443;\" transform=\"translate(602.999395 297.164894)scale(0.08 -0.08)\">\n     <use xlink:href=\"#DejaVuSans-45\"/>\n     <use x=\"36.083984\" xlink:href=\"#DejaVuSans-48\"/>\n     <use x=\"99.707031\" xlink:href=\"#DejaVuSans-46\"/>\n     <use x=\"131.494141\" xlink:href=\"#DejaVuSans-48\"/>\n     <use x=\"195.117188\" xlink:href=\"#DejaVuSans-49\"/>\n    </g>\n   </g>\n   <g id=\"text_193\">\n    <!-- x -->\n    <g style=\"fill:#444443;\" transform=\"translate(417.770088 324.766492)scale(0.08 -0.08)\">\n     <use xlink:href=\"#DejaVuSans-120\"/>\n    </g>\n   </g>\n   <g id=\"text_194\">\n    <!-- 0.18 -->\n    <g style=\"fill:#444443;\" transform=\"translate(438.832936 324.766492)scale(0.08 -0.08)\">\n     <use xlink:href=\"#DejaVuSans-48\"/>\n     <use x=\"63.623047\" xlink:href=\"#DejaVuSans-46\"/>\n     <use x=\"95.410156\" xlink:href=\"#DejaVuSans-49\"/>\n     <use x=\"159.033203\" xlink:href=\"#DejaVuSans-56\"/>\n    </g>\n   </g>\n   <g id=\"text_195\">\n    <!-- -0.06 -->\n    <g style=\"fill:#444443;\" transform=\"translate(464.991408 324.766492)scale(0.08 -0.08)\">\n     <use xlink:href=\"#DejaVuSans-45\"/>\n     <use x=\"36.083984\" xlink:href=\"#DejaVuSans-48\"/>\n     <use x=\"99.707031\" xlink:href=\"#DejaVuSans-46\"/>\n     <use x=\"131.494141\" xlink:href=\"#DejaVuSans-48\"/>\n     <use x=\"195.117188\" xlink:href=\"#DejaVuSans-54\"/>\n    </g>\n   </g>\n   <g id=\"text_196\">\n    <!-- 0.69 -->\n    <g style=\"fill:#444443;\" transform=\"translate(494.036131 324.766492)scale(0.08 -0.08)\">\n     <use xlink:href=\"#DejaVuSans-48\"/>\n     <use x=\"63.623047\" xlink:href=\"#DejaVuSans-46\"/>\n     <use x=\"95.410156\" xlink:href=\"#DejaVuSans-54\"/>\n     <use x=\"159.033203\" xlink:href=\"#DejaVuSans-57\"/>\n    </g>\n   </g>\n   <g id=\"text_197\">\n    <!-- -0.06 -->\n    <g style=\"fill:#444443;\" transform=\"translate(520.194603 324.766492)scale(0.08 -0.08)\">\n     <use xlink:href=\"#DejaVuSans-45\"/>\n     <use x=\"36.083984\" xlink:href=\"#DejaVuSans-48\"/>\n     <use x=\"99.707031\" xlink:href=\"#DejaVuSans-46\"/>\n     <use x=\"131.494141\" xlink:href=\"#DejaVuSans-48\"/>\n     <use x=\"195.117188\" xlink:href=\"#DejaVuSans-54\"/>\n    </g>\n   </g>\n   <g id=\"text_198\">\n    <!-- 0.10 -->\n    <g style=\"fill:#444443;\" transform=\"translate(549.239325 324.766492)scale(0.08 -0.08)\">\n     <use xlink:href=\"#DejaVuSans-48\"/>\n     <use x=\"63.623047\" xlink:href=\"#DejaVuSans-46\"/>\n     <use x=\"95.410156\" xlink:href=\"#DejaVuSans-49\"/>\n     <use x=\"159.033203\" xlink:href=\"#DejaVuSans-48\"/>\n    </g>\n   </g>\n   <g id=\"text_199\">\n    <!-- -0.13 -->\n    <g style=\"fill:#444443;\" transform=\"translate(575.397798 324.766492)scale(0.08 -0.08)\">\n     <use xlink:href=\"#DejaVuSans-45\"/>\n     <use x=\"36.083984\" xlink:href=\"#DejaVuSans-48\"/>\n     <use x=\"99.707031\" xlink:href=\"#DejaVuSans-46\"/>\n     <use x=\"131.494141\" xlink:href=\"#DejaVuSans-49\"/>\n     <use x=\"195.117188\" xlink:href=\"#DejaVuSans-51\"/>\n    </g>\n   </g>\n   <g id=\"text_200\">\n    <!-- 0.00 -->\n    <g style=\"fill:#444443;\" transform=\"translate(604.44252 324.766492)scale(0.08 -0.08)\">\n     <use xlink:href=\"#DejaVuSans-48\"/>\n     <use x=\"63.623047\" xlink:href=\"#DejaVuSans-46\"/>\n     <use x=\"95.410156\" xlink:href=\"#DejaVuSans-48\"/>\n     <use x=\"159.033203\" xlink:href=\"#DejaVuSans-48\"/>\n    </g>\n   </g>\n   <g id=\"text_201\">\n    <!-- x -->\n    <g style=\"fill:#444443;\" transform=\"translate(445.371686 352.368089)scale(0.08 -0.08)\">\n     <use xlink:href=\"#DejaVuSans-120\"/>\n    </g>\n   </g>\n   <g id=\"text_202\">\n    <!-- 0.22 -->\n    <g style=\"fill:#444443;\" transform=\"translate(466.434533 352.368089)scale(0.08 -0.08)\">\n     <use xlink:href=\"#DejaVuSans-48\"/>\n     <use x=\"63.623047\" xlink:href=\"#DejaVuSans-46\"/>\n     <use x=\"95.410156\" xlink:href=\"#DejaVuSans-50\"/>\n     <use x=\"159.033203\" xlink:href=\"#DejaVuSans-50\"/>\n    </g>\n   </g>\n   <g id=\"text_203\">\n    <!-- 0.05 -->\n    <g style=\"fill:#444443;\" transform=\"translate(494.036131 352.368089)scale(0.08 -0.08)\">\n     <use xlink:href=\"#DejaVuSans-48\"/>\n     <use x=\"63.623047\" xlink:href=\"#DejaVuSans-46\"/>\n     <use x=\"95.410156\" xlink:href=\"#DejaVuSans-48\"/>\n     <use x=\"159.033203\" xlink:href=\"#DejaVuSans-53\"/>\n    </g>\n   </g>\n   <g id=\"text_204\">\n    <!-- -0.03 -->\n    <g style=\"fill:#444443;\" transform=\"translate(520.194603 352.368089)scale(0.08 -0.08)\">\n     <use xlink:href=\"#DejaVuSans-45\"/>\n     <use x=\"36.083984\" xlink:href=\"#DejaVuSans-48\"/>\n     <use x=\"99.707031\" xlink:href=\"#DejaVuSans-46\"/>\n     <use x=\"131.494141\" xlink:href=\"#DejaVuSans-48\"/>\n     <use x=\"195.117188\" xlink:href=\"#DejaVuSans-51\"/>\n    </g>\n   </g>\n   <g id=\"text_205\">\n    <!-- 0.69 -->\n    <g style=\"fill:#444443;\" transform=\"translate(549.239325 352.368089)scale(0.08 -0.08)\">\n     <use xlink:href=\"#DejaVuSans-48\"/>\n     <use x=\"63.623047\" xlink:href=\"#DejaVuSans-46\"/>\n     <use x=\"95.410156\" xlink:href=\"#DejaVuSans-54\"/>\n     <use x=\"159.033203\" xlink:href=\"#DejaVuSans-57\"/>\n    </g>\n   </g>\n   <g id=\"text_206\">\n    <!-- -0.09 -->\n    <g style=\"fill:#444443;\" transform=\"translate(575.397798 352.368089)scale(0.08 -0.08)\">\n     <use xlink:href=\"#DejaVuSans-45\"/>\n     <use x=\"36.083984\" xlink:href=\"#DejaVuSans-48\"/>\n     <use x=\"99.707031\" xlink:href=\"#DejaVuSans-46\"/>\n     <use x=\"131.494141\" xlink:href=\"#DejaVuSans-48\"/>\n     <use x=\"195.117188\" xlink:href=\"#DejaVuSans-57\"/>\n    </g>\n   </g>\n   <g id=\"text_207\">\n    <!-- -0.09 -->\n    <g style=\"fill:#444443;\" transform=\"translate(602.999395 352.368089)scale(0.08 -0.08)\">\n     <use xlink:href=\"#DejaVuSans-45\"/>\n     <use x=\"36.083984\" xlink:href=\"#DejaVuSans-48\"/>\n     <use x=\"99.707031\" xlink:href=\"#DejaVuSans-46\"/>\n     <use x=\"131.494141\" xlink:href=\"#DejaVuSans-48\"/>\n     <use x=\"195.117188\" xlink:href=\"#DejaVuSans-57\"/>\n    </g>\n   </g>\n   <g id=\"text_208\">\n    <!-- x -->\n    <g style=\"fill:#444443;\" transform=\"translate(472.973283 379.969686)scale(0.08 -0.08)\">\n     <use xlink:href=\"#DejaVuSans-120\"/>\n    </g>\n   </g>\n   <g id=\"text_209\">\n    <!-- 0.21 -->\n    <g style=\"fill:#444443;\" transform=\"translate(494.036131 379.969686)scale(0.08 -0.08)\">\n     <use xlink:href=\"#DejaVuSans-48\"/>\n     <use x=\"63.623047\" xlink:href=\"#DejaVuSans-46\"/>\n     <use x=\"95.410156\" xlink:href=\"#DejaVuSans-50\"/>\n     <use x=\"159.033203\" xlink:href=\"#DejaVuSans-49\"/>\n    </g>\n   </g>\n   <g id=\"text_210\">\n    <!-- 0.10 -->\n    <g style=\"fill:#444443;\" transform=\"translate(521.637728 379.969686)scale(0.08 -0.08)\">\n     <use xlink:href=\"#DejaVuSans-48\"/>\n     <use x=\"63.623047\" xlink:href=\"#DejaVuSans-46\"/>\n     <use x=\"95.410156\" xlink:href=\"#DejaVuSans-49\"/>\n     <use x=\"159.033203\" xlink:href=\"#DejaVuSans-48\"/>\n    </g>\n   </g>\n   <g id=\"text_211\">\n    <!-- 0.04 -->\n    <g style=\"fill:#444443;\" transform=\"translate(549.239325 379.969686)scale(0.08 -0.08)\">\n     <use xlink:href=\"#DejaVuSans-48\"/>\n     <use x=\"63.623047\" xlink:href=\"#DejaVuSans-46\"/>\n     <use x=\"95.410156\" xlink:href=\"#DejaVuSans-48\"/>\n     <use x=\"159.033203\" xlink:href=\"#DejaVuSans-52\"/>\n    </g>\n   </g>\n   <g id=\"text_212\">\n    <!-- 0.09 -->\n    <g style=\"fill:#444443;\" transform=\"translate(576.840923 379.969686)scale(0.08 -0.08)\">\n     <use xlink:href=\"#DejaVuSans-48\"/>\n     <use x=\"63.623047\" xlink:href=\"#DejaVuSans-46\"/>\n     <use x=\"95.410156\" xlink:href=\"#DejaVuSans-48\"/>\n     <use x=\"159.033203\" xlink:href=\"#DejaVuSans-57\"/>\n    </g>\n   </g>\n   <g id=\"text_213\">\n    <!-- 0.00 -->\n    <g style=\"fill:#444443;\" transform=\"translate(604.44252 379.969686)scale(0.08 -0.08)\">\n     <use xlink:href=\"#DejaVuSans-48\"/>\n     <use x=\"63.623047\" xlink:href=\"#DejaVuSans-46\"/>\n     <use x=\"95.410156\" xlink:href=\"#DejaVuSans-48\"/>\n     <use x=\"159.033203\" xlink:href=\"#DejaVuSans-48\"/>\n    </g>\n   </g>\n   <g id=\"text_214\">\n    <!-- x -->\n    <g style=\"fill:#444443;\" transform=\"translate(500.574881 407.571284)scale(0.08 -0.08)\">\n     <use xlink:href=\"#DejaVuSans-120\"/>\n    </g>\n   </g>\n   <g id=\"text_215\">\n    <!-- 0.10 -->\n    <g style=\"fill:#444443;\" transform=\"translate(521.637728 407.571284)scale(0.08 -0.08)\">\n     <use xlink:href=\"#DejaVuSans-48\"/>\n     <use x=\"63.623047\" xlink:href=\"#DejaVuSans-46\"/>\n     <use x=\"95.410156\" xlink:href=\"#DejaVuSans-49\"/>\n     <use x=\"159.033203\" xlink:href=\"#DejaVuSans-48\"/>\n    </g>\n   </g>\n   <g id=\"text_216\">\n    <!-- -0.09 -->\n    <g style=\"fill:#444443;\" transform=\"translate(547.7962 407.571284)scale(0.08 -0.08)\">\n     <use xlink:href=\"#DejaVuSans-45\"/>\n     <use x=\"36.083984\" xlink:href=\"#DejaVuSans-48\"/>\n     <use x=\"99.707031\" xlink:href=\"#DejaVuSans-46\"/>\n     <use x=\"131.494141\" xlink:href=\"#DejaVuSans-48\"/>\n     <use x=\"195.117188\" xlink:href=\"#DejaVuSans-57\"/>\n    </g>\n   </g>\n   <g id=\"text_217\">\n    <!-- -0.04 -->\n    <g style=\"fill:#444443;\" transform=\"translate(575.397798 407.571284)scale(0.08 -0.08)\">\n     <use xlink:href=\"#DejaVuSans-45\"/>\n     <use x=\"36.083984\" xlink:href=\"#DejaVuSans-48\"/>\n     <use x=\"99.707031\" xlink:href=\"#DejaVuSans-46\"/>\n     <use x=\"131.494141\" xlink:href=\"#DejaVuSans-48\"/>\n     <use x=\"195.117188\" xlink:href=\"#DejaVuSans-52\"/>\n    </g>\n   </g>\n   <g id=\"text_218\">\n    <!-- 0.01 -->\n    <g style=\"fill:#444443;\" transform=\"translate(604.44252 407.571284)scale(0.08 -0.08)\">\n     <use xlink:href=\"#DejaVuSans-48\"/>\n     <use x=\"63.623047\" xlink:href=\"#DejaVuSans-46\"/>\n     <use x=\"95.410156\" xlink:href=\"#DejaVuSans-48\"/>\n     <use x=\"159.033203\" xlink:href=\"#DejaVuSans-49\"/>\n    </g>\n   </g>\n   <g id=\"text_219\">\n    <!-- x -->\n    <g style=\"fill:#444443;\" transform=\"translate(528.176478 435.172881)scale(0.08 -0.08)\">\n     <use xlink:href=\"#DejaVuSans-120\"/>\n    </g>\n   </g>\n   <g id=\"text_220\">\n    <!-- -0.03 -->\n    <g style=\"fill:#444443;\" transform=\"translate(547.7962 435.172881)scale(0.08 -0.08)\">\n     <use xlink:href=\"#DejaVuSans-45\"/>\n     <use x=\"36.083984\" xlink:href=\"#DejaVuSans-48\"/>\n     <use x=\"99.707031\" xlink:href=\"#DejaVuSans-46\"/>\n     <use x=\"131.494141\" xlink:href=\"#DejaVuSans-48\"/>\n     <use x=\"195.117188\" xlink:href=\"#DejaVuSans-51\"/>\n    </g>\n   </g>\n   <g id=\"text_221\">\n    <!-- 0.10 -->\n    <g style=\"fill:#444443;\" transform=\"translate(576.840923 435.172881)scale(0.08 -0.08)\">\n     <use xlink:href=\"#DejaVuSans-48\"/>\n     <use x=\"63.623047\" xlink:href=\"#DejaVuSans-46\"/>\n     <use x=\"95.410156\" xlink:href=\"#DejaVuSans-49\"/>\n     <use x=\"159.033203\" xlink:href=\"#DejaVuSans-48\"/>\n    </g>\n   </g>\n   <g id=\"text_222\">\n    <!-- 0.01 -->\n    <g style=\"fill:#444443;\" transform=\"translate(604.44252 435.172881)scale(0.08 -0.08)\">\n     <use xlink:href=\"#DejaVuSans-48\"/>\n     <use x=\"63.623047\" xlink:href=\"#DejaVuSans-46\"/>\n     <use x=\"95.410156\" xlink:href=\"#DejaVuSans-48\"/>\n     <use x=\"159.033203\" xlink:href=\"#DejaVuSans-49\"/>\n    </g>\n   </g>\n   <g id=\"text_223\">\n    <!-- x -->\n    <g style=\"fill:#444443;\" transform=\"translate(555.778075 462.774478)scale(0.08 -0.08)\">\n     <use xlink:href=\"#DejaVuSans-120\"/>\n    </g>\n   </g>\n   <g id=\"text_224\">\n    <!-- 0.11 -->\n    <g style=\"fill:#444443;\" transform=\"translate(576.840923 462.774478)scale(0.08 -0.08)\">\n     <use xlink:href=\"#DejaVuSans-48\"/>\n     <use x=\"63.623047\" xlink:href=\"#DejaVuSans-46\"/>\n     <use x=\"95.410156\" xlink:href=\"#DejaVuSans-49\"/>\n     <use x=\"159.033203\" xlink:href=\"#DejaVuSans-49\"/>\n    </g>\n   </g>\n   <g id=\"text_225\">\n    <!-- 0.08 -->\n    <g style=\"fill:#444443;\" transform=\"translate(604.44252 462.774478)scale(0.08 -0.08)\">\n     <use xlink:href=\"#DejaVuSans-48\"/>\n     <use x=\"63.623047\" xlink:href=\"#DejaVuSans-46\"/>\n     <use x=\"95.410156\" xlink:href=\"#DejaVuSans-48\"/>\n     <use x=\"159.033203\" xlink:href=\"#DejaVuSans-56\"/>\n    </g>\n   </g>\n   <g id=\"text_226\">\n    <!-- x -->\n    <g style=\"fill:#444443;\" transform=\"translate(583.379673 490.376076)scale(0.08 -0.08)\">\n     <use xlink:href=\"#DejaVuSans-120\"/>\n    </g>\n   </g>\n   <g id=\"text_227\">\n    <!-- 0.06 -->\n    <g style=\"fill:#444443;\" transform=\"translate(604.44252 490.376076)scale(0.08 -0.08)\">\n     <use xlink:href=\"#DejaVuSans-48\"/>\n     <use x=\"63.623047\" xlink:href=\"#DejaVuSans-46\"/>\n     <use x=\"95.410156\" xlink:href=\"#DejaVuSans-48\"/>\n     <use x=\"159.033203\" xlink:href=\"#DejaVuSans-54\"/>\n    </g>\n   </g>\n   <g id=\"text_228\">\n    <!-- x -->\n    <g style=\"fill:#444443;\" transform=\"translate(610.98127 517.977673)scale(0.08 -0.08)\">\n     <use xlink:href=\"#DejaVuSans-120\"/>\n    </g>\n   </g>\n  </g>\n  <g id=\"axes_2\">\n   <g id=\"patch_7\">\n    <path clip-path=\"url(#pa5037b7a07)\" d=\"M 650.100569 531.292297 \nL 650.100569 510.177377 \nL 650.100569 24.534217 \nL 650.100569 3.419297 \nL 676.494219 3.419297 \nL 676.494219 24.534217 \nL 676.494219 510.177377 \nL 676.494219 531.292297 \nz\n\" style=\"fill:#ffffff;stroke:#ffffff;stroke-linejoin:miter;stroke-width:0.01;\"/>\n   </g>\n   <g id=\"QuadMesh_1\">\n    <path clip-path=\"url(#pa5037b7a07)\" d=\"M 650.100569 531.292297 \nL 676.494219 531.292297 \nL 676.494219 510.177377 \nL 650.100569 510.177377 \nL 650.100569 531.292297 \n\" style=\"fill:#f2cbb7;\"/>\n    <path clip-path=\"url(#pa5037b7a07)\" d=\"M 650.100569 510.177377 \nL 676.494219 510.177377 \nL 676.494219 489.062457 \nL 650.100569 489.062457 \nL 650.100569 510.177377 \n\" style=\"fill:#f3c8b2;\"/>\n    <path clip-path=\"url(#pa5037b7a07)\" d=\"M 650.100569 489.062457 \nL 676.494219 489.062457 \nL 676.494219 467.947537 \nL 650.100569 467.947537 \nL 650.100569 489.062457 \n\" style=\"fill:#f4c6af;\"/>\n    <path clip-path=\"url(#pa5037b7a07)\" d=\"M 650.100569 467.947537 \nL 676.494219 467.947537 \nL 676.494219 446.832617 \nL 650.100569 446.832617 \nL 650.100569 467.947537 \n\" style=\"fill:#f5c2aa;\"/>\n    <path clip-path=\"url(#pa5037b7a07)\" d=\"M 650.100569 446.832617 \nL 676.494219 446.832617 \nL 676.494219 425.717697 \nL 650.100569 425.717697 \nL 650.100569 446.832617 \n\" style=\"fill:#f5c0a7;\"/>\n    <path clip-path=\"url(#pa5037b7a07)\" d=\"M 650.100569 425.717697 \nL 676.494219 425.717697 \nL 676.494219 404.602777 \nL 650.100569 404.602777 \nL 650.100569 425.717697 \n\" style=\"fill:#f6bda2;\"/>\n    <path clip-path=\"url(#pa5037b7a07)\" d=\"M 650.100569 404.602777 \nL 676.494219 404.602777 \nL 676.494219 383.487857 \nL 650.100569 383.487857 \nL 650.100569 404.602777 \n\" style=\"fill:#f7ba9f;\"/>\n    <path clip-path=\"url(#pa5037b7a07)\" d=\"M 650.100569 383.487857 \nL 676.494219 383.487857 \nL 676.494219 362.372937 \nL 650.100569 362.372937 \nL 650.100569 383.487857 \n\" style=\"fill:#f7b79b;\"/>\n    <path clip-path=\"url(#pa5037b7a07)\" d=\"M 650.100569 362.372937 \nL 676.494219 362.372937 \nL 676.494219 341.258017 \nL 650.100569 341.258017 \nL 650.100569 362.372937 \n\" style=\"fill:#f7b396;\"/>\n    <path clip-path=\"url(#pa5037b7a07)\" d=\"M 650.100569 341.258017 \nL 676.494219 341.258017 \nL 676.494219 320.143097 \nL 650.100569 320.143097 \nL 650.100569 341.258017 \n\" style=\"fill:#f7b093;\"/>\n    <path clip-path=\"url(#pa5037b7a07)\" d=\"M 650.100569 320.143097 \nL 676.494219 320.143097 \nL 676.494219 299.028177 \nL 650.100569 299.028177 \nL 650.100569 320.143097 \n\" style=\"fill:#f7ac8e;\"/>\n    <path clip-path=\"url(#pa5037b7a07)\" d=\"M 650.100569 299.028177 \nL 676.494219 299.028177 \nL 676.494219 277.913257 \nL 650.100569 277.913257 \nL 650.100569 299.028177 \n\" style=\"fill:#f7a98b;\"/>\n    <path clip-path=\"url(#pa5037b7a07)\" d=\"M 650.100569 277.913257 \nL 676.494219 277.913257 \nL 676.494219 256.798337 \nL 650.100569 256.798337 \nL 650.100569 277.913257 \n\" style=\"fill:#f6a586;\"/>\n    <path clip-path=\"url(#pa5037b7a07)\" d=\"M 650.100569 256.798337 \nL 676.494219 256.798337 \nL 676.494219 235.683417 \nL 650.100569 235.683417 \nL 650.100569 256.798337 \n\" style=\"fill:#f6a283;\"/>\n    <path clip-path=\"url(#pa5037b7a07)\" d=\"M 650.100569 235.683417 \nL 676.494219 235.683417 \nL 676.494219 214.568497 \nL 650.100569 214.568497 \nL 650.100569 235.683417 \n\" style=\"fill:#f59d7e;\"/>\n    <path clip-path=\"url(#pa5037b7a07)\" d=\"M 650.100569 214.568497 \nL 676.494219 214.568497 \nL 676.494219 193.453577 \nL 650.100569 193.453577 \nL 650.100569 214.568497 \n\" style=\"fill:#f4987a;\"/>\n    <path clip-path=\"url(#pa5037b7a07)\" d=\"M 650.100569 193.453577 \nL 676.494219 193.453577 \nL 676.494219 172.338657 \nL 650.100569 172.338657 \nL 650.100569 193.453577 \n\" style=\"fill:#f39577;\"/>\n    <path clip-path=\"url(#pa5037b7a07)\" d=\"M 650.100569 172.338657 \nL 676.494219 172.338657 \nL 676.494219 151.223737 \nL 650.100569 151.223737 \nL 650.100569 172.338657 \n\" style=\"fill:#f29072;\"/>\n    <path clip-path=\"url(#pa5037b7a07)\" d=\"M 650.100569 151.223737 \nL 676.494219 151.223737 \nL 676.494219 130.108817 \nL 650.100569 130.108817 \nL 650.100569 151.223737 \n\" style=\"fill:#f18d6f;\"/>\n    <path clip-path=\"url(#pa5037b7a07)\" d=\"M 650.100569 130.108817 \nL 676.494219 130.108817 \nL 676.494219 108.993897 \nL 650.100569 108.993897 \nL 650.100569 130.108817 \n\" style=\"fill:#ef886b;\"/>\n    <path clip-path=\"url(#pa5037b7a07)\" d=\"M 650.100569 108.993897 \nL 676.494219 108.993897 \nL 676.494219 87.878977 \nL 650.100569 87.878977 \nL 650.100569 108.993897 \n\" style=\"fill:#ee8468;\"/>\n    <path clip-path=\"url(#pa5037b7a07)\" d=\"M 650.100569 87.878977 \nL 676.494219 87.878977 \nL 676.494219 66.764057 \nL 650.100569 66.764057 \nL 650.100569 87.878977 \n\" style=\"fill:#ec7f63;\"/>\n    <path clip-path=\"url(#pa5037b7a07)\" d=\"M 650.100569 66.764057 \nL 676.494219 66.764057 \nL 676.494219 45.649137 \nL 650.100569 45.649137 \nL 650.100569 66.764057 \n\" style=\"fill:#ea7b60;\"/>\n    <path clip-path=\"url(#pa5037b7a07)\" d=\"M 650.100569 45.649137 \nL 676.494219 45.649137 \nL 676.494219 24.534217 \nL 650.100569 24.534217 \nL 650.100569 45.649137 \n\" style=\"fill:#e8765c;\"/>\n    <path clip-path=\"url(#pa5037b7a07)\" d=\"M 650.100569 24.534217 \nL 676.494219 24.534217 \nL 676.494219 3.419297 \nL 650.100569 3.419297 \nL 650.100569 24.534217 \n\" style=\"fill:#e57058;\"/>\n   </g>\n   <g id=\"matplotlib.axis_3\"/>\n   <g id=\"matplotlib.axis_4\">\n    <g id=\"ytick_20\">\n     <g id=\"line2d_39\">\n      <defs>\n       <path d=\"M 0 0 \nL 3.5 0 \n\" id=\"m741c64a8a1\" style=\"stroke:#000000;stroke-width:0.8;\"/>\n      </defs>\n      <g>\n       <use style=\"stroke:#000000;stroke-width:0.8;\" x=\"676.494219\" xlink:href=\"#m741c64a8a1\" y=\"531.292297\"/>\n      </g>\n     </g>\n     <g id=\"text_229\">\n      <!-- 0.6 -->\n      <g style=\"fill:#444443;\" transform=\"translate(683.494219 534.711594)scale(0.09 -0.09)\">\n       <use xlink:href=\"#DejaVuSans-48\"/>\n       <use x=\"63.623047\" xlink:href=\"#DejaVuSans-46\"/>\n       <use x=\"95.410156\" xlink:href=\"#DejaVuSans-54\"/>\n      </g>\n     </g>\n    </g>\n    <g id=\"ytick_21\">\n     <g id=\"line2d_40\">\n      <g>\n       <use style=\"stroke:#000000;stroke-width:0.8;\" x=\"676.494219\" xlink:href=\"#m741c64a8a1\" y=\"267.355797\"/>\n      </g>\n     </g>\n     <g id=\"text_230\">\n      <!-- 0.8 -->\n      <g style=\"fill:#444443;\" transform=\"translate(683.494219 270.775094)scale(0.09 -0.09)\">\n       <use xlink:href=\"#DejaVuSans-48\"/>\n       <use x=\"63.623047\" xlink:href=\"#DejaVuSans-46\"/>\n       <use x=\"95.410156\" xlink:href=\"#DejaVuSans-56\"/>\n      </g>\n     </g>\n    </g>\n    <g id=\"ytick_22\">\n     <g id=\"line2d_41\">\n      <g>\n       <use style=\"stroke:#000000;stroke-width:0.8;\" x=\"676.494219\" xlink:href=\"#m741c64a8a1\" y=\"3.419297\"/>\n      </g>\n     </g>\n     <g id=\"text_231\">\n      <!-- 1.0 -->\n      <g style=\"fill:#444443;\" transform=\"translate(683.494219 6.838594)scale(0.09 -0.09)\">\n       <use xlink:href=\"#DejaVuSans-49\"/>\n       <use x=\"63.623047\" xlink:href=\"#DejaVuSans-46\"/>\n       <use x=\"95.410156\" xlink:href=\"#DejaVuSans-48\"/>\n      </g>\n     </g>\n    </g>\n   </g>\n   <g id=\"patch_8\">\n    <path d=\"M 650.100569 531.292297 \nL 650.100569 510.177377 \nL 650.100569 24.534217 \nL 650.100569 3.419297 \nL 676.494219 3.419297 \nL 676.494219 24.534217 \nL 676.494219 510.177377 \nL 676.494219 531.292297 \nz\n\" style=\"fill:none;stroke:#ffffff;stroke-linejoin:miter;stroke-width:0.8;\"/>\n   </g>\n  </g>\n </g>\n <defs>\n  <clipPath id=\"p10732e69de\">\n   <rect height=\"524.43035\" width=\"524.43035\" x=\"102.719219\" y=\"5.140622\"/>\n  </clipPath>\n  <clipPath id=\"pa5037b7a07\">\n   <rect height=\"527.873\" width=\"26.39365\" x=\"650.100569\" y=\"3.419297\"/>\n  </clipPath>\n </defs>\n</svg>\n"
          },
          "metadata": {
            "tags": []
          },
          "execution_count": 15
        }
      ]
    },
    {
      "cell_type": "markdown",
      "metadata": {
        "id": "fPpuvf0Kl3pT"
      },
      "source": [
        "Use cross validation to select a good value for `min_samples_leaf` for a decision tree. `500` seems work pretty well."
      ]
    },
    {
      "cell_type": "code",
      "metadata": {
        "id": "G6EwSL-n2kQ4"
      },
      "source": [
        "# Decision Tree CV\n",
        "# param_grid = [\n",
        "#               {\"min_samples_leaf\": [100, 250, 500, 750, 1000]}\n",
        "# ]\n",
        "\n",
        "# dt = GridSearchCV(DecisionTreeClassifier(), param_grid)\n",
        "# dt.fit(xs_train, y_train)\n",
        "# print(\"Best parameters set found on development set:\")\n",
        "# print(dt.best_params_)\n",
        "# print()\n",
        "# print(\"Grid scores on development set:\")\n",
        "# print()\n",
        "# means = dt.cv_results_['mean_test_score']\n",
        "# stds = dt.cv_results_['std_test_score']\n",
        "# for mean, std, params in zip(means, stds, dt.cv_results_['params']):\n",
        "#     print(\"%0.3f (+/-%0.03f) for %r\"\n",
        "#           % (mean, std * 2, params))"
      ],
      "execution_count": 16,
      "outputs": []
    },
    {
      "cell_type": "markdown",
      "metadata": {
        "id": "HCdxBMib-ASC"
      },
      "source": [
        "This chart helps find an adequate `n_estimators` parameter for random forests."
      ]
    },
    {
      "cell_type": "code",
      "metadata": {
        "id": "B22SGtOM8Uaw",
        "outputId": "a1485ce2-2eb6-49ea-f264-0384952f03e9",
        "colab": {
          "base_uri": "https://localhost:8080/",
          "height": 265
        }
      },
      "source": [
        "preds = np.stack([e.predict(xs_valid) for e in rf.estimators_])\n",
        "plt.plot([roc_auc_score(preds[:i+1].mean(0).round(), y_valid) for i in range(100)]);"
      ],
      "execution_count": 17,
      "outputs": [
        {
          "output_type": "display_data",
          "data": {
            "image/png": "[encoded data removed]",
            "text/plain": [
              "<Figure size 432x288 with 1 Axes>"
            ]
          },
          "metadata": {
            "tags": [],
            "needs_background": "light"
          }
        }
      ]
    },
    {
      "cell_type": "markdown",
      "metadata": {
        "id": "tO5Mb3d-pFEm"
      },
      "source": [
        "### Other features that I tried"
      ]
    },
    {
      "cell_type": "markdown",
      "metadata": {
        "id": "a-FCeGcSiv2S"
      },
      "source": [
        "Created an attack zones feature (from http://tangotiger.net/strikezone/attack-zone_legend.png and http://tangotiger.net/strikezone/zone%20.0chart.png). This greatly improved logistic regression, but not the decision tree or random forest models."
      ]
    },
    {
      "cell_type": "code",
      "metadata": {
        "id": "VR4nwhVFJuwt",
        "outputId": "3f985392-2f21-444a-a89f-396c7f844148",
        "colab": {
          "base_uri": "https://localhost:8080/",
          "height": 415
        }
      },
      "source": [
        "attack_zones = gpd.GeoSeries(\n",
        "    {\n",
        "      # heart\n",
        "      1: box(-6.7/12.0, 34.0/12.0, -3.3/12.0, 38.0/12.0),\n",
        "      2: box(-3.3/12.0, 34.0/12.0, 3.3/12.0, 38.0/12.0),\n",
        "      3: box(3.3/12.0, 34.0/12.0, 6.7/12.0, 38.0/12.0),\n",
        "      4: box(-6.7/12.0, 26.0/12.0, -3.3/12.0, 34.0/12.0),\n",
        "      5: box(-3.3/12.0, 26.0/12.0, 3.3/12.0, 34.0/12.0),\n",
        "      6: box(3.3/12.0, 26.0/12.0, 6.7/12.0, 34.0/12.0),\n",
        "      7: box(-6.7/12.0, 22.0/12.0, -3.3/12.0, 26.0/12.0),\n",
        "      8: box(-3.3/12.0, 22.0/12.0, 3.3/12.0, 26.0/12.0),\n",
        "      9: box(3.3/12.0, 22.0/12.0, 6.7/12.0, 26.0/12.0),\n",
        "      #  shadow\n",
        "      11: box(-13.3/12.0, 38.0/12.0, -6.7/12.0, 46.0/12.0),\n",
        "      12: box(-6.7/12.0, 38.0/12.0, 6.7/12.0, 46.0/12.0),\n",
        "      13: box(6.7/12.0, 38.0/12.0, 13.3/12.0, 46.0/12.0),\n",
        "      14: box(-13.3/12.0, 22.0/12.0, -6.7/12.0, 38.0/12.0),\n",
        "      16: box(6.7/12.0, 22.0/12.0, 13/12.0, 38.0/12.0),\n",
        "      17: box(-13.3/12.0, 14.0/12.0, -6.7/12.0, 22.0/12.0),\n",
        "      18: box(-6.7/12.0, 14.0/12.0, 6.7/12.0, 22.0/12.0),\n",
        "      19: box(6.7/12.0, 14.0/12.0, 13.3/12.0, 22.0/12.0),\n",
        "      # chase\n",
        "      21: box(-20.0/12.0, 38.0/12.0, -6.7/12.0, 60/12.0),\n",
        "      22: box(-6.7/12.0, 46.0/12.0, 6.7/12.0, 60/12.0),\n",
        "      23: box(6.7/12.0, 48/12.0, 20.0/12.0, 60/12.0),\n",
        "      24: box(-20.0/12.0, 22.0/12.0, -13.3/12.0, 38.0/12.0),\n",
        "      26: box(13.3/12.0, 22.0/12.0, 20.0/12.0, 38.0/12.0),\n",
        "      27: box(-20.0/12.0, 0/12.0, -6.7/12.0, 22.0/12.0),\n",
        "      28: box(-6.7/12.0, 0/12.0, 6.7/12.0, 14.0/12.0),\n",
        "      29: box(6.7/12.0, 0/12.0, 20.0/12.0, 22.0/12.0)\n",
        "    }\n",
        ")\n",
        "\n",
        "gdf = gpd.GeoDataFrame(df, geometry=gpd.points_from_xy(df.plate_side, df.plate_height))\n",
        "\n",
        "gdf_attack_zone = (\n",
        "    gdf\n",
        "    .assign(**{f\"{key}\": gdf.geometry.within(zone) for key, zone in attack_zones.items()})\n",
        "    .assign(**{\"30\": True}) # default attack_zone aka waste region\n",
        "    .filter(items=[\"pitch_id\"] + [str(i) for i in attack_zones.keys().tolist()] + [\"30\"])\n",
        "    .set_index(\"pitch_id\")\n",
        "    .stack()\n",
        "    .reset_index()\n",
        "    .rename(columns={\n",
        "        \"level_1\": \"attack_zone\",\n",
        "        0: \"value\"\n",
        "      })\n",
        "    .query(\"value\")\n",
        "    .drop([\"value\"], axis=1)\n",
        "    .drop_duplicates(subset=\"pitch_id\")\n",
        "    .astype({\"attack_zone\": \"int\"})\n",
        "    .reset_index(drop=True)\n",
        ")\n",
        "\n",
        "df_attack_zone = pd.DataFrame(gdf_attack_zone)\n",
        "df_attack_zone"
      ],
      "execution_count": 18,
      "outputs": [
        {
          "output_type": "execute_result",
          "data": {
            "text/html": [
              "<div>\n",
              "<style scoped>\n",
              "    .dataframe tbody tr th:only-of-type {\n",
              "        vertical-align: middle;\n",
              "    }\n",
              "\n",
              "    .dataframe tbody tr th {\n",
              "        vertical-align: top;\n",
              "    }\n",
              "\n",
              "    .dataframe thead th {\n",
              "        text-align: right;\n",
              "    }\n",
              "</style>\n",
              "<table border=\"1\" class=\"dataframe\">\n",
              "  <thead>\n",
              "    <tr style=\"text-align: right;\">\n",
              "      <th></th>\n",
              "      <th>pitch_id</th>\n",
              "      <th>attack_zone</th>\n",
              "    </tr>\n",
              "  </thead>\n",
              "  <tbody>\n",
              "    <tr>\n",
              "      <th>0</th>\n",
              "      <td>a89b9e68</td>\n",
              "      <td>4</td>\n",
              "    </tr>\n",
              "    <tr>\n",
              "      <th>1</th>\n",
              "      <td>eaad389f</td>\n",
              "      <td>16</td>\n",
              "    </tr>\n",
              "    <tr>\n",
              "      <th>2</th>\n",
              "      <td>c8159d29</td>\n",
              "      <td>5</td>\n",
              "    </tr>\n",
              "    <tr>\n",
              "      <th>3</th>\n",
              "      <td>e5cde642</td>\n",
              "      <td>11</td>\n",
              "    </tr>\n",
              "    <tr>\n",
              "      <th>4</th>\n",
              "      <td>7c9410bd</td>\n",
              "      <td>14</td>\n",
              "    </tr>\n",
              "    <tr>\n",
              "      <th>...</th>\n",
              "      <td>...</td>\n",
              "      <td>...</td>\n",
              "    </tr>\n",
              "    <tr>\n",
              "      <th>1097721</th>\n",
              "      <td>4c4be361</td>\n",
              "      <td>22</td>\n",
              "    </tr>\n",
              "    <tr>\n",
              "      <th>1097722</th>\n",
              "      <td>127d2f94</td>\n",
              "      <td>30</td>\n",
              "    </tr>\n",
              "    <tr>\n",
              "      <th>1097723</th>\n",
              "      <td>d5e4c4ce</td>\n",
              "      <td>27</td>\n",
              "    </tr>\n",
              "    <tr>\n",
              "      <th>1097724</th>\n",
              "      <td>e97fa8c8</td>\n",
              "      <td>28</td>\n",
              "    </tr>\n",
              "    <tr>\n",
              "      <th>1097725</th>\n",
              "      <td>ccb8146b</td>\n",
              "      <td>9</td>\n",
              "    </tr>\n",
              "  </tbody>\n",
              "</table>\n",
              "<p>1097726 rows × 2 columns</p>\n",
              "</div>"
            ],
            "text/plain": [
              "         pitch_id  attack_zone\n",
              "0        a89b9e68            4\n",
              "1        eaad389f           16\n",
              "2        c8159d29            5\n",
              "3        e5cde642           11\n",
              "4        7c9410bd           14\n",
              "...           ...          ...\n",
              "1097721  4c4be361           22\n",
              "1097722  127d2f94           30\n",
              "1097723  d5e4c4ce           27\n",
              "1097724  e97fa8c8           28\n",
              "1097725  ccb8146b            9\n",
              "\n",
              "[1097726 rows x 2 columns]"
            ]
          },
          "metadata": {
            "tags": []
          },
          "execution_count": 18
        }
      ]
    },
    {
      "cell_type": "markdown",
      "metadata": {
        "id": "b2mjoLuYpIsE"
      },
      "source": [
        "###Other models that I tried"
      ]
    },
    {
      "cell_type": "markdown",
      "metadata": {
        "id": "aFQ4IxosAcld"
      },
      "source": [
        "Try a boosted tree using XGBoost. This leads to an accuracy of 73.9% and an roc_auc_score of 74.5%."
      ]
    },
    {
      "cell_type": "code",
      "metadata": {
        "id": "P1M0i1zHApFY",
        "outputId": "28ae162b-1375-4a8c-d2f8-7fb3952e381a",
        "colab": {
          "base_uri": "https://localhost:8080/",
          "height": 35
        }
      },
      "source": [
        "params = {\n",
        "    \"objective\": \"binary:hinge\"\n",
        "}\n",
        "\n",
        "dtrain = xgb.DMatrix(xs_train, label=y_train)\n",
        "bst = xgb.train(params, dtrain)\n",
        "dvalid = xgb.DMatrix(xs_valid)\n",
        "y_pred_bst = bst.predict(dvalid)\n",
        "print(round(accuracy_score(y_valid, y_pred_bst), 3), round(roc_auc_score(y_valid, y_pred_bst), 3))"
      ],
      "execution_count": 10,
      "outputs": [
        {
          "output_type": "stream",
          "text": [
            "0.739 0.745\n"
          ],
          "name": "stdout"
        }
      ]
    },
    {
      "cell_type": "markdown",
      "metadata": {
        "id": "y5_pUvNmlvRi"
      },
      "source": [
        "Try logistic regression. This leads to 69.6% accuracy and an ROC of 69.4% when the `attack_zones` and `balls_strikes` features are used. The below model does not include those features. "
      ]
    },
    {
      "cell_type": "code",
      "metadata": {
        "id": "dsT2XMFG5971",
        "outputId": "1708864b-fabe-4ac2-a9fd-9538bf09b66c",
        "colab": {
          "base_uri": "https://localhost:8080/",
          "height": 401
        }
      },
      "source": [
        "# Logistic Regression\n",
        "reg = LogisticRegression()\n",
        "reg.fit(xs_train, y_train)\n",
        "y_pred = reg.predict(xs_valid)\n",
        "print(accuracy_score(y_valid, y_pred))\n",
        "print(roc_auc_score(y_valid, y_pred))\n",
        "print(classification_report(y_valid, y_pred))\n",
        "print(confusion_matrix(y_valid, y_pred))"
      ],
      "execution_count": 19,
      "outputs": [
        {
          "output_type": "stream",
          "text": [
            "/usr/local/lib/python3.6/dist-packages/sklearn/linear_model/_logistic.py:940: ConvergenceWarning: lbfgs failed to converge (status=1):\n",
            "STOP: TOTAL NO. of ITERATIONS REACHED LIMIT.\n",
            "\n",
            "Increase the number of iterations (max_iter) or scale the data as shown in:\n",
            "    https://scikit-learn.org/stable/modules/preprocessing.html\n",
            "Please also refer to the documentation for alternative solver options:\n",
            "    https://scikit-learn.org/stable/modules/linear_model.html#logistic-regression\n",
            "  extra_warning_msg=_LOGISTIC_SOLVER_CONVERGENCE_MSG)\n"
          ],
          "name": "stderr"
        },
        {
          "output_type": "stream",
          "text": [
            "0.5927187791511194\n",
            "0.5867213669577174\n",
            "              precision    recall  f1-score   support\n",
            "\n",
            "           0       0.60      0.70      0.64    144639\n",
            "           1       0.59      0.48      0.52    129793\n",
            "\n",
            "    accuracy                           0.59    274432\n",
            "   macro avg       0.59      0.59      0.58    274432\n",
            "weighted avg       0.59      0.59      0.59    274432\n",
            "\n",
            "[[100898  43741]\n",
            " [ 68030  61763]]\n"
          ],
          "name": "stdout"
        }
      ]
    },
    {
      "cell_type": "markdown",
      "metadata": {
        "id": "T6AYNlZmnDIW"
      },
      "source": [
        "Try a neural network. This uses the FastAI library."
      ]
    },
    {
      "cell_type": "code",
      "metadata": {
        "id": "nMWG9rPvfnBG",
        "outputId": "2c4135de-7e1f-4e1c-8766-103a25415f00",
        "colab": {
          "base_uri": "https://localhost:8080/",
          "height": 202
        }
      },
      "source": [
        "# Neural Network\n",
        "cont_nn, cat_nn = cont_cat_split(df_clean, max_card=5000, dep_var=\"is_swing\")\n",
        "splits = (list(range(0, len(xs_train))), list(range(len(xs_train) + 1, len(df_clean))))\n",
        "to_nn = TabularPandas(df_clean, [Categorify, Normalize], cat_nn, cont_nn, y_names=\"is_swing\", y_block=CategoryBlock(), splits=splits)\n",
        "learn = tabular_learner(to_nn.dataloaders(1024), y_range=(0, 1), loss_func=CrossEntropyLossFlat(), metrics=RocAucBinary())\n",
        "# learn.lr_find()\n",
        "learn.fit_one_cycle(5, 1e-1)"
      ],
      "execution_count": 20,
      "outputs": [
        {
          "output_type": "display_data",
          "data": {
            "text/html": [
              "<table border=\"1\" class=\"dataframe\">\n",
              "  <thead>\n",
              "    <tr style=\"text-align: left;\">\n",
              "      <th>epoch</th>\n",
              "      <th>train_loss</th>\n",
              "      <th>valid_loss</th>\n",
              "      <th>roc_auc_score</th>\n",
              "      <th>time</th>\n",
              "    </tr>\n",
              "  </thead>\n",
              "  <tbody>\n",
              "    <tr>\n",
              "      <td>0</td>\n",
              "      <td>0.635334</td>\n",
              "      <td>0.646384</td>\n",
              "      <td>0.673025</td>\n",
              "      <td>00:51</td>\n",
              "    </tr>\n",
              "    <tr>\n",
              "      <td>1</td>\n",
              "      <td>0.696966</td>\n",
              "      <td>0.714821</td>\n",
              "      <td>0.567567</td>\n",
              "      <td>00:54</td>\n",
              "    </tr>\n",
              "    <tr>\n",
              "      <td>2</td>\n",
              "      <td>0.778117</td>\n",
              "      <td>0.786200</td>\n",
              "      <td>0.500000</td>\n",
              "      <td>00:51</td>\n",
              "    </tr>\n",
              "    <tr>\n",
              "      <td>3</td>\n",
              "      <td>0.780566</td>\n",
              "      <td>0.786200</td>\n",
              "      <td>0.500000</td>\n",
              "      <td>00:52</td>\n",
              "    </tr>\n",
              "    <tr>\n",
              "      <td>4</td>\n",
              "      <td>0.777397</td>\n",
              "      <td>0.786200</td>\n",
              "      <td>0.500000</td>\n",
              "      <td>00:56</td>\n",
              "    </tr>\n",
              "  </tbody>\n",
              "</table>"
            ],
            "text/plain": [
              "<IPython.core.display.HTML object>"
            ]
          },
          "metadata": {
            "tags": []
          }
        }
      ]
    }
  ]
}